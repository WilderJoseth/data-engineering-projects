{
 "cells": [
  {
   "cell_type": "markdown",
   "id": "295199b0",
   "metadata": {},
   "source": [
    "# Incentives for Zero-Emission Vehicles (iZEV) Program"
   ]
  },
  {
   "cell_type": "markdown",
   "id": "50b80e5e",
   "metadata": {},
   "source": [
    "## 1. Problem"
   ]
  },
  {
   "cell_type": "markdown",
   "id": "ae3ca3df",
   "metadata": {},
   "source": [
    "## 2. ETL process"
   ]
  },
  {
   "cell_type": "code",
   "execution_count": 179,
   "id": "e4b07c89",
   "metadata": {},
   "outputs": [],
   "source": [
    "import os\n",
    "import pandas as pd"
   ]
  },
  {
   "cell_type": "code",
   "execution_count": 180,
   "id": "6a50d383",
   "metadata": {},
   "outputs": [],
   "source": [
    "PATH_DATA = os.path.join(os.getenv(\"PATH_DATA_PROJECTS\"), \"Tabular\", \"izev\")"
   ]
  },
  {
   "cell_type": "markdown",
   "id": "b8075868",
   "metadata": {},
   "source": [
    "### 2.1. Extract"
   ]
  },
  {
   "cell_type": "code",
   "execution_count": 181,
   "id": "335b9653",
   "metadata": {},
   "outputs": [],
   "source": [
    "def get_data_preview(file_name, encoding = \"utf-8\"):\n",
    "    with open(file_name, \"r\", encoding = encoding) as file:\n",
    "        for i in range(5):\n",
    "            print(f\"Row {i}:\",file.readline())"
   ]
  },
  {
   "cell_type": "markdown",
   "id": "09000969",
   "metadata": {},
   "source": [
    "#### Get a preview of the data"
   ]
  },
  {
   "cell_type": "markdown",
   "id": "2f96b99f",
   "metadata": {},
   "source": [
    "Exploring 2019 data"
   ]
  },
  {
   "cell_type": "code",
   "execution_count": 182,
   "id": "64362293",
   "metadata": {},
   "outputs": [
    {
     "name": "stdout",
     "output_type": "stream",
     "text": [
      "Row 0: Incentive Request Date,Month and Year ,Government of Canada Fiscal Year (FY),Calendar Year,Dealership Province / Territory ,Dealership Postal Code,Purchase or Lease,Vehicle Year,Vehicle Make,Vehicle Model,Vehicle Make & Model,\"Battery-Electric Vehicle (BEV) Plug-in Hybrid Electric Vehicle (PHEV) or Fuel Cell Electric Vehicle (FCEV)\",\"BEV/PHEV/FCEV - Battery equal to or greater than 15 kWh or Electric range equal to or greater than 50 km\",\"BEV PHEV  ? 15 kWh or PHEV < 15 kWh (until April 24 2022) and PHEV ?  50 km or PHEV < 50 km and  FCEVs ? 50 km or FCEVs < 50 km (April 25 2022 onward)\",Eligible Incentive, Amount,\"Individual or Organization (Recipient)\",Recipient Province / Territory ,Country,\n",
      "\n",
      "Row 1: 2019-05-15,May 2019,2019-20,2019,British Columbia,V5C 0J4,Purchase,2019,Volkswagen,e-Golf,Volkswagen e-Golf,BEV ,YES,BEV,\"5,000\",Individual,British Columbia,Canada,\n",
      "\n",
      "Row 2: 2019-05-16,May 2019,2019-20,2019,Quebec,G3M 1W1,Purchase,2019,Nissan,Leaf,Nissan Leaf,BEV ,YES,BEV,\"5,000\",Individual,Quebec,Canada,\n",
      "\n",
      "Row 3: 2019-05-16,May 2019,2019-20,2019,Quebec,G3M 1W1,Purchase,2019,Nissan,Leaf,Nissan Leaf,BEV ,YES,BEV,\"5,000\",Individual,Quebec,Canada,\n",
      "\n",
      "Row 4: 2019-05-16,May 2019,2019-20,2019,Quebec,G3M 1W1,Purchase,2019,Nissan,Leaf,Nissan Leaf,BEV ,YES,BEV,\"5,000\",Individual,Quebec,Canada,\n",
      "\n"
     ]
    }
   ],
   "source": [
    "get_data_preview(os.path.join(PATH_DATA, \"iZEV_Data_2019.csv\"))"
   ]
  },
  {
   "cell_type": "markdown",
   "id": "02a8226b",
   "metadata": {},
   "source": [
    "Exploring 2023 data"
   ]
  },
  {
   "cell_type": "code",
   "execution_count": 183,
   "id": "75c9b0b5",
   "metadata": {},
   "outputs": [
    {
     "name": "stdout",
     "output_type": "stream",
     "text": [
      "Row 0: Incentive Request Date,Month and Year ,Government of Canada Fiscal Year (FY),Calendar Year,Dealership Province / Territory ,Dealership Postal Code,Purchase or Lease,Vehicle Year,Vehicle Make,Vehicle Model,Vehicle Make & Model,\"Battery-Electric Vehicle (BEV) Plug-in Hybrid Electric Vehicle (PHEV) or Fuel Cell Electric Vehicle (FCEV)\",\"BEV/PHEV/FCEV - Battery equal to or greater than 15 kWh or Electric range equal to or greater than 50 km\",\"BEV PHEV  ? 15 kWh or PHEV < 15 kWh (until April 24 2022) and PHEV ?  50 km or PHEV < 50 km and  FCEVs ? 50 km or FCEVs < 50 km (April 25 2022 onward)\",Eligible Incentive, Amount,\"Individual or Organization (Recipient)\",Recipient Province / Territory ,Country\n",
      "\n",
      "Row 1: 2023-04-01,April 2023,2023-24,2023,British Columbia,V6J 1H6,Purchase,2023,Audi,Q4 50 e-tron Quattro,Audi Q4 50 e-tron Quattro,BEV,YES,BEV,\"5,000\",Organization,British Columbia,Canada\n",
      "\n",
      "Row 2: 2023-04-01,April 2023,2023-24,2023,British Columbia,V6J 1H6,Purchase,2023,Audi,Q4 50 e-tron Quattro,Audi Q4 50 e-tron Quattro,BEV,YES,BEV,\"5,000\",Organization,British Columbia,Canada\n",
      "\n",
      "Row 3: 2023-04-01,April 2023,2023-24,2023,British Columbia,V6V 2M6,Purchase,2023,Lexus,NX 450h+,Lexus NX 450h+,PHEV,YES,PHEVs ? 50km,\"5,000\",Individual,British Columbia,Canada\n",
      "\n",
      "Row 4: 2023-04-01,April 2023,2023-24,2023,British Columbia,V6J 1H6,Lease,2023,Audi,Q4 50 e-tron Quattro,Audi Q4 50 e-tron Quattro,BEV,YES,BEV,\"5,000\",Individual,British Columbia,Canada\n",
      "\n"
     ]
    }
   ],
   "source": [
    "get_data_preview(os.path.join(PATH_DATA, \"iZEV_Data_2023.csv\"))"
   ]
  },
  {
   "cell_type": "markdown",
   "id": "1ac434e1",
   "metadata": {},
   "source": [
    "Exploring 2024 data"
   ]
  },
  {
   "cell_type": "code",
   "execution_count": 184,
   "id": "a75fbfd5",
   "metadata": {},
   "outputs": [
    {
     "name": "stdout",
     "output_type": "stream",
     "text": [
      "Row 0: Incentive Request Date,Month and Year ,Government of Canada Fiscal Year (FY),Calendar Year,Dealership Province / Territory ,Dealership Postal Code,Purchase or Lease,Vehicle Year,Vehicle Make,Vehicle Model,Vehicle Make & Model,\"Battery-Electric Vehicle (BEV) Plug-in Hybrid Electric Vehicle (PHEV) or Fuel Cell Electric Vehicle (FCEV)\",\"BEV/PHEV/FCEV - Battery equal to or greater than 15 kWh or Electric range equal to or greater than 50 km\",\"BEV PHEV  ? 15 kWh or PHEV < 15 kWh (until April 24 2022) and PHEV ?  50 km or PHEV < 50 km and  FCEVs ? 50 km or FCEVs < 50 km (April 25 2022 onward)\",Eligible Incentive, Amount,\"Individual or Organization (Recipient)\",Recipient Province / Territory ,Country\n",
      "\n",
      "Row 1: 2024-04-01,April 2024,2024-25,2024,British Columbia,V5L 1H7,Purchase,2023,Tesla,Model Y,Tesla Model Y,BEV ,YES ,BEV,\"5,000\",Individual,British Columbia,Canada\n",
      "\n",
      "Row 2: 2024-04-01,April 2024,2024-25,2024,British Columbia,V5L 1H7,Purchase,2023,Tesla,Model Y,Tesla Model Y,BEV ,YES ,BEV,\"5,000\",Individual,British Columbia,Canada\n",
      "\n",
      "Row 3: 2024-04-01,April 2024,2024-25,2024,British Columbia,V5L 1H7,Purchase,2023,Tesla,Model Y,Tesla Model Y,BEV ,YES ,BEV,\"5,000\",Individual,British Columbia,Canada\n",
      "\n",
      "Row 4: 2024-04-01,April 2024,2024-25,2024,British Columbia,V5L 1H7,Purchase,2023,Tesla,Model Y,Tesla Model Y,BEV ,YES ,BEV,\"5,000\",Individual,British Columbia,Canada\n",
      "\n"
     ]
    }
   ],
   "source": [
    "get_data_preview(os.path.join(PATH_DATA, \"iZEV_Data_2024.csv\"), \"windows-1252\")"
   ]
  },
  {
   "cell_type": "markdown",
   "id": "d3212599",
   "metadata": {},
   "source": [
    "**Summary:**\n",
    "\n",
    "* The name of the columns are too complex to deal with, so it is necessary to change them."
   ]
  },
  {
   "cell_type": "markdown",
   "id": "1e846e19",
   "metadata": {},
   "source": [
    "#### Read data"
   ]
  },
  {
   "cell_type": "code",
   "execution_count": 185,
   "id": "7390175e",
   "metadata": {},
   "outputs": [],
   "source": [
    "columns = [\"Request_Date\", \"Month_Year\", \"Fiscal_Year\", \"Calendar_Year\", \"Dealership_Province\", \"Dealership_Code\", \"Purchase_or_Lease\", \"Vehicle_Year\", \"Vehicle_Make\", \n",
    "            \"Vehicle_Model\", \"Vehicle_Make_Model\", \"BEV_PHEV_FCEV\", \"BEV_PHEV_FCEV_15\", \"BEV_PHEV_FCEV_15_2022\", \"Eligible_Incentive_Amount\",\n",
    "            \"Recipient\", \"Recipient_Province\", \"Country\"]"
   ]
  },
  {
   "cell_type": "markdown",
   "id": "a3fae128",
   "metadata": {},
   "source": [
    "Reading 2019 data"
   ]
  },
  {
   "cell_type": "code",
   "execution_count": 186,
   "id": "4dd49799",
   "metadata": {},
   "outputs": [
    {
     "name": "stdout",
     "output_type": "stream",
     "text": [
      "Shape: (202206, 19)\n"
     ]
    },
    {
     "data": {
      "text/html": [
       "<div>\n",
       "<style scoped>\n",
       "    .dataframe tbody tr th:only-of-type {\n",
       "        vertical-align: middle;\n",
       "    }\n",
       "\n",
       "    .dataframe tbody tr th {\n",
       "        vertical-align: top;\n",
       "    }\n",
       "\n",
       "    .dataframe thead th {\n",
       "        text-align: right;\n",
       "    }\n",
       "</style>\n",
       "<table border=\"1\" class=\"dataframe\">\n",
       "  <thead>\n",
       "    <tr style=\"text-align: right;\">\n",
       "      <th></th>\n",
       "      <th>0</th>\n",
       "      <th>1</th>\n",
       "      <th>2</th>\n",
       "      <th>3</th>\n",
       "      <th>4</th>\n",
       "      <th>5</th>\n",
       "      <th>6</th>\n",
       "      <th>7</th>\n",
       "      <th>8</th>\n",
       "      <th>9</th>\n",
       "      <th>10</th>\n",
       "      <th>11</th>\n",
       "      <th>12</th>\n",
       "      <th>13</th>\n",
       "      <th>14</th>\n",
       "      <th>15</th>\n",
       "      <th>16</th>\n",
       "      <th>17</th>\n",
       "      <th>18</th>\n",
       "    </tr>\n",
       "  </thead>\n",
       "  <tbody>\n",
       "    <tr>\n",
       "      <th>0</th>\n",
       "      <td>2019-05-15</td>\n",
       "      <td>May 2019</td>\n",
       "      <td>2019-20</td>\n",
       "      <td>2019</td>\n",
       "      <td>British Columbia</td>\n",
       "      <td>V5C 0J4</td>\n",
       "      <td>Purchase</td>\n",
       "      <td>2019</td>\n",
       "      <td>Volkswagen</td>\n",
       "      <td>e-Golf</td>\n",
       "      <td>Volkswagen e-Golf</td>\n",
       "      <td>BEV</td>\n",
       "      <td>YES</td>\n",
       "      <td>BEV</td>\n",
       "      <td>5,000</td>\n",
       "      <td>Individual</td>\n",
       "      <td>British Columbia</td>\n",
       "      <td>Canada</td>\n",
       "      <td>NaN</td>\n",
       "    </tr>\n",
       "    <tr>\n",
       "      <th>1</th>\n",
       "      <td>2019-05-16</td>\n",
       "      <td>May 2019</td>\n",
       "      <td>2019-20</td>\n",
       "      <td>2019</td>\n",
       "      <td>Quebec</td>\n",
       "      <td>G3M 1W1</td>\n",
       "      <td>Purchase</td>\n",
       "      <td>2019</td>\n",
       "      <td>Nissan</td>\n",
       "      <td>Leaf</td>\n",
       "      <td>Nissan Leaf</td>\n",
       "      <td>BEV</td>\n",
       "      <td>YES</td>\n",
       "      <td>BEV</td>\n",
       "      <td>5,000</td>\n",
       "      <td>Individual</td>\n",
       "      <td>Quebec</td>\n",
       "      <td>Canada</td>\n",
       "      <td>NaN</td>\n",
       "    </tr>\n",
       "    <tr>\n",
       "      <th>2</th>\n",
       "      <td>2019-05-16</td>\n",
       "      <td>May 2019</td>\n",
       "      <td>2019-20</td>\n",
       "      <td>2019</td>\n",
       "      <td>Quebec</td>\n",
       "      <td>G3M 1W1</td>\n",
       "      <td>Purchase</td>\n",
       "      <td>2019</td>\n",
       "      <td>Nissan</td>\n",
       "      <td>Leaf</td>\n",
       "      <td>Nissan Leaf</td>\n",
       "      <td>BEV</td>\n",
       "      <td>YES</td>\n",
       "      <td>BEV</td>\n",
       "      <td>5,000</td>\n",
       "      <td>Individual</td>\n",
       "      <td>Quebec</td>\n",
       "      <td>Canada</td>\n",
       "      <td>NaN</td>\n",
       "    </tr>\n",
       "    <tr>\n",
       "      <th>3</th>\n",
       "      <td>2019-05-16</td>\n",
       "      <td>May 2019</td>\n",
       "      <td>2019-20</td>\n",
       "      <td>2019</td>\n",
       "      <td>Quebec</td>\n",
       "      <td>G3M 1W1</td>\n",
       "      <td>Purchase</td>\n",
       "      <td>2019</td>\n",
       "      <td>Nissan</td>\n",
       "      <td>Leaf</td>\n",
       "      <td>Nissan Leaf</td>\n",
       "      <td>BEV</td>\n",
       "      <td>YES</td>\n",
       "      <td>BEV</td>\n",
       "      <td>5,000</td>\n",
       "      <td>Individual</td>\n",
       "      <td>Quebec</td>\n",
       "      <td>Canada</td>\n",
       "      <td>NaN</td>\n",
       "    </tr>\n",
       "    <tr>\n",
       "      <th>4</th>\n",
       "      <td>2019-05-16</td>\n",
       "      <td>May 2019</td>\n",
       "      <td>2019-20</td>\n",
       "      <td>2019</td>\n",
       "      <td>Quebec</td>\n",
       "      <td>J9P 7B2</td>\n",
       "      <td>Purchase</td>\n",
       "      <td>2019</td>\n",
       "      <td>Hyundai</td>\n",
       "      <td>Ioniq electric</td>\n",
       "      <td>Hyundai Ioniq electric</td>\n",
       "      <td>BEV</td>\n",
       "      <td>YES</td>\n",
       "      <td>BEV</td>\n",
       "      <td>5,000</td>\n",
       "      <td>Individual</td>\n",
       "      <td>Quebec</td>\n",
       "      <td>Canada</td>\n",
       "      <td>NaN</td>\n",
       "    </tr>\n",
       "  </tbody>\n",
       "</table>\n",
       "</div>"
      ],
      "text/plain": [
       "           0         1        2     3                 4        5         6   \\\n",
       "0  2019-05-15  May 2019  2019-20  2019  British Columbia  V5C 0J4  Purchase   \n",
       "1  2019-05-16  May 2019  2019-20  2019            Quebec  G3M 1W1  Purchase   \n",
       "2  2019-05-16  May 2019  2019-20  2019            Quebec  G3M 1W1  Purchase   \n",
       "3  2019-05-16  May 2019  2019-20  2019            Quebec  G3M 1W1  Purchase   \n",
       "4  2019-05-16  May 2019  2019-20  2019            Quebec  J9P 7B2  Purchase   \n",
       "\n",
       "     7           8               9                       10    11   12   13  \\\n",
       "0  2019  Volkswagen          e-Golf       Volkswagen e-Golf  BEV   YES  BEV   \n",
       "1  2019      Nissan            Leaf             Nissan Leaf  BEV   YES  BEV   \n",
       "2  2019      Nissan            Leaf             Nissan Leaf  BEV   YES  BEV   \n",
       "3  2019      Nissan            Leaf             Nissan Leaf  BEV   YES  BEV   \n",
       "4  2019     Hyundai  Ioniq electric  Hyundai Ioniq electric  BEV   YES  BEV   \n",
       "\n",
       "      14          15                16      17  18  \n",
       "0  5,000  Individual  British Columbia  Canada NaN  \n",
       "1  5,000  Individual            Quebec  Canada NaN  \n",
       "2  5,000  Individual            Quebec  Canada NaN  \n",
       "3  5,000  Individual            Quebec  Canada NaN  \n",
       "4  5,000  Individual            Quebec  Canada NaN  "
      ]
     },
     "execution_count": 186,
     "metadata": {},
     "output_type": "execute_result"
    }
   ],
   "source": [
    "df_2019 = pd.read_csv(os.path.join(PATH_DATA, \"iZEV_Data_2019.csv\"), sep = \",\", header = None, skiprows = 1)\n",
    "print(\"Shape:\", df_2019.shape)\n",
    "df_2019.head()"
   ]
  },
  {
   "cell_type": "code",
   "execution_count": 187,
   "id": "aeee3a4f",
   "metadata": {},
   "outputs": [
    {
     "data": {
      "text/html": [
       "<div>\n",
       "<style scoped>\n",
       "    .dataframe tbody tr th:only-of-type {\n",
       "        vertical-align: middle;\n",
       "    }\n",
       "\n",
       "    .dataframe tbody tr th {\n",
       "        vertical-align: top;\n",
       "    }\n",
       "\n",
       "    .dataframe thead th {\n",
       "        text-align: right;\n",
       "    }\n",
       "</style>\n",
       "<table border=\"1\" class=\"dataframe\">\n",
       "  <thead>\n",
       "    <tr style=\"text-align: right;\">\n",
       "      <th></th>\n",
       "      <th>Request_Date</th>\n",
       "      <th>Month_Year</th>\n",
       "      <th>Fiscal_Year</th>\n",
       "      <th>Calendar_Year</th>\n",
       "      <th>Dealership_Province</th>\n",
       "      <th>Dealership_Code</th>\n",
       "      <th>Purchase_or_Lease</th>\n",
       "      <th>Vehicle_Year</th>\n",
       "      <th>Vehicle_Make</th>\n",
       "      <th>Vehicle_Model</th>\n",
       "      <th>Vehicle_Make_Model</th>\n",
       "      <th>BEV_PHEV_FCEV</th>\n",
       "      <th>BEV_PHEV_FCEV_15</th>\n",
       "      <th>BEV_PHEV_FCEV_15_2022</th>\n",
       "      <th>Eligible_Incentive_Amount</th>\n",
       "      <th>Recipient</th>\n",
       "      <th>Recipient_Province</th>\n",
       "      <th>Country</th>\n",
       "    </tr>\n",
       "  </thead>\n",
       "  <tbody>\n",
       "    <tr>\n",
       "      <th>0</th>\n",
       "      <td>2019-05-15</td>\n",
       "      <td>May 2019</td>\n",
       "      <td>2019-20</td>\n",
       "      <td>2019</td>\n",
       "      <td>British Columbia</td>\n",
       "      <td>V5C 0J4</td>\n",
       "      <td>Purchase</td>\n",
       "      <td>2019</td>\n",
       "      <td>Volkswagen</td>\n",
       "      <td>e-Golf</td>\n",
       "      <td>Volkswagen e-Golf</td>\n",
       "      <td>BEV</td>\n",
       "      <td>YES</td>\n",
       "      <td>BEV</td>\n",
       "      <td>5,000</td>\n",
       "      <td>Individual</td>\n",
       "      <td>British Columbia</td>\n",
       "      <td>Canada</td>\n",
       "    </tr>\n",
       "    <tr>\n",
       "      <th>1</th>\n",
       "      <td>2019-05-16</td>\n",
       "      <td>May 2019</td>\n",
       "      <td>2019-20</td>\n",
       "      <td>2019</td>\n",
       "      <td>Quebec</td>\n",
       "      <td>G3M 1W1</td>\n",
       "      <td>Purchase</td>\n",
       "      <td>2019</td>\n",
       "      <td>Nissan</td>\n",
       "      <td>Leaf</td>\n",
       "      <td>Nissan Leaf</td>\n",
       "      <td>BEV</td>\n",
       "      <td>YES</td>\n",
       "      <td>BEV</td>\n",
       "      <td>5,000</td>\n",
       "      <td>Individual</td>\n",
       "      <td>Quebec</td>\n",
       "      <td>Canada</td>\n",
       "    </tr>\n",
       "    <tr>\n",
       "      <th>2</th>\n",
       "      <td>2019-05-16</td>\n",
       "      <td>May 2019</td>\n",
       "      <td>2019-20</td>\n",
       "      <td>2019</td>\n",
       "      <td>Quebec</td>\n",
       "      <td>G3M 1W1</td>\n",
       "      <td>Purchase</td>\n",
       "      <td>2019</td>\n",
       "      <td>Nissan</td>\n",
       "      <td>Leaf</td>\n",
       "      <td>Nissan Leaf</td>\n",
       "      <td>BEV</td>\n",
       "      <td>YES</td>\n",
       "      <td>BEV</td>\n",
       "      <td>5,000</td>\n",
       "      <td>Individual</td>\n",
       "      <td>Quebec</td>\n",
       "      <td>Canada</td>\n",
       "    </tr>\n",
       "    <tr>\n",
       "      <th>3</th>\n",
       "      <td>2019-05-16</td>\n",
       "      <td>May 2019</td>\n",
       "      <td>2019-20</td>\n",
       "      <td>2019</td>\n",
       "      <td>Quebec</td>\n",
       "      <td>G3M 1W1</td>\n",
       "      <td>Purchase</td>\n",
       "      <td>2019</td>\n",
       "      <td>Nissan</td>\n",
       "      <td>Leaf</td>\n",
       "      <td>Nissan Leaf</td>\n",
       "      <td>BEV</td>\n",
       "      <td>YES</td>\n",
       "      <td>BEV</td>\n",
       "      <td>5,000</td>\n",
       "      <td>Individual</td>\n",
       "      <td>Quebec</td>\n",
       "      <td>Canada</td>\n",
       "    </tr>\n",
       "    <tr>\n",
       "      <th>4</th>\n",
       "      <td>2019-05-16</td>\n",
       "      <td>May 2019</td>\n",
       "      <td>2019-20</td>\n",
       "      <td>2019</td>\n",
       "      <td>Quebec</td>\n",
       "      <td>J9P 7B2</td>\n",
       "      <td>Purchase</td>\n",
       "      <td>2019</td>\n",
       "      <td>Hyundai</td>\n",
       "      <td>Ioniq electric</td>\n",
       "      <td>Hyundai Ioniq electric</td>\n",
       "      <td>BEV</td>\n",
       "      <td>YES</td>\n",
       "      <td>BEV</td>\n",
       "      <td>5,000</td>\n",
       "      <td>Individual</td>\n",
       "      <td>Quebec</td>\n",
       "      <td>Canada</td>\n",
       "    </tr>\n",
       "  </tbody>\n",
       "</table>\n",
       "</div>"
      ],
      "text/plain": [
       "  Request_Date Month_Year Fiscal_Year  Calendar_Year Dealership_Province  \\\n",
       "0   2019-05-15   May 2019     2019-20           2019    British Columbia   \n",
       "1   2019-05-16   May 2019     2019-20           2019              Quebec   \n",
       "2   2019-05-16   May 2019     2019-20           2019              Quebec   \n",
       "3   2019-05-16   May 2019     2019-20           2019              Quebec   \n",
       "4   2019-05-16   May 2019     2019-20           2019              Quebec   \n",
       "\n",
       "  Dealership_Code Purchase_or_Lease  Vehicle_Year Vehicle_Make  \\\n",
       "0         V5C 0J4          Purchase          2019   Volkswagen   \n",
       "1         G3M 1W1          Purchase          2019       Nissan   \n",
       "2         G3M 1W1          Purchase          2019       Nissan   \n",
       "3         G3M 1W1          Purchase          2019       Nissan   \n",
       "4         J9P 7B2          Purchase          2019      Hyundai   \n",
       "\n",
       "    Vehicle_Model      Vehicle_Make_Model BEV_PHEV_FCEV BEV_PHEV_FCEV_15  \\\n",
       "0          e-Golf       Volkswagen e-Golf          BEV               YES   \n",
       "1            Leaf             Nissan Leaf          BEV               YES   \n",
       "2            Leaf             Nissan Leaf          BEV               YES   \n",
       "3            Leaf             Nissan Leaf          BEV               YES   \n",
       "4  Ioniq electric  Hyundai Ioniq electric          BEV               YES   \n",
       "\n",
       "  BEV_PHEV_FCEV_15_2022 Eligible_Incentive_Amount   Recipient  \\\n",
       "0                   BEV                     5,000  Individual   \n",
       "1                   BEV                     5,000  Individual   \n",
       "2                   BEV                     5,000  Individual   \n",
       "3                   BEV                     5,000  Individual   \n",
       "4                   BEV                     5,000  Individual   \n",
       "\n",
       "  Recipient_Province Country  \n",
       "0   British Columbia  Canada  \n",
       "1             Quebec  Canada  \n",
       "2             Quebec  Canada  \n",
       "3             Quebec  Canada  \n",
       "4             Quebec  Canada  "
      ]
     },
     "execution_count": 187,
     "metadata": {},
     "output_type": "execute_result"
    }
   ],
   "source": [
    "df_2019.drop(18, axis = 1, inplace = True)\n",
    "df_2019.columns = columns\n",
    "df_2019.head()"
   ]
  },
  {
   "cell_type": "markdown",
   "id": "5ab063c4",
   "metadata": {},
   "source": [
    "Exploring 2023 data"
   ]
  },
  {
   "cell_type": "code",
   "execution_count": 188,
   "id": "74ed073b",
   "metadata": {},
   "outputs": [
    {
     "name": "stdout",
     "output_type": "stream",
     "text": [
      "Shape: (166758, 18)\n"
     ]
    },
    {
     "data": {
      "text/html": [
       "<div>\n",
       "<style scoped>\n",
       "    .dataframe tbody tr th:only-of-type {\n",
       "        vertical-align: middle;\n",
       "    }\n",
       "\n",
       "    .dataframe tbody tr th {\n",
       "        vertical-align: top;\n",
       "    }\n",
       "\n",
       "    .dataframe thead th {\n",
       "        text-align: right;\n",
       "    }\n",
       "</style>\n",
       "<table border=\"1\" class=\"dataframe\">\n",
       "  <thead>\n",
       "    <tr style=\"text-align: right;\">\n",
       "      <th></th>\n",
       "      <th>0</th>\n",
       "      <th>1</th>\n",
       "      <th>2</th>\n",
       "      <th>3</th>\n",
       "      <th>4</th>\n",
       "      <th>5</th>\n",
       "      <th>6</th>\n",
       "      <th>7</th>\n",
       "      <th>8</th>\n",
       "      <th>9</th>\n",
       "      <th>10</th>\n",
       "      <th>11</th>\n",
       "      <th>12</th>\n",
       "      <th>13</th>\n",
       "      <th>14</th>\n",
       "      <th>15</th>\n",
       "      <th>16</th>\n",
       "      <th>17</th>\n",
       "    </tr>\n",
       "  </thead>\n",
       "  <tbody>\n",
       "    <tr>\n",
       "      <th>0</th>\n",
       "      <td>2023-04-01</td>\n",
       "      <td>April 2023</td>\n",
       "      <td>2023-24</td>\n",
       "      <td>2023.0</td>\n",
       "      <td>British Columbia</td>\n",
       "      <td>V6J 1H6</td>\n",
       "      <td>Purchase</td>\n",
       "      <td>2023.0</td>\n",
       "      <td>Audi</td>\n",
       "      <td>Q4 50 e-tron Quattro</td>\n",
       "      <td>Audi Q4 50 e-tron Quattro</td>\n",
       "      <td>BEV</td>\n",
       "      <td>YES</td>\n",
       "      <td>BEV</td>\n",
       "      <td>5,000</td>\n",
       "      <td>Organization</td>\n",
       "      <td>British Columbia</td>\n",
       "      <td>Canada</td>\n",
       "    </tr>\n",
       "    <tr>\n",
       "      <th>1</th>\n",
       "      <td>2023-04-01</td>\n",
       "      <td>April 2023</td>\n",
       "      <td>2023-24</td>\n",
       "      <td>2023.0</td>\n",
       "      <td>British Columbia</td>\n",
       "      <td>V6J 1H6</td>\n",
       "      <td>Purchase</td>\n",
       "      <td>2023.0</td>\n",
       "      <td>Audi</td>\n",
       "      <td>Q4 50 e-tron Quattro</td>\n",
       "      <td>Audi Q4 50 e-tron Quattro</td>\n",
       "      <td>BEV</td>\n",
       "      <td>YES</td>\n",
       "      <td>BEV</td>\n",
       "      <td>5,000</td>\n",
       "      <td>Organization</td>\n",
       "      <td>British Columbia</td>\n",
       "      <td>Canada</td>\n",
       "    </tr>\n",
       "    <tr>\n",
       "      <th>2</th>\n",
       "      <td>2023-04-01</td>\n",
       "      <td>April 2023</td>\n",
       "      <td>2023-24</td>\n",
       "      <td>2023.0</td>\n",
       "      <td>British Columbia</td>\n",
       "      <td>V6V 2M6</td>\n",
       "      <td>Purchase</td>\n",
       "      <td>2023.0</td>\n",
       "      <td>Lexus</td>\n",
       "      <td>NX 450h+</td>\n",
       "      <td>Lexus NX 450h+</td>\n",
       "      <td>PHEV</td>\n",
       "      <td>YES</td>\n",
       "      <td>PHEVs ? 50km</td>\n",
       "      <td>5,000</td>\n",
       "      <td>Individual</td>\n",
       "      <td>British Columbia</td>\n",
       "      <td>Canada</td>\n",
       "    </tr>\n",
       "    <tr>\n",
       "      <th>3</th>\n",
       "      <td>2023-04-01</td>\n",
       "      <td>April 2023</td>\n",
       "      <td>2023-24</td>\n",
       "      <td>2023.0</td>\n",
       "      <td>British Columbia</td>\n",
       "      <td>V6J 1H6</td>\n",
       "      <td>Lease</td>\n",
       "      <td>2023.0</td>\n",
       "      <td>Audi</td>\n",
       "      <td>Q4 50 e-tron Quattro</td>\n",
       "      <td>Audi Q4 50 e-tron Quattro</td>\n",
       "      <td>BEV</td>\n",
       "      <td>YES</td>\n",
       "      <td>BEV</td>\n",
       "      <td>5,000</td>\n",
       "      <td>Individual</td>\n",
       "      <td>British Columbia</td>\n",
       "      <td>Canada</td>\n",
       "    </tr>\n",
       "    <tr>\n",
       "      <th>4</th>\n",
       "      <td>2023-04-01</td>\n",
       "      <td>April 2023</td>\n",
       "      <td>2023-24</td>\n",
       "      <td>2023.0</td>\n",
       "      <td>Ontario</td>\n",
       "      <td>L6L 2X6</td>\n",
       "      <td>Purchase</td>\n",
       "      <td>2023.0</td>\n",
       "      <td>Mitsubishi</td>\n",
       "      <td>Outlander PHEV</td>\n",
       "      <td>Mitsubishi Outlander PHEV</td>\n",
       "      <td>PHEV</td>\n",
       "      <td>YES</td>\n",
       "      <td>PHEVs ? 50km</td>\n",
       "      <td>5,000</td>\n",
       "      <td>Individual</td>\n",
       "      <td>Ontario</td>\n",
       "      <td>Canada</td>\n",
       "    </tr>\n",
       "  </tbody>\n",
       "</table>\n",
       "</div>"
      ],
      "text/plain": [
       "           0           1        2       3                 4        5   \\\n",
       "0  2023-04-01  April 2023  2023-24  2023.0  British Columbia  V6J 1H6   \n",
       "1  2023-04-01  April 2023  2023-24  2023.0  British Columbia  V6J 1H6   \n",
       "2  2023-04-01  April 2023  2023-24  2023.0  British Columbia  V6V 2M6   \n",
       "3  2023-04-01  April 2023  2023-24  2023.0  British Columbia  V6J 1H6   \n",
       "4  2023-04-01  April 2023  2023-24  2023.0           Ontario  L6L 2X6   \n",
       "\n",
       "         6       7           8                     9   \\\n",
       "0  Purchase  2023.0        Audi  Q4 50 e-tron Quattro   \n",
       "1  Purchase  2023.0        Audi  Q4 50 e-tron Quattro   \n",
       "2  Purchase  2023.0       Lexus              NX 450h+   \n",
       "3     Lease  2023.0        Audi  Q4 50 e-tron Quattro   \n",
       "4  Purchase  2023.0  Mitsubishi        Outlander PHEV   \n",
       "\n",
       "                          10    11   12            13     14            15  \\\n",
       "0  Audi Q4 50 e-tron Quattro   BEV  YES           BEV  5,000  Organization   \n",
       "1  Audi Q4 50 e-tron Quattro   BEV  YES           BEV  5,000  Organization   \n",
       "2             Lexus NX 450h+  PHEV  YES  PHEVs ? 50km  5,000    Individual   \n",
       "3  Audi Q4 50 e-tron Quattro   BEV  YES           BEV  5,000    Individual   \n",
       "4  Mitsubishi Outlander PHEV  PHEV  YES  PHEVs ? 50km  5,000    Individual   \n",
       "\n",
       "                 16      17  \n",
       "0  British Columbia  Canada  \n",
       "1  British Columbia  Canada  \n",
       "2  British Columbia  Canada  \n",
       "3  British Columbia  Canada  \n",
       "4           Ontario  Canada  "
      ]
     },
     "execution_count": 188,
     "metadata": {},
     "output_type": "execute_result"
    }
   ],
   "source": [
    "df_2023 = pd.read_csv(os.path.join(PATH_DATA, \"iZEV_Data_2023.csv\"), sep = \",\", header = None, skiprows = 1)\n",
    "print(\"Shape:\", df_2023.shape)\n",
    "df_2023.head()"
   ]
  },
  {
   "cell_type": "code",
   "execution_count": 189,
   "id": "5758287e",
   "metadata": {},
   "outputs": [
    {
     "data": {
      "text/html": [
       "<div>\n",
       "<style scoped>\n",
       "    .dataframe tbody tr th:only-of-type {\n",
       "        vertical-align: middle;\n",
       "    }\n",
       "\n",
       "    .dataframe tbody tr th {\n",
       "        vertical-align: top;\n",
       "    }\n",
       "\n",
       "    .dataframe thead th {\n",
       "        text-align: right;\n",
       "    }\n",
       "</style>\n",
       "<table border=\"1\" class=\"dataframe\">\n",
       "  <thead>\n",
       "    <tr style=\"text-align: right;\">\n",
       "      <th></th>\n",
       "      <th>Request_Date</th>\n",
       "      <th>Month_Year</th>\n",
       "      <th>Fiscal_Year</th>\n",
       "      <th>Calendar_Year</th>\n",
       "      <th>Dealership_Province</th>\n",
       "      <th>Dealership_Code</th>\n",
       "      <th>Purchase_or_Lease</th>\n",
       "      <th>Vehicle_Year</th>\n",
       "      <th>Vehicle_Make</th>\n",
       "      <th>Vehicle_Model</th>\n",
       "      <th>Vehicle_Make_Model</th>\n",
       "      <th>BEV_PHEV_FCEV</th>\n",
       "      <th>BEV_PHEV_FCEV_15</th>\n",
       "      <th>BEV_PHEV_FCEV_15_2022</th>\n",
       "      <th>Eligible_Incentive_Amount</th>\n",
       "      <th>Recipient</th>\n",
       "      <th>Recipient_Province</th>\n",
       "      <th>Country</th>\n",
       "    </tr>\n",
       "  </thead>\n",
       "  <tbody>\n",
       "    <tr>\n",
       "      <th>0</th>\n",
       "      <td>2023-04-01</td>\n",
       "      <td>April 2023</td>\n",
       "      <td>2023-24</td>\n",
       "      <td>2023.0</td>\n",
       "      <td>British Columbia</td>\n",
       "      <td>V6J 1H6</td>\n",
       "      <td>Purchase</td>\n",
       "      <td>2023.0</td>\n",
       "      <td>Audi</td>\n",
       "      <td>Q4 50 e-tron Quattro</td>\n",
       "      <td>Audi Q4 50 e-tron Quattro</td>\n",
       "      <td>BEV</td>\n",
       "      <td>YES</td>\n",
       "      <td>BEV</td>\n",
       "      <td>5,000</td>\n",
       "      <td>Organization</td>\n",
       "      <td>British Columbia</td>\n",
       "      <td>Canada</td>\n",
       "    </tr>\n",
       "    <tr>\n",
       "      <th>1</th>\n",
       "      <td>2023-04-01</td>\n",
       "      <td>April 2023</td>\n",
       "      <td>2023-24</td>\n",
       "      <td>2023.0</td>\n",
       "      <td>British Columbia</td>\n",
       "      <td>V6J 1H6</td>\n",
       "      <td>Purchase</td>\n",
       "      <td>2023.0</td>\n",
       "      <td>Audi</td>\n",
       "      <td>Q4 50 e-tron Quattro</td>\n",
       "      <td>Audi Q4 50 e-tron Quattro</td>\n",
       "      <td>BEV</td>\n",
       "      <td>YES</td>\n",
       "      <td>BEV</td>\n",
       "      <td>5,000</td>\n",
       "      <td>Organization</td>\n",
       "      <td>British Columbia</td>\n",
       "      <td>Canada</td>\n",
       "    </tr>\n",
       "    <tr>\n",
       "      <th>2</th>\n",
       "      <td>2023-04-01</td>\n",
       "      <td>April 2023</td>\n",
       "      <td>2023-24</td>\n",
       "      <td>2023.0</td>\n",
       "      <td>British Columbia</td>\n",
       "      <td>V6V 2M6</td>\n",
       "      <td>Purchase</td>\n",
       "      <td>2023.0</td>\n",
       "      <td>Lexus</td>\n",
       "      <td>NX 450h+</td>\n",
       "      <td>Lexus NX 450h+</td>\n",
       "      <td>PHEV</td>\n",
       "      <td>YES</td>\n",
       "      <td>PHEVs ? 50km</td>\n",
       "      <td>5,000</td>\n",
       "      <td>Individual</td>\n",
       "      <td>British Columbia</td>\n",
       "      <td>Canada</td>\n",
       "    </tr>\n",
       "    <tr>\n",
       "      <th>3</th>\n",
       "      <td>2023-04-01</td>\n",
       "      <td>April 2023</td>\n",
       "      <td>2023-24</td>\n",
       "      <td>2023.0</td>\n",
       "      <td>British Columbia</td>\n",
       "      <td>V6J 1H6</td>\n",
       "      <td>Lease</td>\n",
       "      <td>2023.0</td>\n",
       "      <td>Audi</td>\n",
       "      <td>Q4 50 e-tron Quattro</td>\n",
       "      <td>Audi Q4 50 e-tron Quattro</td>\n",
       "      <td>BEV</td>\n",
       "      <td>YES</td>\n",
       "      <td>BEV</td>\n",
       "      <td>5,000</td>\n",
       "      <td>Individual</td>\n",
       "      <td>British Columbia</td>\n",
       "      <td>Canada</td>\n",
       "    </tr>\n",
       "    <tr>\n",
       "      <th>4</th>\n",
       "      <td>2023-04-01</td>\n",
       "      <td>April 2023</td>\n",
       "      <td>2023-24</td>\n",
       "      <td>2023.0</td>\n",
       "      <td>Ontario</td>\n",
       "      <td>L6L 2X6</td>\n",
       "      <td>Purchase</td>\n",
       "      <td>2023.0</td>\n",
       "      <td>Mitsubishi</td>\n",
       "      <td>Outlander PHEV</td>\n",
       "      <td>Mitsubishi Outlander PHEV</td>\n",
       "      <td>PHEV</td>\n",
       "      <td>YES</td>\n",
       "      <td>PHEVs ? 50km</td>\n",
       "      <td>5,000</td>\n",
       "      <td>Individual</td>\n",
       "      <td>Ontario</td>\n",
       "      <td>Canada</td>\n",
       "    </tr>\n",
       "  </tbody>\n",
       "</table>\n",
       "</div>"
      ],
      "text/plain": [
       "  Request_Date  Month_Year Fiscal_Year  Calendar_Year Dealership_Province  \\\n",
       "0   2023-04-01  April 2023     2023-24         2023.0    British Columbia   \n",
       "1   2023-04-01  April 2023     2023-24         2023.0    British Columbia   \n",
       "2   2023-04-01  April 2023     2023-24         2023.0    British Columbia   \n",
       "3   2023-04-01  April 2023     2023-24         2023.0    British Columbia   \n",
       "4   2023-04-01  April 2023     2023-24         2023.0             Ontario   \n",
       "\n",
       "  Dealership_Code Purchase_or_Lease  Vehicle_Year Vehicle_Make  \\\n",
       "0         V6J 1H6          Purchase        2023.0         Audi   \n",
       "1         V6J 1H6          Purchase        2023.0         Audi   \n",
       "2         V6V 2M6          Purchase        2023.0        Lexus   \n",
       "3         V6J 1H6             Lease        2023.0         Audi   \n",
       "4         L6L 2X6          Purchase        2023.0   Mitsubishi   \n",
       "\n",
       "          Vehicle_Model         Vehicle_Make_Model BEV_PHEV_FCEV  \\\n",
       "0  Q4 50 e-tron Quattro  Audi Q4 50 e-tron Quattro           BEV   \n",
       "1  Q4 50 e-tron Quattro  Audi Q4 50 e-tron Quattro           BEV   \n",
       "2              NX 450h+             Lexus NX 450h+          PHEV   \n",
       "3  Q4 50 e-tron Quattro  Audi Q4 50 e-tron Quattro           BEV   \n",
       "4        Outlander PHEV  Mitsubishi Outlander PHEV          PHEV   \n",
       "\n",
       "  BEV_PHEV_FCEV_15 BEV_PHEV_FCEV_15_2022 Eligible_Incentive_Amount  \\\n",
       "0              YES                   BEV                     5,000   \n",
       "1              YES                   BEV                     5,000   \n",
       "2              YES          PHEVs ? 50km                     5,000   \n",
       "3              YES                   BEV                     5,000   \n",
       "4              YES          PHEVs ? 50km                     5,000   \n",
       "\n",
       "      Recipient Recipient_Province Country  \n",
       "0  Organization   British Columbia  Canada  \n",
       "1  Organization   British Columbia  Canada  \n",
       "2    Individual   British Columbia  Canada  \n",
       "3    Individual   British Columbia  Canada  \n",
       "4    Individual            Ontario  Canada  "
      ]
     },
     "execution_count": 189,
     "metadata": {},
     "output_type": "execute_result"
    }
   ],
   "source": [
    "df_2023.columns = columns\n",
    "df_2023.head()"
   ]
  },
  {
   "cell_type": "markdown",
   "id": "7f09ff39",
   "metadata": {},
   "source": [
    "Exploring 2024 data"
   ]
  },
  {
   "cell_type": "code",
   "execution_count": 190,
   "id": "3e7d9e5a",
   "metadata": {},
   "outputs": [
    {
     "name": "stdout",
     "output_type": "stream",
     "text": [
      "Shape: (90325, 18)\n"
     ]
    },
    {
     "data": {
      "text/html": [
       "<div>\n",
       "<style scoped>\n",
       "    .dataframe tbody tr th:only-of-type {\n",
       "        vertical-align: middle;\n",
       "    }\n",
       "\n",
       "    .dataframe tbody tr th {\n",
       "        vertical-align: top;\n",
       "    }\n",
       "\n",
       "    .dataframe thead th {\n",
       "        text-align: right;\n",
       "    }\n",
       "</style>\n",
       "<table border=\"1\" class=\"dataframe\">\n",
       "  <thead>\n",
       "    <tr style=\"text-align: right;\">\n",
       "      <th></th>\n",
       "      <th>0</th>\n",
       "      <th>1</th>\n",
       "      <th>2</th>\n",
       "      <th>3</th>\n",
       "      <th>4</th>\n",
       "      <th>5</th>\n",
       "      <th>6</th>\n",
       "      <th>7</th>\n",
       "      <th>8</th>\n",
       "      <th>9</th>\n",
       "      <th>10</th>\n",
       "      <th>11</th>\n",
       "      <th>12</th>\n",
       "      <th>13</th>\n",
       "      <th>14</th>\n",
       "      <th>15</th>\n",
       "      <th>16</th>\n",
       "      <th>17</th>\n",
       "    </tr>\n",
       "  </thead>\n",
       "  <tbody>\n",
       "    <tr>\n",
       "      <th>0</th>\n",
       "      <td>2024-04-01</td>\n",
       "      <td>April 2024</td>\n",
       "      <td>2024-25</td>\n",
       "      <td>2024</td>\n",
       "      <td>British Columbia</td>\n",
       "      <td>V5L 1H7</td>\n",
       "      <td>Purchase</td>\n",
       "      <td>2023</td>\n",
       "      <td>Tesla</td>\n",
       "      <td>Model Y</td>\n",
       "      <td>Tesla Model Y</td>\n",
       "      <td>BEV</td>\n",
       "      <td>YES</td>\n",
       "      <td>BEV</td>\n",
       "      <td>5,000</td>\n",
       "      <td>Individual</td>\n",
       "      <td>British Columbia</td>\n",
       "      <td>Canada</td>\n",
       "    </tr>\n",
       "    <tr>\n",
       "      <th>1</th>\n",
       "      <td>2024-04-01</td>\n",
       "      <td>April 2024</td>\n",
       "      <td>2024-25</td>\n",
       "      <td>2024</td>\n",
       "      <td>British Columbia</td>\n",
       "      <td>V5L 1H7</td>\n",
       "      <td>Purchase</td>\n",
       "      <td>2023</td>\n",
       "      <td>Tesla</td>\n",
       "      <td>Model Y</td>\n",
       "      <td>Tesla Model Y</td>\n",
       "      <td>BEV</td>\n",
       "      <td>YES</td>\n",
       "      <td>BEV</td>\n",
       "      <td>5,000</td>\n",
       "      <td>Individual</td>\n",
       "      <td>British Columbia</td>\n",
       "      <td>Canada</td>\n",
       "    </tr>\n",
       "    <tr>\n",
       "      <th>2</th>\n",
       "      <td>2024-04-01</td>\n",
       "      <td>April 2024</td>\n",
       "      <td>2024-25</td>\n",
       "      <td>2024</td>\n",
       "      <td>British Columbia</td>\n",
       "      <td>V5L 1H7</td>\n",
       "      <td>Purchase</td>\n",
       "      <td>2023</td>\n",
       "      <td>Tesla</td>\n",
       "      <td>Model Y</td>\n",
       "      <td>Tesla Model Y</td>\n",
       "      <td>BEV</td>\n",
       "      <td>YES</td>\n",
       "      <td>BEV</td>\n",
       "      <td>5,000</td>\n",
       "      <td>Individual</td>\n",
       "      <td>British Columbia</td>\n",
       "      <td>Canada</td>\n",
       "    </tr>\n",
       "    <tr>\n",
       "      <th>3</th>\n",
       "      <td>2024-04-01</td>\n",
       "      <td>April 2024</td>\n",
       "      <td>2024-25</td>\n",
       "      <td>2024</td>\n",
       "      <td>British Columbia</td>\n",
       "      <td>V5L 1H7</td>\n",
       "      <td>Purchase</td>\n",
       "      <td>2023</td>\n",
       "      <td>Tesla</td>\n",
       "      <td>Model Y</td>\n",
       "      <td>Tesla Model Y</td>\n",
       "      <td>BEV</td>\n",
       "      <td>YES</td>\n",
       "      <td>BEV</td>\n",
       "      <td>5,000</td>\n",
       "      <td>Individual</td>\n",
       "      <td>British Columbia</td>\n",
       "      <td>Canada</td>\n",
       "    </tr>\n",
       "    <tr>\n",
       "      <th>4</th>\n",
       "      <td>2024-04-01</td>\n",
       "      <td>April 2024</td>\n",
       "      <td>2024-25</td>\n",
       "      <td>2024</td>\n",
       "      <td>British Columbia</td>\n",
       "      <td>V5L 1H7</td>\n",
       "      <td>Purchase</td>\n",
       "      <td>2023</td>\n",
       "      <td>Tesla</td>\n",
       "      <td>Model Y</td>\n",
       "      <td>Tesla Model Y</td>\n",
       "      <td>BEV</td>\n",
       "      <td>YES</td>\n",
       "      <td>BEV</td>\n",
       "      <td>5,000</td>\n",
       "      <td>Individual</td>\n",
       "      <td>British Columbia</td>\n",
       "      <td>Canada</td>\n",
       "    </tr>\n",
       "  </tbody>\n",
       "</table>\n",
       "</div>"
      ],
      "text/plain": [
       "           0           1        2     3                 4        5         6   \\\n",
       "0  2024-04-01  April 2024  2024-25  2024  British Columbia  V5L 1H7  Purchase   \n",
       "1  2024-04-01  April 2024  2024-25  2024  British Columbia  V5L 1H7  Purchase   \n",
       "2  2024-04-01  April 2024  2024-25  2024  British Columbia  V5L 1H7  Purchase   \n",
       "3  2024-04-01  April 2024  2024-25  2024  British Columbia  V5L 1H7  Purchase   \n",
       "4  2024-04-01  April 2024  2024-25  2024  British Columbia  V5L 1H7  Purchase   \n",
       "\n",
       "     7      8        9              10    11    12   13     14          15  \\\n",
       "0  2023  Tesla  Model Y  Tesla Model Y  BEV   YES   BEV  5,000  Individual   \n",
       "1  2023  Tesla  Model Y  Tesla Model Y  BEV   YES   BEV  5,000  Individual   \n",
       "2  2023  Tesla  Model Y  Tesla Model Y  BEV   YES   BEV  5,000  Individual   \n",
       "3  2023  Tesla  Model Y  Tesla Model Y  BEV   YES   BEV  5,000  Individual   \n",
       "4  2023  Tesla  Model Y  Tesla Model Y  BEV   YES   BEV  5,000  Individual   \n",
       "\n",
       "                 16      17  \n",
       "0  British Columbia  Canada  \n",
       "1  British Columbia  Canada  \n",
       "2  British Columbia  Canada  \n",
       "3  British Columbia  Canada  \n",
       "4  British Columbia  Canada  "
      ]
     },
     "execution_count": 190,
     "metadata": {},
     "output_type": "execute_result"
    }
   ],
   "source": [
    "df_2024 = pd.read_csv(os.path.join(PATH_DATA, \"iZEV_Data_2024.csv\"), sep = \",\", header = None, skiprows = 1, encoding = \"windows-1252\")\n",
    "print(\"Shape:\", df_2024.shape)\n",
    "df_2024.head()"
   ]
  },
  {
   "cell_type": "code",
   "execution_count": 191,
   "id": "9fc86180",
   "metadata": {},
   "outputs": [
    {
     "data": {
      "text/html": [
       "<div>\n",
       "<style scoped>\n",
       "    .dataframe tbody tr th:only-of-type {\n",
       "        vertical-align: middle;\n",
       "    }\n",
       "\n",
       "    .dataframe tbody tr th {\n",
       "        vertical-align: top;\n",
       "    }\n",
       "\n",
       "    .dataframe thead th {\n",
       "        text-align: right;\n",
       "    }\n",
       "</style>\n",
       "<table border=\"1\" class=\"dataframe\">\n",
       "  <thead>\n",
       "    <tr style=\"text-align: right;\">\n",
       "      <th></th>\n",
       "      <th>Request_Date</th>\n",
       "      <th>Month_Year</th>\n",
       "      <th>Fiscal_Year</th>\n",
       "      <th>Calendar_Year</th>\n",
       "      <th>Dealership_Province</th>\n",
       "      <th>Dealership_Code</th>\n",
       "      <th>Purchase_or_Lease</th>\n",
       "      <th>Vehicle_Year</th>\n",
       "      <th>Vehicle_Make</th>\n",
       "      <th>Vehicle_Model</th>\n",
       "      <th>Vehicle_Make_Model</th>\n",
       "      <th>BEV_PHEV_FCEV</th>\n",
       "      <th>BEV_PHEV_FCEV_15</th>\n",
       "      <th>BEV_PHEV_FCEV_15_2022</th>\n",
       "      <th>Eligible_Incentive_Amount</th>\n",
       "      <th>Recipient</th>\n",
       "      <th>Recipient_Province</th>\n",
       "      <th>Country</th>\n",
       "    </tr>\n",
       "  </thead>\n",
       "  <tbody>\n",
       "    <tr>\n",
       "      <th>0</th>\n",
       "      <td>2024-04-01</td>\n",
       "      <td>April 2024</td>\n",
       "      <td>2024-25</td>\n",
       "      <td>2024</td>\n",
       "      <td>British Columbia</td>\n",
       "      <td>V5L 1H7</td>\n",
       "      <td>Purchase</td>\n",
       "      <td>2023</td>\n",
       "      <td>Tesla</td>\n",
       "      <td>Model Y</td>\n",
       "      <td>Tesla Model Y</td>\n",
       "      <td>BEV</td>\n",
       "      <td>YES</td>\n",
       "      <td>BEV</td>\n",
       "      <td>5,000</td>\n",
       "      <td>Individual</td>\n",
       "      <td>British Columbia</td>\n",
       "      <td>Canada</td>\n",
       "    </tr>\n",
       "    <tr>\n",
       "      <th>1</th>\n",
       "      <td>2024-04-01</td>\n",
       "      <td>April 2024</td>\n",
       "      <td>2024-25</td>\n",
       "      <td>2024</td>\n",
       "      <td>British Columbia</td>\n",
       "      <td>V5L 1H7</td>\n",
       "      <td>Purchase</td>\n",
       "      <td>2023</td>\n",
       "      <td>Tesla</td>\n",
       "      <td>Model Y</td>\n",
       "      <td>Tesla Model Y</td>\n",
       "      <td>BEV</td>\n",
       "      <td>YES</td>\n",
       "      <td>BEV</td>\n",
       "      <td>5,000</td>\n",
       "      <td>Individual</td>\n",
       "      <td>British Columbia</td>\n",
       "      <td>Canada</td>\n",
       "    </tr>\n",
       "    <tr>\n",
       "      <th>2</th>\n",
       "      <td>2024-04-01</td>\n",
       "      <td>April 2024</td>\n",
       "      <td>2024-25</td>\n",
       "      <td>2024</td>\n",
       "      <td>British Columbia</td>\n",
       "      <td>V5L 1H7</td>\n",
       "      <td>Purchase</td>\n",
       "      <td>2023</td>\n",
       "      <td>Tesla</td>\n",
       "      <td>Model Y</td>\n",
       "      <td>Tesla Model Y</td>\n",
       "      <td>BEV</td>\n",
       "      <td>YES</td>\n",
       "      <td>BEV</td>\n",
       "      <td>5,000</td>\n",
       "      <td>Individual</td>\n",
       "      <td>British Columbia</td>\n",
       "      <td>Canada</td>\n",
       "    </tr>\n",
       "    <tr>\n",
       "      <th>3</th>\n",
       "      <td>2024-04-01</td>\n",
       "      <td>April 2024</td>\n",
       "      <td>2024-25</td>\n",
       "      <td>2024</td>\n",
       "      <td>British Columbia</td>\n",
       "      <td>V5L 1H7</td>\n",
       "      <td>Purchase</td>\n",
       "      <td>2023</td>\n",
       "      <td>Tesla</td>\n",
       "      <td>Model Y</td>\n",
       "      <td>Tesla Model Y</td>\n",
       "      <td>BEV</td>\n",
       "      <td>YES</td>\n",
       "      <td>BEV</td>\n",
       "      <td>5,000</td>\n",
       "      <td>Individual</td>\n",
       "      <td>British Columbia</td>\n",
       "      <td>Canada</td>\n",
       "    </tr>\n",
       "    <tr>\n",
       "      <th>4</th>\n",
       "      <td>2024-04-01</td>\n",
       "      <td>April 2024</td>\n",
       "      <td>2024-25</td>\n",
       "      <td>2024</td>\n",
       "      <td>British Columbia</td>\n",
       "      <td>V5L 1H7</td>\n",
       "      <td>Purchase</td>\n",
       "      <td>2023</td>\n",
       "      <td>Tesla</td>\n",
       "      <td>Model Y</td>\n",
       "      <td>Tesla Model Y</td>\n",
       "      <td>BEV</td>\n",
       "      <td>YES</td>\n",
       "      <td>BEV</td>\n",
       "      <td>5,000</td>\n",
       "      <td>Individual</td>\n",
       "      <td>British Columbia</td>\n",
       "      <td>Canada</td>\n",
       "    </tr>\n",
       "  </tbody>\n",
       "</table>\n",
       "</div>"
      ],
      "text/plain": [
       "  Request_Date  Month_Year Fiscal_Year  Calendar_Year Dealership_Province  \\\n",
       "0   2024-04-01  April 2024     2024-25           2024    British Columbia   \n",
       "1   2024-04-01  April 2024     2024-25           2024    British Columbia   \n",
       "2   2024-04-01  April 2024     2024-25           2024    British Columbia   \n",
       "3   2024-04-01  April 2024     2024-25           2024    British Columbia   \n",
       "4   2024-04-01  April 2024     2024-25           2024    British Columbia   \n",
       "\n",
       "  Dealership_Code Purchase_or_Lease  Vehicle_Year Vehicle_Make Vehicle_Model  \\\n",
       "0         V5L 1H7          Purchase          2023        Tesla       Model Y   \n",
       "1         V5L 1H7          Purchase          2023        Tesla       Model Y   \n",
       "2         V5L 1H7          Purchase          2023        Tesla       Model Y   \n",
       "3         V5L 1H7          Purchase          2023        Tesla       Model Y   \n",
       "4         V5L 1H7          Purchase          2023        Tesla       Model Y   \n",
       "\n",
       "  Vehicle_Make_Model BEV_PHEV_FCEV BEV_PHEV_FCEV_15 BEV_PHEV_FCEV_15_2022  \\\n",
       "0      Tesla Model Y          BEV              YES                    BEV   \n",
       "1      Tesla Model Y          BEV              YES                    BEV   \n",
       "2      Tesla Model Y          BEV              YES                    BEV   \n",
       "3      Tesla Model Y          BEV              YES                    BEV   \n",
       "4      Tesla Model Y          BEV              YES                    BEV   \n",
       "\n",
       "  Eligible_Incentive_Amount   Recipient Recipient_Province Country  \n",
       "0                     5,000  Individual   British Columbia  Canada  \n",
       "1                     5,000  Individual   British Columbia  Canada  \n",
       "2                     5,000  Individual   British Columbia  Canada  \n",
       "3                     5,000  Individual   British Columbia  Canada  \n",
       "4                     5,000  Individual   British Columbia  Canada  "
      ]
     },
     "execution_count": 191,
     "metadata": {},
     "output_type": "execute_result"
    }
   ],
   "source": [
    "df_2024.columns = columns\n",
    "df_2024.head()"
   ]
  },
  {
   "cell_type": "markdown",
   "id": "d9b703f0",
   "metadata": {},
   "source": [
    "### 2.2. Transform"
   ]
  },
  {
   "cell_type": "markdown",
   "id": "74e399af",
   "metadata": {},
   "source": [
    "#### 2.2.1. Data profiling"
   ]
  },
  {
   "cell_type": "markdown",
   "id": "271f0b80",
   "metadata": {},
   "source": [
    "##### 2.2.1.1. Identify missing values"
   ]
  },
  {
   "cell_type": "markdown",
   "id": "c7a32412",
   "metadata": {},
   "source": [
    "**Data 2019**"
   ]
  },
  {
   "cell_type": "code",
   "execution_count": 192,
   "id": "c2f9b390",
   "metadata": {},
   "outputs": [
    {
     "name": "stdout",
     "output_type": "stream",
     "text": [
      "Total missing values by columns:\n"
     ]
    },
    {
     "data": {
      "text/plain": [
       "Request_Date                 0\n",
       "Month_Year                   0\n",
       "Fiscal_Year                  0\n",
       "Calendar_Year                0\n",
       "Dealership_Province          0\n",
       "Dealership_Code              0\n",
       "Purchase_or_Lease            0\n",
       "Vehicle_Year                 0\n",
       "Vehicle_Make                 0\n",
       "Vehicle_Model                0\n",
       "Vehicle_Make_Model           0\n",
       "BEV_PHEV_FCEV                0\n",
       "BEV_PHEV_FCEV_15             0\n",
       "BEV_PHEV_FCEV_15_2022        0\n",
       "Eligible_Incentive_Amount    0\n",
       "Recipient                    0\n",
       "Recipient_Province           0\n",
       "Country                      0\n",
       "dtype: int64"
      ]
     },
     "execution_count": 192,
     "metadata": {},
     "output_type": "execute_result"
    }
   ],
   "source": [
    "print(\"Total missing values by columns:\")\n",
    "df_2019.isnull().sum()"
   ]
  },
  {
   "cell_type": "markdown",
   "id": "dd0d9ae1",
   "metadata": {},
   "source": [
    "Summary:\n",
    "\n",
    "* There are no missing values."
   ]
  },
  {
   "cell_type": "markdown",
   "id": "d8c26f91",
   "metadata": {},
   "source": [
    "**Data 2023**"
   ]
  },
  {
   "cell_type": "code",
   "execution_count": 193,
   "id": "695bb37b",
   "metadata": {},
   "outputs": [
    {
     "name": "stdout",
     "output_type": "stream",
     "text": [
      "Total missing values by columns:\n"
     ]
    },
    {
     "data": {
      "text/plain": [
       "Request_Date                 1\n",
       "Month_Year                   1\n",
       "Fiscal_Year                  1\n",
       "Calendar_Year                1\n",
       "Dealership_Province          1\n",
       "Dealership_Code              1\n",
       "Purchase_or_Lease            1\n",
       "Vehicle_Year                 1\n",
       "Vehicle_Make                 1\n",
       "Vehicle_Model                1\n",
       "Vehicle_Make_Model           1\n",
       "BEV_PHEV_FCEV                1\n",
       "BEV_PHEV_FCEV_15             1\n",
       "BEV_PHEV_FCEV_15_2022        1\n",
       "Eligible_Incentive_Amount    1\n",
       "Recipient                    1\n",
       "Recipient_Province           1\n",
       "Country                      1\n",
       "dtype: int64"
      ]
     },
     "execution_count": 193,
     "metadata": {},
     "output_type": "execute_result"
    }
   ],
   "source": [
    "print(\"Total missing values by columns:\")\n",
    "df_2023.isnull().sum()"
   ]
  },
  {
   "cell_type": "markdown",
   "id": "f347c5d5",
   "metadata": {},
   "source": [
    "Summary:\n",
    "\n",
    "* There is an entire row of missing values."
   ]
  },
  {
   "cell_type": "markdown",
   "id": "66f98bd6",
   "metadata": {},
   "source": [
    "**Data 2024**"
   ]
  },
  {
   "cell_type": "code",
   "execution_count": 194,
   "id": "809a03dd",
   "metadata": {},
   "outputs": [
    {
     "name": "stdout",
     "output_type": "stream",
     "text": [
      "Total missing values by columns:\n"
     ]
    },
    {
     "data": {
      "text/plain": [
       "Request_Date                 0\n",
       "Month_Year                   0\n",
       "Fiscal_Year                  0\n",
       "Calendar_Year                0\n",
       "Dealership_Province          0\n",
       "Dealership_Code              0\n",
       "Purchase_or_Lease            0\n",
       "Vehicle_Year                 0\n",
       "Vehicle_Make                 0\n",
       "Vehicle_Model                0\n",
       "Vehicle_Make_Model           0\n",
       "BEV_PHEV_FCEV                0\n",
       "BEV_PHEV_FCEV_15             0\n",
       "BEV_PHEV_FCEV_15_2022        0\n",
       "Eligible_Incentive_Amount    0\n",
       "Recipient                    0\n",
       "Recipient_Province           0\n",
       "Country                      0\n",
       "dtype: int64"
      ]
     },
     "execution_count": 194,
     "metadata": {},
     "output_type": "execute_result"
    }
   ],
   "source": [
    "print(\"Total missing values by columns:\")\n",
    "df_2024.isnull().sum()"
   ]
  },
  {
   "cell_type": "markdown",
   "id": "e76c346c",
   "metadata": {},
   "source": [
    "Summary:\n",
    "\n",
    "* There are no missing values."
   ]
  },
  {
   "cell_type": "markdown",
   "id": "fadddd56",
   "metadata": {},
   "source": [
    "##### 2.2.1.2. Identify duplicate values"
   ]
  },
  {
   "cell_type": "markdown",
   "id": "7b5b2013",
   "metadata": {},
   "source": [
    "**Data 2019**"
   ]
  },
  {
   "cell_type": "code",
   "execution_count": 195,
   "id": "4c6daec5",
   "metadata": {},
   "outputs": [
    {
     "name": "stdout",
     "output_type": "stream",
     "text": [
      "Total duplicated values 75232 from 202206\n"
     ]
    }
   ],
   "source": [
    "print(f\"Total duplicated values {df_2019.duplicated().sum()} from {df_2019.duplicated().count()}\")"
   ]
  },
  {
   "cell_type": "markdown",
   "id": "6b357550",
   "metadata": {},
   "source": [
    "**Data 2023**"
   ]
  },
  {
   "cell_type": "code",
   "execution_count": 196,
   "id": "fc14e654",
   "metadata": {},
   "outputs": [
    {
     "name": "stdout",
     "output_type": "stream",
     "text": [
      "Total duplicated values 69434 from 166758\n"
     ]
    }
   ],
   "source": [
    "print(f\"Total duplicated values {df_2023.duplicated().sum()} from {df_2023.duplicated().count()}\")"
   ]
  },
  {
   "cell_type": "markdown",
   "id": "97c08e35",
   "metadata": {},
   "source": [
    "**Data 2024**"
   ]
  },
  {
   "cell_type": "code",
   "execution_count": 197,
   "id": "b13b7ab6",
   "metadata": {},
   "outputs": [
    {
     "name": "stdout",
     "output_type": "stream",
     "text": [
      "Total duplicated values 30231 from 90325\n"
     ]
    }
   ],
   "source": [
    "print(f\"Total duplicated values {df_2024.duplicated().sum()} from {df_2024.duplicated().count()}\")"
   ]
  },
  {
   "cell_type": "markdown",
   "id": "193b7422",
   "metadata": {},
   "source": [
    "##### 2.2.1.3. Validate data consistency "
   ]
  },
  {
   "cell_type": "code",
   "execution_count": 198,
   "id": "2fbf3159",
   "metadata": {},
   "outputs": [],
   "source": [
    "from datetime import datetime"
   ]
  },
  {
   "cell_type": "code",
   "execution_count": 199,
   "id": "b069265f",
   "metadata": {},
   "outputs": [],
   "source": [
    "def validate_date(date_string):\n",
    "    try:\n",
    "        datetime.strptime(date_string, \"%Y-%m-%d\")\n",
    "        return True\n",
    "    except ValueError:\n",
    "        return False"
   ]
  },
  {
   "cell_type": "code",
   "execution_count": 200,
   "id": "9c36aef4",
   "metadata": {},
   "outputs": [],
   "source": [
    "def validate_number(number_string):\n",
    "    try:\n",
    "        float(number_string)\n",
    "        return True\n",
    "    except ValueError:\n",
    "        return False"
   ]
  },
  {
   "cell_type": "markdown",
   "id": "52e43cd9",
   "metadata": {},
   "source": [
    "**Data 2019**"
   ]
  },
  {
   "cell_type": "code",
   "execution_count": 201,
   "id": "9738af1e",
   "metadata": {},
   "outputs": [
    {
     "name": "stdout",
     "output_type": "stream",
     "text": [
      "<class 'pandas.core.frame.DataFrame'>\n",
      "RangeIndex: 202206 entries, 0 to 202205\n",
      "Data columns (total 18 columns):\n",
      " #   Column                     Non-Null Count   Dtype \n",
      "---  ------                     --------------   ----- \n",
      " 0   Request_Date               202206 non-null  object\n",
      " 1   Month_Year                 202206 non-null  object\n",
      " 2   Fiscal_Year                202206 non-null  object\n",
      " 3   Calendar_Year              202206 non-null  int64 \n",
      " 4   Dealership_Province        202206 non-null  object\n",
      " 5   Dealership_Code            202206 non-null  object\n",
      " 6   Purchase_or_Lease          202206 non-null  object\n",
      " 7   Vehicle_Year               202206 non-null  int64 \n",
      " 8   Vehicle_Make               202206 non-null  object\n",
      " 9   Vehicle_Model              202206 non-null  object\n",
      " 10  Vehicle_Make_Model         202206 non-null  object\n",
      " 11  BEV_PHEV_FCEV              202206 non-null  object\n",
      " 12  BEV_PHEV_FCEV_15           202206 non-null  object\n",
      " 13  BEV_PHEV_FCEV_15_2022      202206 non-null  object\n",
      " 14  Eligible_Incentive_Amount  202206 non-null  object\n",
      " 15  Recipient                  202206 non-null  object\n",
      " 16  Recipient_Province         202206 non-null  object\n",
      " 17  Country                    202206 non-null  object\n",
      "dtypes: int64(2), object(16)\n",
      "memory usage: 27.8+ MB\n"
     ]
    }
   ],
   "source": [
    "df_2019.info()"
   ]
  },
  {
   "cell_type": "code",
   "execution_count": 202,
   "id": "5cf19706",
   "metadata": {},
   "outputs": [
    {
     "data": {
      "text/html": [
       "<div>\n",
       "<style scoped>\n",
       "    .dataframe tbody tr th:only-of-type {\n",
       "        vertical-align: middle;\n",
       "    }\n",
       "\n",
       "    .dataframe tbody tr th {\n",
       "        vertical-align: top;\n",
       "    }\n",
       "\n",
       "    .dataframe thead th {\n",
       "        text-align: right;\n",
       "    }\n",
       "</style>\n",
       "<table border=\"1\" class=\"dataframe\">\n",
       "  <thead>\n",
       "    <tr style=\"text-align: right;\">\n",
       "      <th></th>\n",
       "      <th>Request_Date</th>\n",
       "      <th>Month_Year</th>\n",
       "      <th>Fiscal_Year</th>\n",
       "      <th>Calendar_Year</th>\n",
       "      <th>Dealership_Province</th>\n",
       "      <th>Dealership_Code</th>\n",
       "      <th>Purchase_or_Lease</th>\n",
       "      <th>Vehicle_Year</th>\n",
       "      <th>Vehicle_Make</th>\n",
       "      <th>Vehicle_Model</th>\n",
       "      <th>Vehicle_Make_Model</th>\n",
       "      <th>BEV_PHEV_FCEV</th>\n",
       "      <th>BEV_PHEV_FCEV_15</th>\n",
       "      <th>BEV_PHEV_FCEV_15_2022</th>\n",
       "      <th>Eligible_Incentive_Amount</th>\n",
       "      <th>Recipient</th>\n",
       "      <th>Recipient_Province</th>\n",
       "      <th>Country</th>\n",
       "    </tr>\n",
       "  </thead>\n",
       "  <tbody>\n",
       "    <tr>\n",
       "      <th>0</th>\n",
       "      <td>2019-05-15</td>\n",
       "      <td>May 2019</td>\n",
       "      <td>2019-20</td>\n",
       "      <td>2019</td>\n",
       "      <td>British Columbia</td>\n",
       "      <td>V5C 0J4</td>\n",
       "      <td>Purchase</td>\n",
       "      <td>2019</td>\n",
       "      <td>Volkswagen</td>\n",
       "      <td>e-Golf</td>\n",
       "      <td>Volkswagen e-Golf</td>\n",
       "      <td>BEV</td>\n",
       "      <td>YES</td>\n",
       "      <td>BEV</td>\n",
       "      <td>5,000</td>\n",
       "      <td>Individual</td>\n",
       "      <td>British Columbia</td>\n",
       "      <td>Canada</td>\n",
       "    </tr>\n",
       "    <tr>\n",
       "      <th>1</th>\n",
       "      <td>2019-05-16</td>\n",
       "      <td>May 2019</td>\n",
       "      <td>2019-20</td>\n",
       "      <td>2019</td>\n",
       "      <td>Quebec</td>\n",
       "      <td>G3M 1W1</td>\n",
       "      <td>Purchase</td>\n",
       "      <td>2019</td>\n",
       "      <td>Nissan</td>\n",
       "      <td>Leaf</td>\n",
       "      <td>Nissan Leaf</td>\n",
       "      <td>BEV</td>\n",
       "      <td>YES</td>\n",
       "      <td>BEV</td>\n",
       "      <td>5,000</td>\n",
       "      <td>Individual</td>\n",
       "      <td>Quebec</td>\n",
       "      <td>Canada</td>\n",
       "    </tr>\n",
       "    <tr>\n",
       "      <th>2</th>\n",
       "      <td>2019-05-16</td>\n",
       "      <td>May 2019</td>\n",
       "      <td>2019-20</td>\n",
       "      <td>2019</td>\n",
       "      <td>Quebec</td>\n",
       "      <td>G3M 1W1</td>\n",
       "      <td>Purchase</td>\n",
       "      <td>2019</td>\n",
       "      <td>Nissan</td>\n",
       "      <td>Leaf</td>\n",
       "      <td>Nissan Leaf</td>\n",
       "      <td>BEV</td>\n",
       "      <td>YES</td>\n",
       "      <td>BEV</td>\n",
       "      <td>5,000</td>\n",
       "      <td>Individual</td>\n",
       "      <td>Quebec</td>\n",
       "      <td>Canada</td>\n",
       "    </tr>\n",
       "    <tr>\n",
       "      <th>3</th>\n",
       "      <td>2019-05-16</td>\n",
       "      <td>May 2019</td>\n",
       "      <td>2019-20</td>\n",
       "      <td>2019</td>\n",
       "      <td>Quebec</td>\n",
       "      <td>G3M 1W1</td>\n",
       "      <td>Purchase</td>\n",
       "      <td>2019</td>\n",
       "      <td>Nissan</td>\n",
       "      <td>Leaf</td>\n",
       "      <td>Nissan Leaf</td>\n",
       "      <td>BEV</td>\n",
       "      <td>YES</td>\n",
       "      <td>BEV</td>\n",
       "      <td>5,000</td>\n",
       "      <td>Individual</td>\n",
       "      <td>Quebec</td>\n",
       "      <td>Canada</td>\n",
       "    </tr>\n",
       "    <tr>\n",
       "      <th>4</th>\n",
       "      <td>2019-05-16</td>\n",
       "      <td>May 2019</td>\n",
       "      <td>2019-20</td>\n",
       "      <td>2019</td>\n",
       "      <td>Quebec</td>\n",
       "      <td>J9P 7B2</td>\n",
       "      <td>Purchase</td>\n",
       "      <td>2019</td>\n",
       "      <td>Hyundai</td>\n",
       "      <td>Ioniq electric</td>\n",
       "      <td>Hyundai Ioniq electric</td>\n",
       "      <td>BEV</td>\n",
       "      <td>YES</td>\n",
       "      <td>BEV</td>\n",
       "      <td>5,000</td>\n",
       "      <td>Individual</td>\n",
       "      <td>Quebec</td>\n",
       "      <td>Canada</td>\n",
       "    </tr>\n",
       "  </tbody>\n",
       "</table>\n",
       "</div>"
      ],
      "text/plain": [
       "  Request_Date Month_Year Fiscal_Year  Calendar_Year Dealership_Province  \\\n",
       "0   2019-05-15   May 2019     2019-20           2019    British Columbia   \n",
       "1   2019-05-16   May 2019     2019-20           2019              Quebec   \n",
       "2   2019-05-16   May 2019     2019-20           2019              Quebec   \n",
       "3   2019-05-16   May 2019     2019-20           2019              Quebec   \n",
       "4   2019-05-16   May 2019     2019-20           2019              Quebec   \n",
       "\n",
       "  Dealership_Code Purchase_or_Lease  Vehicle_Year Vehicle_Make  \\\n",
       "0         V5C 0J4          Purchase          2019   Volkswagen   \n",
       "1         G3M 1W1          Purchase          2019       Nissan   \n",
       "2         G3M 1W1          Purchase          2019       Nissan   \n",
       "3         G3M 1W1          Purchase          2019       Nissan   \n",
       "4         J9P 7B2          Purchase          2019      Hyundai   \n",
       "\n",
       "    Vehicle_Model      Vehicle_Make_Model BEV_PHEV_FCEV BEV_PHEV_FCEV_15  \\\n",
       "0          e-Golf       Volkswagen e-Golf          BEV               YES   \n",
       "1            Leaf             Nissan Leaf          BEV               YES   \n",
       "2            Leaf             Nissan Leaf          BEV               YES   \n",
       "3            Leaf             Nissan Leaf          BEV               YES   \n",
       "4  Ioniq electric  Hyundai Ioniq electric          BEV               YES   \n",
       "\n",
       "  BEV_PHEV_FCEV_15_2022 Eligible_Incentive_Amount   Recipient  \\\n",
       "0                   BEV                     5,000  Individual   \n",
       "1                   BEV                     5,000  Individual   \n",
       "2                   BEV                     5,000  Individual   \n",
       "3                   BEV                     5,000  Individual   \n",
       "4                   BEV                     5,000  Individual   \n",
       "\n",
       "  Recipient_Province Country  \n",
       "0   British Columbia  Canada  \n",
       "1             Quebec  Canada  \n",
       "2             Quebec  Canada  \n",
       "3             Quebec  Canada  \n",
       "4             Quebec  Canada  "
      ]
     },
     "execution_count": 202,
     "metadata": {},
     "output_type": "execute_result"
    }
   ],
   "source": [
    "df_2019.head()"
   ]
  },
  {
   "cell_type": "code",
   "execution_count": 203,
   "id": "b39457b8",
   "metadata": {},
   "outputs": [
    {
     "data": {
      "text/plain": [
       "Request_Date_OK\n",
       "True    202206\n",
       "Name: count, dtype: int64"
      ]
     },
     "execution_count": 203,
     "metadata": {},
     "output_type": "execute_result"
    }
   ],
   "source": [
    "df_2019[\"Request_Date_OK\"] = df_2019[\"Request_Date\"].apply(validate_date)\n",
    "df_2019[\"Request_Date_OK\"].value_counts()"
   ]
  },
  {
   "cell_type": "code",
   "execution_count": 204,
   "id": "f7f6a47b",
   "metadata": {},
   "outputs": [
    {
     "data": {
      "text/plain": [
       "Eligible_Incentive_Amount_OK\n",
       "False    202188\n",
       "True         18\n",
       "Name: count, dtype: int64"
      ]
     },
     "execution_count": 204,
     "metadata": {},
     "output_type": "execute_result"
    }
   ],
   "source": [
    "df_2019[\"Eligible_Incentive_Amount_OK\"] = df_2019[\"Eligible_Incentive_Amount\"].apply(validate_number)\n",
    "df_2019[\"Eligible_Incentive_Amount_OK\"].value_counts()"
   ]
  },
  {
   "cell_type": "code",
   "execution_count": 205,
   "id": "eb79355f",
   "metadata": {},
   "outputs": [
    {
     "data": {
      "text/plain": [
       "0    5,000\n",
       "Name: Eligible_Incentive_Amount, dtype: object"
      ]
     },
     "execution_count": 205,
     "metadata": {},
     "output_type": "execute_result"
    }
   ],
   "source": [
    "df_2019[df_2019[\"Eligible_Incentive_Amount_OK\"] == False].head(1)[\"Eligible_Incentive_Amount\"]"
   ]
  },
  {
   "cell_type": "code",
   "execution_count": 206,
   "id": "be801a8a",
   "metadata": {},
   "outputs": [
    {
     "data": {
      "text/plain": [
       "7026    625\n",
       "Name: Eligible_Incentive_Amount, dtype: object"
      ]
     },
     "execution_count": 206,
     "metadata": {},
     "output_type": "execute_result"
    }
   ],
   "source": [
    "df_2019[df_2019[\"Eligible_Incentive_Amount_OK\"] == True].head(1)[\"Eligible_Incentive_Amount\"]"
   ]
  },
  {
   "cell_type": "markdown",
   "id": "7d3ddd95",
   "metadata": {},
   "source": [
    "**Data 2023**"
   ]
  },
  {
   "cell_type": "code",
   "execution_count": 207,
   "id": "d7ec1a38",
   "metadata": {},
   "outputs": [
    {
     "name": "stdout",
     "output_type": "stream",
     "text": [
      "<class 'pandas.core.frame.DataFrame'>\n",
      "RangeIndex: 166758 entries, 0 to 166757\n",
      "Data columns (total 18 columns):\n",
      " #   Column                     Non-Null Count   Dtype  \n",
      "---  ------                     --------------   -----  \n",
      " 0   Request_Date               166757 non-null  object \n",
      " 1   Month_Year                 166757 non-null  object \n",
      " 2   Fiscal_Year                166757 non-null  object \n",
      " 3   Calendar_Year              166757 non-null  float64\n",
      " 4   Dealership_Province        166757 non-null  object \n",
      " 5   Dealership_Code            166757 non-null  object \n",
      " 6   Purchase_or_Lease          166757 non-null  object \n",
      " 7   Vehicle_Year               166757 non-null  float64\n",
      " 8   Vehicle_Make               166757 non-null  object \n",
      " 9   Vehicle_Model              166757 non-null  object \n",
      " 10  Vehicle_Make_Model         166757 non-null  object \n",
      " 11  BEV_PHEV_FCEV              166757 non-null  object \n",
      " 12  BEV_PHEV_FCEV_15           166757 non-null  object \n",
      " 13  BEV_PHEV_FCEV_15_2022      166757 non-null  object \n",
      " 14  Eligible_Incentive_Amount  166757 non-null  object \n",
      " 15  Recipient                  166757 non-null  object \n",
      " 16  Recipient_Province         166757 non-null  object \n",
      " 17  Country                    166757 non-null  object \n",
      "dtypes: float64(2), object(16)\n",
      "memory usage: 22.9+ MB\n"
     ]
    }
   ],
   "source": [
    "df_2023.info()"
   ]
  },
  {
   "cell_type": "code",
   "execution_count": 208,
   "id": "ea0a536b",
   "metadata": {},
   "outputs": [
    {
     "data": {
      "text/plain": [
       "Request_Date_OK\n",
       "True    166757\n",
       "Name: count, dtype: int64"
      ]
     },
     "execution_count": 208,
     "metadata": {},
     "output_type": "execute_result"
    }
   ],
   "source": [
    "df_2023[\"Request_Date_OK\"] = df_2023[df_2023[\"Request_Date\"].notna()][\"Request_Date\"].apply(validate_date)\n",
    "df_2023[\"Request_Date_OK\"].value_counts()"
   ]
  },
  {
   "cell_type": "code",
   "execution_count": 209,
   "id": "fadf1566",
   "metadata": {},
   "outputs": [
    {
     "data": {
      "text/plain": [
       "Eligible_Incentive_Amount_OK\n",
       "False    166746\n",
       "True         11\n",
       "Name: count, dtype: int64"
      ]
     },
     "execution_count": 209,
     "metadata": {},
     "output_type": "execute_result"
    }
   ],
   "source": [
    "df_2023[\"Eligible_Incentive_Amount_OK\"] = df_2023[df_2023[\"Eligible_Incentive_Amount\"].notna()][\"Eligible_Incentive_Amount\"].apply(validate_number)\n",
    "df_2023[\"Eligible_Incentive_Amount_OK\"].value_counts()"
   ]
  },
  {
   "cell_type": "code",
   "execution_count": 210,
   "id": "af9f1418",
   "metadata": {},
   "outputs": [
    {
     "data": {
      "text/plain": [
       "0    5,000\n",
       "Name: Eligible_Incentive_Amount, dtype: object"
      ]
     },
     "execution_count": 210,
     "metadata": {},
     "output_type": "execute_result"
    }
   ],
   "source": [
    "df_2023[df_2023[\"Eligible_Incentive_Amount_OK\"] == False].head(1)[\"Eligible_Incentive_Amount\"]"
   ]
  },
  {
   "cell_type": "code",
   "execution_count": 211,
   "id": "e9970888",
   "metadata": {},
   "outputs": [
    {
     "data": {
      "text/plain": [
       "1027    625\n",
       "Name: Eligible_Incentive_Amount, dtype: object"
      ]
     },
     "execution_count": 211,
     "metadata": {},
     "output_type": "execute_result"
    }
   ],
   "source": [
    "df_2023[df_2023[\"Eligible_Incentive_Amount_OK\"] == True].head(1)[\"Eligible_Incentive_Amount\"]"
   ]
  },
  {
   "cell_type": "markdown",
   "id": "bf47ea68",
   "metadata": {},
   "source": [
    "**Data 2024**"
   ]
  },
  {
   "cell_type": "code",
   "execution_count": 212,
   "id": "b997198a",
   "metadata": {},
   "outputs": [
    {
     "name": "stdout",
     "output_type": "stream",
     "text": [
      "<class 'pandas.core.frame.DataFrame'>\n",
      "RangeIndex: 90325 entries, 0 to 90324\n",
      "Data columns (total 18 columns):\n",
      " #   Column                     Non-Null Count  Dtype \n",
      "---  ------                     --------------  ----- \n",
      " 0   Request_Date               90325 non-null  object\n",
      " 1   Month_Year                 90325 non-null  object\n",
      " 2   Fiscal_Year                90325 non-null  object\n",
      " 3   Calendar_Year              90325 non-null  int64 \n",
      " 4   Dealership_Province        90325 non-null  object\n",
      " 5   Dealership_Code            90325 non-null  object\n",
      " 6   Purchase_or_Lease          90325 non-null  object\n",
      " 7   Vehicle_Year               90325 non-null  int64 \n",
      " 8   Vehicle_Make               90325 non-null  object\n",
      " 9   Vehicle_Model              90325 non-null  object\n",
      " 10  Vehicle_Make_Model         90325 non-null  object\n",
      " 11  BEV_PHEV_FCEV              90325 non-null  object\n",
      " 12  BEV_PHEV_FCEV_15           90325 non-null  object\n",
      " 13  BEV_PHEV_FCEV_15_2022      90325 non-null  object\n",
      " 14  Eligible_Incentive_Amount  90325 non-null  object\n",
      " 15  Recipient                  90325 non-null  object\n",
      " 16  Recipient_Province         90325 non-null  object\n",
      " 17  Country                    90325 non-null  object\n",
      "dtypes: int64(2), object(16)\n",
      "memory usage: 12.4+ MB\n"
     ]
    }
   ],
   "source": [
    "df_2024.info()"
   ]
  },
  {
   "cell_type": "code",
   "execution_count": 213,
   "id": "8dc69911",
   "metadata": {},
   "outputs": [
    {
     "data": {
      "text/plain": [
       "Request_Date_OK\n",
       "True    90325\n",
       "Name: count, dtype: int64"
      ]
     },
     "execution_count": 213,
     "metadata": {},
     "output_type": "execute_result"
    }
   ],
   "source": [
    "df_2024[\"Request_Date_OK\"] = df_2024[\"Request_Date\"].apply(validate_date)\n",
    "df_2024[\"Request_Date_OK\"].value_counts()"
   ]
  },
  {
   "cell_type": "code",
   "execution_count": 214,
   "id": "d23c1cfd",
   "metadata": {},
   "outputs": [
    {
     "data": {
      "text/plain": [
       "Eligible_Incentive_Amount_OK\n",
       "False    90322\n",
       "True         3\n",
       "Name: count, dtype: int64"
      ]
     },
     "execution_count": 214,
     "metadata": {},
     "output_type": "execute_result"
    }
   ],
   "source": [
    "df_2024[\"Eligible_Incentive_Amount_OK\"] = df_2024[\"Eligible_Incentive_Amount\"].apply(validate_number)\n",
    "df_2024[\"Eligible_Incentive_Amount_OK\"].value_counts()"
   ]
  },
  {
   "cell_type": "code",
   "execution_count": 215,
   "id": "fdc58dfe",
   "metadata": {},
   "outputs": [
    {
     "data": {
      "text/plain": [
       "0    5,000\n",
       "Name: Eligible_Incentive_Amount, dtype: object"
      ]
     },
     "execution_count": 215,
     "metadata": {},
     "output_type": "execute_result"
    }
   ],
   "source": [
    "df_2024[df_2024[\"Eligible_Incentive_Amount_OK\"] == False].head(1)[\"Eligible_Incentive_Amount\"]"
   ]
  },
  {
   "cell_type": "code",
   "execution_count": 216,
   "id": "cabf2e47",
   "metadata": {},
   "outputs": [
    {
     "data": {
      "text/plain": [
       "21811    625\n",
       "Name: Eligible_Incentive_Amount, dtype: object"
      ]
     },
     "execution_count": 216,
     "metadata": {},
     "output_type": "execute_result"
    }
   ],
   "source": [
    "df_2024[df_2024[\"Eligible_Incentive_Amount_OK\"] == True].head(1)[\"Eligible_Incentive_Amount\"]"
   ]
  },
  {
   "cell_type": "markdown",
   "id": "c6b0bb77",
   "metadata": {},
   "source": [
    "#### 2.2.2. Cleaning"
   ]
  },
  {
   "cell_type": "markdown",
   "id": "4c6194f2",
   "metadata": {},
   "source": [
    "##### 2.2.2.1. Remove missing values"
   ]
  },
  {
   "cell_type": "markdown",
   "id": "a7057b40",
   "metadata": {},
   "source": [
    "**Data 2023**"
   ]
  },
  {
   "cell_type": "code",
   "execution_count": 217,
   "id": "354fd6e7",
   "metadata": {},
   "outputs": [
    {
     "name": "stdout",
     "output_type": "stream",
     "text": [
      "Total missing values by columns:\n"
     ]
    },
    {
     "data": {
      "text/plain": [
       "Request_Date                    0\n",
       "Month_Year                      0\n",
       "Fiscal_Year                     0\n",
       "Calendar_Year                   0\n",
       "Dealership_Province             0\n",
       "Dealership_Code                 0\n",
       "Purchase_or_Lease               0\n",
       "Vehicle_Year                    0\n",
       "Vehicle_Make                    0\n",
       "Vehicle_Model                   0\n",
       "Vehicle_Make_Model              0\n",
       "BEV_PHEV_FCEV                   0\n",
       "BEV_PHEV_FCEV_15                0\n",
       "BEV_PHEV_FCEV_15_2022           0\n",
       "Eligible_Incentive_Amount       0\n",
       "Recipient                       0\n",
       "Recipient_Province              0\n",
       "Country                         0\n",
       "Request_Date_OK                 0\n",
       "Eligible_Incentive_Amount_OK    0\n",
       "dtype: int64"
      ]
     },
     "execution_count": 217,
     "metadata": {},
     "output_type": "execute_result"
    }
   ],
   "source": [
    "# Remove rows where all values are NaN\n",
    "df_2023 = df_2023.dropna(how = \"all\")\n",
    "\n",
    "print(\"Total missing values by columns:\")\n",
    "df_2023.isnull().sum()"
   ]
  },
  {
   "cell_type": "markdown",
   "id": "b2a295f7",
   "metadata": {},
   "source": [
    "##### 2.2.2.2. Remove duplcated data\n",
    "\n",
    "Depending on the type of problem, it would be necessary treat this data as duplicated or not. For the purpose of this project, they are going to be treated as duplicated."
   ]
  },
  {
   "cell_type": "markdown",
   "id": "ebd62ab8",
   "metadata": {},
   "source": [
    "**Data 2019**"
   ]
  },
  {
   "cell_type": "code",
   "execution_count": 218,
   "id": "4db5e48d",
   "metadata": {},
   "outputs": [
    {
     "name": "stdout",
     "output_type": "stream",
     "text": [
      "Total duplicated values 0 from 126974\n"
     ]
    }
   ],
   "source": [
    "# Remove duplicated values\n",
    "df_2019 = df_2019.drop_duplicates()\n",
    "print(f\"Total duplicated values {df_2019.duplicated().sum()} from {df_2019.duplicated().count()}\")"
   ]
  },
  {
   "cell_type": "markdown",
   "id": "c617f50e",
   "metadata": {},
   "source": [
    "**Data 2023**"
   ]
  },
  {
   "cell_type": "code",
   "execution_count": 219,
   "id": "26704439",
   "metadata": {},
   "outputs": [
    {
     "name": "stdout",
     "output_type": "stream",
     "text": [
      "Total duplicated values 0 from 97323\n"
     ]
    }
   ],
   "source": [
    "# Remove duplicated values\n",
    "df_2023 = df_2023.drop_duplicates()\n",
    "print(f\"Total duplicated values {df_2023.duplicated().sum()} from {df_2023.duplicated().count()}\")"
   ]
  },
  {
   "cell_type": "markdown",
   "id": "6471b8ee",
   "metadata": {},
   "source": [
    "**Data 2024**"
   ]
  },
  {
   "cell_type": "code",
   "execution_count": 220,
   "id": "94754d0e",
   "metadata": {},
   "outputs": [
    {
     "name": "stdout",
     "output_type": "stream",
     "text": [
      "Total duplicated values 0 from 60094\n"
     ]
    }
   ],
   "source": [
    "# Remove duplicated values\n",
    "df_2024 = df_2024.drop_duplicates()\n",
    "print(f\"Total duplicated values {df_2024.duplicated().sum()} from {df_2024.duplicated().count()}\")"
   ]
  },
  {
   "cell_type": "markdown",
   "id": "fb43c66f",
   "metadata": {},
   "source": [
    "##### 2.2.2.3. Remove white spaces\n",
    "\n",
    "The idea of this transformation is to reduce cardinality, for example: \"V5L 1H7\" is different than \" V5L 1H7 \"."
   ]
  },
  {
   "cell_type": "code",
   "execution_count": 221,
   "id": "fb0b9522",
   "metadata": {},
   "outputs": [],
   "source": [
    "string_columns = [\"Month_Year\", \"Fiscal_Year\", \"Dealership_Province\", \"Dealership_Code\", \"Purchase_or_Lease\", \"Vehicle_Make\", \"Vehicle_Model\", \"Vehicle_Make_Model\",\n",
    "                  \"BEV_PHEV_FCEV\", \"BEV_PHEV_FCEV_15\", \"BEV_PHEV_FCEV_15_2022\", \"Recipient\", \"Recipient_Province\", \"Country\"]"
   ]
  },
  {
   "cell_type": "markdown",
   "id": "fe042e31",
   "metadata": {},
   "source": [
    "**Data 2019**"
   ]
  },
  {
   "cell_type": "code",
   "execution_count": 222,
   "id": "07eea395",
   "metadata": {},
   "outputs": [],
   "source": [
    "for c in string_columns:\n",
    "    df_2019[c] = df_2019[c].str.strip()"
   ]
  },
  {
   "cell_type": "markdown",
   "id": "34f19a84",
   "metadata": {},
   "source": [
    "**Data 2023**"
   ]
  },
  {
   "cell_type": "code",
   "execution_count": 223,
   "id": "99bb25fb",
   "metadata": {},
   "outputs": [],
   "source": [
    "for c in string_columns:\n",
    "    df_2023[c] = df_2023[c].str.strip()"
   ]
  },
  {
   "cell_type": "markdown",
   "id": "720e1eed",
   "metadata": {},
   "source": [
    "**Data 2024**"
   ]
  },
  {
   "cell_type": "code",
   "execution_count": 224,
   "id": "ba23b8d1",
   "metadata": {},
   "outputs": [],
   "source": [
    "for c in string_columns:\n",
    "    df_2024[c] = df_2024[c].str.strip()"
   ]
  },
  {
   "cell_type": "markdown",
   "id": "7d4e6d5b",
   "metadata": {},
   "source": [
    "##### 2.2.2.4. Convert a string to uppercase\n",
    "\n",
    "The idea of this transformation is to reduce cardinality, for example: \"V5L 1H7\" is different than \"vsl 1H7\"."
   ]
  },
  {
   "cell_type": "markdown",
   "id": "cce75cdf",
   "metadata": {},
   "source": [
    "**Data 2019**"
   ]
  },
  {
   "cell_type": "code",
   "execution_count": 225,
   "id": "12cd46bf",
   "metadata": {},
   "outputs": [],
   "source": [
    "for c in string_columns:\n",
    "    df_2019[c] = df_2019[c].str.upper()"
   ]
  },
  {
   "cell_type": "markdown",
   "id": "7bf2a48b",
   "metadata": {},
   "source": [
    "**Data 2023**"
   ]
  },
  {
   "cell_type": "code",
   "execution_count": 226,
   "id": "13dcd82f",
   "metadata": {},
   "outputs": [],
   "source": [
    "for c in string_columns:\n",
    "    df_2023[c] = df_2023[c].str.upper()"
   ]
  },
  {
   "cell_type": "markdown",
   "id": "84807f55",
   "metadata": {},
   "source": [
    "**Data 2024**"
   ]
  },
  {
   "cell_type": "code",
   "execution_count": 227,
   "id": "0e207e2f",
   "metadata": {},
   "outputs": [],
   "source": [
    "for c in string_columns:\n",
    "    df_2024[c] = df_2024[c].str.upper()"
   ]
  },
  {
   "cell_type": "markdown",
   "id": "91f439f2",
   "metadata": {},
   "source": [
    "##### 2.2.2.5. Convert a string to number (if applicable)"
   ]
  },
  {
   "cell_type": "markdown",
   "id": "920239e1",
   "metadata": {},
   "source": [
    "**Data 2019**"
   ]
  },
  {
   "cell_type": "code",
   "execution_count": 228,
   "id": "c072dc33",
   "metadata": {},
   "outputs": [],
   "source": [
    "df_2019[\"Eligible_Incentive_Amount\"] = df_2019[\"Eligible_Incentive_Amount\"].str.replace(\",\", \"\")"
   ]
  },
  {
   "cell_type": "code",
   "execution_count": 229,
   "id": "7b73117a",
   "metadata": {},
   "outputs": [],
   "source": [
    "df_2019[\"Eligible_Incentive_Amount\"] = pd.to_numeric(df_2019[\"Eligible_Incentive_Amount\"])"
   ]
  },
  {
   "cell_type": "code",
   "execution_count": 230,
   "id": "69841d85",
   "metadata": {},
   "outputs": [
    {
     "name": "stdout",
     "output_type": "stream",
     "text": [
      "<class 'pandas.core.frame.DataFrame'>\n",
      "Index: 126974 entries, 0 to 202205\n",
      "Data columns (total 20 columns):\n",
      " #   Column                        Non-Null Count   Dtype \n",
      "---  ------                        --------------   ----- \n",
      " 0   Request_Date                  126974 non-null  object\n",
      " 1   Month_Year                    126974 non-null  object\n",
      " 2   Fiscal_Year                   126974 non-null  object\n",
      " 3   Calendar_Year                 126974 non-null  int64 \n",
      " 4   Dealership_Province           126974 non-null  object\n",
      " 5   Dealership_Code               126974 non-null  object\n",
      " 6   Purchase_or_Lease             126974 non-null  object\n",
      " 7   Vehicle_Year                  126974 non-null  int64 \n",
      " 8   Vehicle_Make                  126974 non-null  object\n",
      " 9   Vehicle_Model                 126974 non-null  object\n",
      " 10  Vehicle_Make_Model            126974 non-null  object\n",
      " 11  BEV_PHEV_FCEV                 126974 non-null  object\n",
      " 12  BEV_PHEV_FCEV_15              126974 non-null  object\n",
      " 13  BEV_PHEV_FCEV_15_2022         126974 non-null  object\n",
      " 14  Eligible_Incentive_Amount     126974 non-null  int64 \n",
      " 15  Recipient                     126974 non-null  object\n",
      " 16  Recipient_Province            126974 non-null  object\n",
      " 17  Country                       126974 non-null  object\n",
      " 18  Request_Date_OK               126974 non-null  bool  \n",
      " 19  Eligible_Incentive_Amount_OK  126974 non-null  bool  \n",
      "dtypes: bool(2), int64(3), object(15)\n",
      "memory usage: 18.6+ MB\n"
     ]
    }
   ],
   "source": [
    "df_2019.info()"
   ]
  },
  {
   "cell_type": "markdown",
   "id": "8f230e0d",
   "metadata": {},
   "source": [
    "**Data 2023**"
   ]
  },
  {
   "cell_type": "code",
   "execution_count": 231,
   "id": "e3757da8",
   "metadata": {},
   "outputs": [],
   "source": [
    "df_2023[\"Eligible_Incentive_Amount\"] = df_2023[\"Eligible_Incentive_Amount\"].str.replace(\",\", \"\")"
   ]
  },
  {
   "cell_type": "code",
   "execution_count": 232,
   "id": "dabff27f",
   "metadata": {},
   "outputs": [],
   "source": [
    "df_2023[\"Eligible_Incentive_Amount\"] = pd.to_numeric(df_2023[\"Eligible_Incentive_Amount\"])"
   ]
  },
  {
   "cell_type": "code",
   "execution_count": 233,
   "id": "8762c554",
   "metadata": {},
   "outputs": [
    {
     "name": "stdout",
     "output_type": "stream",
     "text": [
      "<class 'pandas.core.frame.DataFrame'>\n",
      "Index: 97323 entries, 0 to 166735\n",
      "Data columns (total 20 columns):\n",
      " #   Column                        Non-Null Count  Dtype  \n",
      "---  ------                        --------------  -----  \n",
      " 0   Request_Date                  97323 non-null  object \n",
      " 1   Month_Year                    97323 non-null  object \n",
      " 2   Fiscal_Year                   97323 non-null  object \n",
      " 3   Calendar_Year                 97323 non-null  float64\n",
      " 4   Dealership_Province           97323 non-null  object \n",
      " 5   Dealership_Code               97323 non-null  object \n",
      " 6   Purchase_or_Lease             97323 non-null  object \n",
      " 7   Vehicle_Year                  97323 non-null  float64\n",
      " 8   Vehicle_Make                  97323 non-null  object \n",
      " 9   Vehicle_Model                 97323 non-null  object \n",
      " 10  Vehicle_Make_Model            97323 non-null  object \n",
      " 11  BEV_PHEV_FCEV                 97323 non-null  object \n",
      " 12  BEV_PHEV_FCEV_15              97323 non-null  object \n",
      " 13  BEV_PHEV_FCEV_15_2022         97323 non-null  object \n",
      " 14  Eligible_Incentive_Amount     97323 non-null  int64  \n",
      " 15  Recipient                     97323 non-null  object \n",
      " 16  Recipient_Province            97323 non-null  object \n",
      " 17  Country                       97323 non-null  object \n",
      " 18  Request_Date_OK               97323 non-null  object \n",
      " 19  Eligible_Incentive_Amount_OK  97323 non-null  object \n",
      "dtypes: float64(2), int64(1), object(17)\n",
      "memory usage: 15.6+ MB\n"
     ]
    }
   ],
   "source": [
    "df_2023.info()"
   ]
  },
  {
   "cell_type": "markdown",
   "id": "797d8bbd",
   "metadata": {},
   "source": [
    "**Data 2024**"
   ]
  },
  {
   "cell_type": "code",
   "execution_count": 234,
   "id": "dfbbc454",
   "metadata": {},
   "outputs": [],
   "source": [
    "df_2024[\"Eligible_Incentive_Amount\"] = df_2024[\"Eligible_Incentive_Amount\"].str.replace(\",\", \"\")"
   ]
  },
  {
   "cell_type": "code",
   "execution_count": 235,
   "id": "d6d22ce8",
   "metadata": {},
   "outputs": [],
   "source": [
    "df_2024[\"Eligible_Incentive_Amount\"] = pd.to_numeric(df_2024[\"Eligible_Incentive_Amount\"])"
   ]
  },
  {
   "cell_type": "code",
   "execution_count": 236,
   "id": "6a36e17a",
   "metadata": {},
   "outputs": [
    {
     "name": "stdout",
     "output_type": "stream",
     "text": [
      "<class 'pandas.core.frame.DataFrame'>\n",
      "Index: 60094 entries, 0 to 90282\n",
      "Data columns (total 20 columns):\n",
      " #   Column                        Non-Null Count  Dtype \n",
      "---  ------                        --------------  ----- \n",
      " 0   Request_Date                  60094 non-null  object\n",
      " 1   Month_Year                    60094 non-null  object\n",
      " 2   Fiscal_Year                   60094 non-null  object\n",
      " 3   Calendar_Year                 60094 non-null  int64 \n",
      " 4   Dealership_Province           60094 non-null  object\n",
      " 5   Dealership_Code               60094 non-null  object\n",
      " 6   Purchase_or_Lease             60094 non-null  object\n",
      " 7   Vehicle_Year                  60094 non-null  int64 \n",
      " 8   Vehicle_Make                  60094 non-null  object\n",
      " 9   Vehicle_Model                 60094 non-null  object\n",
      " 10  Vehicle_Make_Model            60094 non-null  object\n",
      " 11  BEV_PHEV_FCEV                 60094 non-null  object\n",
      " 12  BEV_PHEV_FCEV_15              60094 non-null  object\n",
      " 13  BEV_PHEV_FCEV_15_2022         60094 non-null  object\n",
      " 14  Eligible_Incentive_Amount     60094 non-null  int64 \n",
      " 15  Recipient                     60094 non-null  object\n",
      " 16  Recipient_Province            60094 non-null  object\n",
      " 17  Country                       60094 non-null  object\n",
      " 18  Request_Date_OK               60094 non-null  bool  \n",
      " 19  Eligible_Incentive_Amount_OK  60094 non-null  bool  \n",
      "dtypes: bool(2), int64(3), object(15)\n",
      "memory usage: 8.8+ MB\n"
     ]
    }
   ],
   "source": [
    "df_2024.info()"
   ]
  },
  {
   "cell_type": "markdown",
   "id": "282c1e6f",
   "metadata": {},
   "source": [
    "### 2.3. Load"
   ]
  },
  {
   "cell_type": "code",
   "execution_count": 237,
   "id": "9029c865",
   "metadata": {},
   "outputs": [
    {
     "data": {
      "text/html": [
       "<div>\n",
       "<style scoped>\n",
       "    .dataframe tbody tr th:only-of-type {\n",
       "        vertical-align: middle;\n",
       "    }\n",
       "\n",
       "    .dataframe tbody tr th {\n",
       "        vertical-align: top;\n",
       "    }\n",
       "\n",
       "    .dataframe thead th {\n",
       "        text-align: right;\n",
       "    }\n",
       "</style>\n",
       "<table border=\"1\" class=\"dataframe\">\n",
       "  <thead>\n",
       "    <tr style=\"text-align: right;\">\n",
       "      <th></th>\n",
       "      <th>Request_Date</th>\n",
       "      <th>Month_Year</th>\n",
       "      <th>Fiscal_Year</th>\n",
       "      <th>Calendar_Year</th>\n",
       "      <th>Dealership_Province</th>\n",
       "      <th>Dealership_Code</th>\n",
       "      <th>Purchase_or_Lease</th>\n",
       "      <th>Vehicle_Year</th>\n",
       "      <th>Vehicle_Make</th>\n",
       "      <th>Vehicle_Model</th>\n",
       "      <th>Vehicle_Make_Model</th>\n",
       "      <th>BEV_PHEV_FCEV</th>\n",
       "      <th>BEV_PHEV_FCEV_15</th>\n",
       "      <th>BEV_PHEV_FCEV_15_2022</th>\n",
       "      <th>Eligible_Incentive_Amount</th>\n",
       "      <th>Recipient</th>\n",
       "      <th>Recipient_Province</th>\n",
       "      <th>Country</th>\n",
       "      <th>Request_Date_OK</th>\n",
       "      <th>Eligible_Incentive_Amount_OK</th>\n",
       "    </tr>\n",
       "  </thead>\n",
       "  <tbody>\n",
       "    <tr>\n",
       "      <th>0</th>\n",
       "      <td>2019-05-15</td>\n",
       "      <td>MAY 2019</td>\n",
       "      <td>2019-20</td>\n",
       "      <td>2019</td>\n",
       "      <td>BRITISH COLUMBIA</td>\n",
       "      <td>V5C 0J4</td>\n",
       "      <td>PURCHASE</td>\n",
       "      <td>2019</td>\n",
       "      <td>VOLKSWAGEN</td>\n",
       "      <td>E-GOLF</td>\n",
       "      <td>VOLKSWAGEN E-GOLF</td>\n",
       "      <td>BEV</td>\n",
       "      <td>YES</td>\n",
       "      <td>BEV</td>\n",
       "      <td>5000</td>\n",
       "      <td>INDIVIDUAL</td>\n",
       "      <td>BRITISH COLUMBIA</td>\n",
       "      <td>CANADA</td>\n",
       "      <td>True</td>\n",
       "      <td>False</td>\n",
       "    </tr>\n",
       "    <tr>\n",
       "      <th>1</th>\n",
       "      <td>2019-05-16</td>\n",
       "      <td>MAY 2019</td>\n",
       "      <td>2019-20</td>\n",
       "      <td>2019</td>\n",
       "      <td>QUEBEC</td>\n",
       "      <td>G3M 1W1</td>\n",
       "      <td>PURCHASE</td>\n",
       "      <td>2019</td>\n",
       "      <td>NISSAN</td>\n",
       "      <td>LEAF</td>\n",
       "      <td>NISSAN LEAF</td>\n",
       "      <td>BEV</td>\n",
       "      <td>YES</td>\n",
       "      <td>BEV</td>\n",
       "      <td>5000</td>\n",
       "      <td>INDIVIDUAL</td>\n",
       "      <td>QUEBEC</td>\n",
       "      <td>CANADA</td>\n",
       "      <td>True</td>\n",
       "      <td>False</td>\n",
       "    </tr>\n",
       "    <tr>\n",
       "      <th>4</th>\n",
       "      <td>2019-05-16</td>\n",
       "      <td>MAY 2019</td>\n",
       "      <td>2019-20</td>\n",
       "      <td>2019</td>\n",
       "      <td>QUEBEC</td>\n",
       "      <td>J9P 7B2</td>\n",
       "      <td>PURCHASE</td>\n",
       "      <td>2019</td>\n",
       "      <td>HYUNDAI</td>\n",
       "      <td>IONIQ ELECTRIC</td>\n",
       "      <td>HYUNDAI IONIQ ELECTRIC</td>\n",
       "      <td>BEV</td>\n",
       "      <td>YES</td>\n",
       "      <td>BEV</td>\n",
       "      <td>5000</td>\n",
       "      <td>INDIVIDUAL</td>\n",
       "      <td>QUEBEC</td>\n",
       "      <td>CANADA</td>\n",
       "      <td>True</td>\n",
       "      <td>False</td>\n",
       "    </tr>\n",
       "    <tr>\n",
       "      <th>5</th>\n",
       "      <td>2019-05-16</td>\n",
       "      <td>MAY 2019</td>\n",
       "      <td>2019-20</td>\n",
       "      <td>2019</td>\n",
       "      <td>ONTARIO</td>\n",
       "      <td>L4S 1K9</td>\n",
       "      <td>PURCHASE</td>\n",
       "      <td>2019</td>\n",
       "      <td>TOYOTA</td>\n",
       "      <td>PRIUS PRIME</td>\n",
       "      <td>TOYOTA PRIUS PRIME</td>\n",
       "      <td>PHEV</td>\n",
       "      <td>NO</td>\n",
       "      <td>PHEVS &lt; 15 KWH</td>\n",
       "      <td>2500</td>\n",
       "      <td>INDIVIDUAL</td>\n",
       "      <td>ONTARIO</td>\n",
       "      <td>CANADA</td>\n",
       "      <td>True</td>\n",
       "      <td>False</td>\n",
       "    </tr>\n",
       "    <tr>\n",
       "      <th>6</th>\n",
       "      <td>2019-05-16</td>\n",
       "      <td>MAY 2019</td>\n",
       "      <td>2019-20</td>\n",
       "      <td>2019</td>\n",
       "      <td>QUEBEC</td>\n",
       "      <td>J6W 6J7</td>\n",
       "      <td>PURCHASE</td>\n",
       "      <td>2019</td>\n",
       "      <td>CHEVROLET</td>\n",
       "      <td>BOLT</td>\n",
       "      <td>CHEVROLET BOLT</td>\n",
       "      <td>BEV</td>\n",
       "      <td>YES</td>\n",
       "      <td>BEV</td>\n",
       "      <td>5000</td>\n",
       "      <td>INDIVIDUAL</td>\n",
       "      <td>QUEBEC</td>\n",
       "      <td>CANADA</td>\n",
       "      <td>True</td>\n",
       "      <td>False</td>\n",
       "    </tr>\n",
       "  </tbody>\n",
       "</table>\n",
       "</div>"
      ],
      "text/plain": [
       "  Request_Date Month_Year Fiscal_Year  Calendar_Year Dealership_Province  \\\n",
       "0   2019-05-15   MAY 2019     2019-20           2019    BRITISH COLUMBIA   \n",
       "1   2019-05-16   MAY 2019     2019-20           2019              QUEBEC   \n",
       "4   2019-05-16   MAY 2019     2019-20           2019              QUEBEC   \n",
       "5   2019-05-16   MAY 2019     2019-20           2019             ONTARIO   \n",
       "6   2019-05-16   MAY 2019     2019-20           2019              QUEBEC   \n",
       "\n",
       "  Dealership_Code Purchase_or_Lease  Vehicle_Year Vehicle_Make  \\\n",
       "0         V5C 0J4          PURCHASE          2019   VOLKSWAGEN   \n",
       "1         G3M 1W1          PURCHASE          2019       NISSAN   \n",
       "4         J9P 7B2          PURCHASE          2019      HYUNDAI   \n",
       "5         L4S 1K9          PURCHASE          2019       TOYOTA   \n",
       "6         J6W 6J7          PURCHASE          2019    CHEVROLET   \n",
       "\n",
       "    Vehicle_Model      Vehicle_Make_Model BEV_PHEV_FCEV BEV_PHEV_FCEV_15  \\\n",
       "0          E-GOLF       VOLKSWAGEN E-GOLF           BEV              YES   \n",
       "1            LEAF             NISSAN LEAF           BEV              YES   \n",
       "4  IONIQ ELECTRIC  HYUNDAI IONIQ ELECTRIC           BEV              YES   \n",
       "5     PRIUS PRIME      TOYOTA PRIUS PRIME          PHEV               NO   \n",
       "6            BOLT          CHEVROLET BOLT           BEV              YES   \n",
       "\n",
       "  BEV_PHEV_FCEV_15_2022  Eligible_Incentive_Amount   Recipient  \\\n",
       "0                   BEV                       5000  INDIVIDUAL   \n",
       "1                   BEV                       5000  INDIVIDUAL   \n",
       "4                   BEV                       5000  INDIVIDUAL   \n",
       "5        PHEVS < 15 KWH                       2500  INDIVIDUAL   \n",
       "6                   BEV                       5000  INDIVIDUAL   \n",
       "\n",
       "  Recipient_Province Country  Request_Date_OK  Eligible_Incentive_Amount_OK  \n",
       "0   BRITISH COLUMBIA  CANADA             True                         False  \n",
       "1             QUEBEC  CANADA             True                         False  \n",
       "4             QUEBEC  CANADA             True                         False  \n",
       "5            ONTARIO  CANADA             True                         False  \n",
       "6             QUEBEC  CANADA             True                         False  "
      ]
     },
     "execution_count": 237,
     "metadata": {},
     "output_type": "execute_result"
    }
   ],
   "source": [
    "df_2019.head()"
   ]
  },
  {
   "cell_type": "code",
   "execution_count": null,
   "id": "8eaf3e40",
   "metadata": {},
   "outputs": [],
   "source": []
  }
 ],
 "metadata": {
  "kernelspec": {
   "display_name": "base",
   "language": "python",
   "name": "python3"
  },
  "language_info": {
   "codemirror_mode": {
    "name": "ipython",
    "version": 3
   },
   "file_extension": ".py",
   "mimetype": "text/x-python",
   "name": "python",
   "nbconvert_exporter": "python",
   "pygments_lexer": "ipython3",
   "version": "3.11.9"
  }
 },
 "nbformat": 4,
 "nbformat_minor": 5
}
