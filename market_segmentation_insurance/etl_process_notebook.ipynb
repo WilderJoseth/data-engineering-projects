{
 "cells": [
  {
   "cell_type": "markdown",
   "id": "b498aeb8",
   "metadata": {},
   "source": [
    "# Market segmentation insurance"
   ]
  },
  {
   "cell_type": "markdown",
   "id": "42c5b92c",
   "metadata": {},
   "source": [
    "## 1. Introduction"
   ]
  },
  {
   "cell_type": "markdown",
   "id": "829ae179",
   "metadata": {},
   "source": [
    "## 2. Data information"
   ]
  },
  {
   "cell_type": "markdown",
   "id": "e0a13780",
   "metadata": {},
   "source": [
    "## 3. ETL process"
   ]
  },
  {
   "cell_type": "code",
   "execution_count": 1,
   "id": "faf76344",
   "metadata": {},
   "outputs": [],
   "source": [
    "import os\n",
    "import pandas as pd"
   ]
  },
  {
   "cell_type": "code",
   "execution_count": 2,
   "id": "a4fc0ed7",
   "metadata": {},
   "outputs": [],
   "source": [
    "PATH_DATA = os.path.join(os.getenv(\"PATH_DATA_PROJECTS\"), \"Tabular\", \"market_segmentation_insurance\")"
   ]
  },
  {
   "cell_type": "code",
   "execution_count": 19,
   "id": "ccedbada",
   "metadata": {},
   "outputs": [],
   "source": [
    "NUMERIC_FEATURES = [\"balance\", \"balance_frequency\", \"purchases\", \"oneoff_purchases\", \"installments_purchases\", \"cash_advance\", \"purchases_frequency\", \n",
    "                    \"oneoff_purchases_frequency\", \"purchases_installments_frequency\", \"cash_advance_frequency\", \"cash_advance_trx\", \"purchases_trx\", \n",
    "                    \"credit_limit\", \"payments\", \"minimum_payments\", \"prc_full_payment\"]"
   ]
  },
  {
   "cell_type": "code",
   "execution_count": 20,
   "id": "c35d0829",
   "metadata": {},
   "outputs": [],
   "source": [
    "CATEGORICAL_FEATURES = [\"tenure\"]"
   ]
  },
  {
   "cell_type": "markdown",
   "id": "ccfae487",
   "metadata": {},
   "source": [
    "### 3.1. Extract"
   ]
  },
  {
   "cell_type": "code",
   "execution_count": 3,
   "id": "eb363218",
   "metadata": {},
   "outputs": [],
   "source": [
    "from pyspark.sql import SparkSession\n",
    "from pyspark.sql.types import StructType, StructField, StringType"
   ]
  },
  {
   "cell_type": "code",
   "execution_count": 4,
   "id": "74041b49",
   "metadata": {},
   "outputs": [],
   "source": [
    "spark = SparkSession.builder \\\n",
    "    .appName(\"Read CSV Market segmentation insurance\") \\\n",
    "    .master(\"local[*]\") \\\n",
    "    .getOrCreate()"
   ]
  },
  {
   "cell_type": "code",
   "execution_count": 5,
   "id": "dd0e2bc5",
   "metadata": {},
   "outputs": [],
   "source": [
    "schema = StructType([\n",
    "    StructField(\"cust_id\", StringType(), True),\n",
    "    StructField(\"balance\", StringType(), True),\n",
    "    StructField(\"balance_frequency\", StringType(), True),\n",
    "    StructField(\"purchases\", StringType(), True),\n",
    "    StructField(\"oneoff_purchases\", StringType(), True),\n",
    "    StructField(\"installments_purchases\", StringType(), True),\n",
    "    StructField(\"cash_advance\", StringType(), True),\n",
    "    StructField(\"purchases_frequency\", StringType(), True),\n",
    "    StructField(\"oneoff_purchases_frequency\", StringType(), True),\n",
    "    StructField(\"purchases_installments_frequency\", StringType(), True),\n",
    "    StructField(\"cash_advance_frequency\", StringType(), True),\n",
    "    StructField(\"cash_advance_trx\", StringType(), True),\n",
    "    StructField(\"purchases_trx\", StringType(), True),\n",
    "    StructField(\"credit_limit\", StringType(), True),\n",
    "    StructField(\"payments\", StringType(), True),\n",
    "    StructField(\"minimum_payments\", StringType(), True),\n",
    "    StructField(\"prc_full_payment\", StringType(), True),\n",
    "    StructField(\"tenure\", StringType(), True),\n",
    "])"
   ]
  },
  {
   "cell_type": "code",
   "execution_count": 6,
   "id": "e92b7a14",
   "metadata": {},
   "outputs": [],
   "source": [
    "df = spark.read.csv(os.path.join(PATH_DATA, \"CustomerData.csv\"), header = True, schema = schema)"
   ]
  },
  {
   "cell_type": "code",
   "execution_count": 7,
   "id": "81a8539d",
   "metadata": {},
   "outputs": [
    {
     "name": "stdout",
     "output_type": "stream",
     "text": [
      "root\n",
      " |-- cust_id: string (nullable = true)\n",
      " |-- balance: string (nullable = true)\n",
      " |-- balance_frequency: string (nullable = true)\n",
      " |-- purchases: string (nullable = true)\n",
      " |-- oneoff_purchases: string (nullable = true)\n",
      " |-- installments_purchases: string (nullable = true)\n",
      " |-- cash_advance: string (nullable = true)\n",
      " |-- purchases_frequency: string (nullable = true)\n",
      " |-- oneoff_purchases_frequency: string (nullable = true)\n",
      " |-- purchases_installments_frequency: string (nullable = true)\n",
      " |-- cash_advance_frequency: string (nullable = true)\n",
      " |-- cash_advance_trx: string (nullable = true)\n",
      " |-- purchases_trx: string (nullable = true)\n",
      " |-- credit_limit: string (nullable = true)\n",
      " |-- payments: string (nullable = true)\n",
      " |-- minimum_payments: string (nullable = true)\n",
      " |-- prc_full_payment: string (nullable = true)\n",
      " |-- tenure: string (nullable = true)\n",
      "\n"
     ]
    }
   ],
   "source": [
    "df.printSchema()"
   ]
  },
  {
   "cell_type": "code",
   "execution_count": 8,
   "id": "8a2a7fff",
   "metadata": {},
   "outputs": [
    {
     "name": "stdout",
     "output_type": "stream",
     "text": [
      "+-------+-----------+-----------------+---------+----------------+----------------------+------------+-------------------+--------------------------+--------------------------------+----------------------+----------------+-------------+------------+-----------+----------------+----------------+------+\n",
      "|cust_id|    balance|balance_frequency|purchases|oneoff_purchases|installments_purchases|cash_advance|purchases_frequency|oneoff_purchases_frequency|purchases_installments_frequency|cash_advance_frequency|cash_advance_trx|purchases_trx|credit_limit|   payments|minimum_payments|prc_full_payment|tenure|\n",
      "+-------+-----------+-----------------+---------+----------------+----------------------+------------+-------------------+--------------------------+--------------------------------+----------------------+----------------+-------------+------------+-----------+----------------+----------------+------+\n",
      "| C10001|  40.900749|         0.818182|     95.4|               0|                  95.4|           0|           0.166667|                         0|                        0.083333|                     0|               0|            2|        1000| 201.802084|      139.509787|               0|    12|\n",
      "| C10002|3202.467416|         0.909091|        0|               0|                     0| 6442.945483|                  0|                         0|                               0|                  0.25|               4|            0|        7000|4103.032597|     1072.340217|        0.222222|    12|\n",
      "| C10003|2495.148862|                1|   773.17|          773.17|                     0|           0|                  1|                         1|                               0|                     0|               0|           12|        7500| 622.066742|      627.284787|               0|    12|\n",
      "| C10004|1666.670542|         0.636364|     1499|            1499|                     0|  205.788017|           0.083333|                  0.083333|                               0|              0.083333|               1|            1|        7500|          0|            NULL|               0|    12|\n",
      "| C10005| 817.714335|                1|       16|              16|                     0|           0|           0.083333|                  0.083333|                               0|                     0|               0|            1|        1200| 678.334763|      244.791237|               0|    12|\n",
      "+-------+-----------+-----------------+---------+----------------+----------------------+------------+-------------------+--------------------------+--------------------------------+----------------------+----------------+-------------+------------+-----------+----------------+----------------+------+\n",
      "only showing top 5 rows\n",
      "\n"
     ]
    }
   ],
   "source": [
    "df.show(5)"
   ]
  },
  {
   "cell_type": "markdown",
   "id": "467d2963",
   "metadata": {},
   "source": [
    "### 3.2. Transform"
   ]
  },
  {
   "cell_type": "markdown",
   "id": "82de20b1",
   "metadata": {},
   "source": [
    "#### 3.2.1. Data profiling"
   ]
  },
  {
   "cell_type": "code",
   "execution_count": 9,
   "id": "5bb0e1a3",
   "metadata": {},
   "outputs": [],
   "source": [
    "from pyspark.sql.functions import col, count, when, lit, trim"
   ]
  },
  {
   "cell_type": "markdown",
   "id": "a42f5464",
   "metadata": {},
   "source": [
    "##### 3.2.1.1. Identify missing values"
   ]
  },
  {
   "cell_type": "code",
   "execution_count": 10,
   "id": "c944147a",
   "metadata": {},
   "outputs": [
    {
     "name": "stdout",
     "output_type": "stream",
     "text": [
      "Total missing values by columns:\n",
      "-RECORD 0-------------------------------\n",
      " cust_id                          | 0   \n",
      " balance                          | 0   \n",
      " balance_frequency                | 0   \n",
      " purchases                        | 0   \n",
      " oneoff_purchases                 | 0   \n",
      " installments_purchases           | 0   \n",
      " cash_advance                     | 0   \n",
      " purchases_frequency              | 0   \n",
      " oneoff_purchases_frequency       | 0   \n",
      " purchases_installments_frequency | 0   \n",
      " cash_advance_frequency           | 0   \n",
      " cash_advance_trx                 | 0   \n",
      " purchases_trx                    | 0   \n",
      " credit_limit                     | 1   \n",
      " payments                         | 0   \n",
      " minimum_payments                 | 313 \n",
      " prc_full_payment                 | 0   \n",
      " tenure                           | 0   \n",
      "\n"
     ]
    }
   ],
   "source": [
    "missing_values_count = df.select([\n",
    "    count(when((col(c).isNull()) | (trim(col(c)) == \"\"), c)).alias(c) \n",
    "    for c in df.columns\n",
    "])\n",
    "print(\"Total missing values by columns:\")\n",
    "missing_values_count.show(vertical = True)"
   ]
  },
  {
   "cell_type": "markdown",
   "id": "810d50b2",
   "metadata": {},
   "source": [
    "##### 3.2.1.2. Identify duplicate values"
   ]
  },
  {
   "cell_type": "code",
   "execution_count": 11,
   "id": "ed689f2e",
   "metadata": {},
   "outputs": [
    {
     "name": "stdout",
     "output_type": "stream",
     "text": [
      "+-------+-------+-----------------+---------+----------------+----------------------+------------+-------------------+--------------------------+--------------------------------+----------------------+----------------+-------------+------------+--------+----------------+----------------+------+-----+\n",
      "|cust_id|balance|balance_frequency|purchases|oneoff_purchases|installments_purchases|cash_advance|purchases_frequency|oneoff_purchases_frequency|purchases_installments_frequency|cash_advance_frequency|cash_advance_trx|purchases_trx|credit_limit|payments|minimum_payments|prc_full_payment|tenure|count|\n",
      "+-------+-------+-----------------+---------+----------------+----------------------+------------+-------------------+--------------------------+--------------------------------+----------------------+----------------+-------------+------------+--------+----------------+----------------+------+-----+\n",
      "+-------+-------+-----------------+---------+----------------+----------------------+------------+-------------------+--------------------------+--------------------------------+----------------------+----------------+-------------+------------+--------+----------------+----------------+------+-----+\n",
      "\n"
     ]
    }
   ],
   "source": [
    "df.groupBy(df.columns) \\\n",
    "    .count() \\\n",
    "    .filter(col(\"count\") > 1) \\\n",
    "    .show()"
   ]
  },
  {
   "cell_type": "markdown",
   "id": "222d8188",
   "metadata": {},
   "source": [
    "##### 3.2.1.3. Validate data consistency "
   ]
  },
  {
   "cell_type": "code",
   "execution_count": 12,
   "id": "2b706636",
   "metadata": {},
   "outputs": [],
   "source": [
    "from pyspark.sql.functions import udf"
   ]
  },
  {
   "cell_type": "code",
   "execution_count": 13,
   "id": "890c8e31",
   "metadata": {},
   "outputs": [],
   "source": [
    "def validate_number(number_string):\n",
    "    try:\n",
    "        float(number_string)\n",
    "        return True\n",
    "    except ValueError:\n",
    "        return False"
   ]
  },
  {
   "cell_type": "code",
   "execution_count": 14,
   "id": "8303e755",
   "metadata": {},
   "outputs": [],
   "source": [
    "is_numeric = udf(validate_number)"
   ]
  },
  {
   "cell_type": "code",
   "execution_count": null,
   "id": "c992a4ac",
   "metadata": {},
   "outputs": [],
   "source": [
    "df_with_validity = df.withColumn(\"balance_is_number\", is_numeric(col(\"balance\")))\n",
    "df_with_validity.filter(col(\"balance_is_number\") == False).show()"
   ]
  },
  {
   "cell_type": "markdown",
   "id": "7d2fa8be",
   "metadata": {},
   "source": [
    "#### 3.2.2. Cleaning"
   ]
  },
  {
   "cell_type": "markdown",
   "id": "b579d346",
   "metadata": {},
   "source": [
    "##### 3.2.2.1. Update datatype"
   ]
  },
  {
   "cell_type": "code",
   "execution_count": 16,
   "id": "d4317174",
   "metadata": {},
   "outputs": [],
   "source": [
    "from pyspark.sql.types import FloatType"
   ]
  },
  {
   "cell_type": "code",
   "execution_count": 21,
   "id": "03be4756",
   "metadata": {},
   "outputs": [],
   "source": [
    "for c in NUMERIC_FEATURES:\n",
    "    df = df.withColumn(c, col(c).cast(FloatType()))"
   ]
  },
  {
   "cell_type": "code",
   "execution_count": 22,
   "id": "b9fa1b9c",
   "metadata": {},
   "outputs": [
    {
     "name": "stdout",
     "output_type": "stream",
     "text": [
      "root\n",
      " |-- cust_id: string (nullable = true)\n",
      " |-- balance: float (nullable = true)\n",
      " |-- balance_frequency: float (nullable = true)\n",
      " |-- purchases: float (nullable = true)\n",
      " |-- oneoff_purchases: float (nullable = true)\n",
      " |-- installments_purchases: float (nullable = true)\n",
      " |-- cash_advance: float (nullable = true)\n",
      " |-- purchases_frequency: float (nullable = true)\n",
      " |-- oneoff_purchases_frequency: float (nullable = true)\n",
      " |-- purchases_installments_frequency: float (nullable = true)\n",
      " |-- cash_advance_frequency: float (nullable = true)\n",
      " |-- cash_advance_trx: float (nullable = true)\n",
      " |-- purchases_trx: float (nullable = true)\n",
      " |-- credit_limit: float (nullable = true)\n",
      " |-- payments: float (nullable = true)\n",
      " |-- minimum_payments: float (nullable = true)\n",
      " |-- prc_full_payment: float (nullable = true)\n",
      " |-- tenure: string (nullable = true)\n",
      "\n"
     ]
    }
   ],
   "source": [
    "df.printSchema()"
   ]
  },
  {
   "cell_type": "markdown",
   "id": "84701882",
   "metadata": {},
   "source": [
    "##### 3.2.2.2. Filling missing values"
   ]
  },
  {
   "cell_type": "code",
   "execution_count": 23,
   "id": "6b43e069",
   "metadata": {},
   "outputs": [],
   "source": [
    "import pyspark.sql.functions as f"
   ]
  },
  {
   "cell_type": "code",
   "execution_count": 29,
   "id": "09d02d14",
   "metadata": {},
   "outputs": [
    {
     "name": "stdout",
     "output_type": "stream",
     "text": [
      "+------------------------+--------------------+\n",
      "|median(minimum_payments)|median(credit_limit)|\n",
      "+------------------------+--------------------+\n",
      "|      312.34393310546875|              3000.0|\n",
      "+------------------------+--------------------+\n",
      "\n"
     ]
    }
   ],
   "source": [
    "df.select(f.median(col(\"minimum_payments\")), f.median(col(\"credit_limit\"))).show()"
   ]
  },
  {
   "cell_type": "code",
   "execution_count": 27,
   "id": "f9a76973",
   "metadata": {},
   "outputs": [],
   "source": [
    "minimum_payments_median = df.agg(f.median(\"minimum_payments\")).collect()[0][0]\n",
    "credit_limit_median = df.agg(f.median(\"credit_limit\")).collect()[0][0]"
   ]
  },
  {
   "cell_type": "code",
   "execution_count": 30,
   "id": "37fef402",
   "metadata": {},
   "outputs": [],
   "source": [
    "df = df.withColumn(\n",
    "    \"minimum_payments\",\n",
    "    when(col(\"minimum_payments\").isNull(), minimum_payments_median).otherwise(col(\"minimum_payments\"))\n",
    ")"
   ]
  },
  {
   "cell_type": "code",
   "execution_count": 31,
   "id": "5fd31e43",
   "metadata": {},
   "outputs": [],
   "source": [
    "df = df.withColumn(\n",
    "    \"credit_limit\",\n",
    "    when(col(\"credit_limit\").isNull(), credit_limit_median).otherwise(col(\"credit_limit\"))\n",
    ")"
   ]
  },
  {
   "cell_type": "code",
   "execution_count": 32,
   "id": "d69a6d75",
   "metadata": {},
   "outputs": [
    {
     "name": "stdout",
     "output_type": "stream",
     "text": [
      "Total missing values by columns:\n",
      "-RECORD 0-------------------------------\n",
      " cust_id                          | 0   \n",
      " balance                          | 0   \n",
      " balance_frequency                | 0   \n",
      " purchases                        | 0   \n",
      " oneoff_purchases                 | 0   \n",
      " installments_purchases           | 0   \n",
      " cash_advance                     | 0   \n",
      " purchases_frequency              | 0   \n",
      " oneoff_purchases_frequency       | 0   \n",
      " purchases_installments_frequency | 0   \n",
      " cash_advance_frequency           | 0   \n",
      " cash_advance_trx                 | 0   \n",
      " purchases_trx                    | 0   \n",
      " credit_limit                     | 0   \n",
      " payments                         | 0   \n",
      " minimum_payments                 | 0   \n",
      " prc_full_payment                 | 0   \n",
      " tenure                           | 0   \n",
      "\n"
     ]
    }
   ],
   "source": [
    "missing_values_count = df.select([\n",
    "    count(when((col(c).isNull()) | (trim(col(c)) == \"\"), c)).alias(c) \n",
    "    for c in df.columns\n",
    "])\n",
    "print(\"Total missing values by columns:\")\n",
    "missing_values_count.show(vertical = True)"
   ]
  },
  {
   "cell_type": "markdown",
   "id": "d1720966",
   "metadata": {},
   "source": [
    "##### 3.2.2.3. Remove white spaces"
   ]
  },
  {
   "cell_type": "code",
   "execution_count": 33,
   "id": "51b6c2b8",
   "metadata": {},
   "outputs": [],
   "source": [
    "df = df.withColumn(\"tenure\", trim(col(\"tenure\")))"
   ]
  },
  {
   "cell_type": "markdown",
   "id": "19e34610",
   "metadata": {},
   "source": [
    "### 3.3. Load"
   ]
  },
  {
   "cell_type": "code",
   "execution_count": null,
   "id": "36be5d47",
   "metadata": {},
   "outputs": [],
   "source": []
  }
 ],
 "metadata": {
  "kernelspec": {
   "display_name": "sklearn-env-1-5",
   "language": "python",
   "name": "python3"
  },
  "language_info": {
   "codemirror_mode": {
    "name": "ipython",
    "version": 3
   },
   "file_extension": ".py",
   "mimetype": "text/x-python",
   "name": "python",
   "nbconvert_exporter": "python",
   "pygments_lexer": "ipython3",
   "version": "3.11.9"
  }
 },
 "nbformat": 4,
 "nbformat_minor": 5
}
