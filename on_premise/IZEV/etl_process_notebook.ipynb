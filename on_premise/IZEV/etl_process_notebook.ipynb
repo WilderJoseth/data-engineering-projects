{
 "cells": [
  {
   "cell_type": "markdown",
   "id": "295199b0",
   "metadata": {},
   "source": [
    "# Incentives for Zero-Emission Vehicles (iZEV) Incentive Program"
   ]
  },
  {
   "cell_type": "markdown",
   "id": "50b80e5e",
   "metadata": {},
   "source": [
    "## 1. Introduction\n",
    "\n",
    "The purpose of this project is to take files of data about iZEV program, and to store them into a relational database by applying an ETL process.\n",
    "\n",
    "* **Programming language**: python\n",
    "* **Relational database**: MSSQL Server 2019"
   ]
  },
  {
   "cell_type": "markdown",
   "id": "e740f174",
   "metadata": {},
   "source": [
    "## 2. Data information\n",
    "\n",
    "This open data provides information about Zero-Emission Vehicles Incentive Program between 2019 and 2024, which was carried out by government of Canada. \n",
    "\n",
    "This data is stored in CSV files:\n",
    "\n",
    "* **iZEV_Data_2019**: data from May 2019 to March 2023.\n",
    "* **iZEV_Data_2023**: data from April 2023 to March 2024.\n",
    "* **iZEV_Data_2024**: data from April 2024 to August 2024.\n",
    "\n",
    "**Link**: https://open.canada.ca/data/en/dataset/42986a95-be23-436e-af15-7c6bf292a2e1/resource/bba4c959-53ca-4d23-9cde-da3ce771bba2"
   ]
  },
  {
   "cell_type": "markdown",
   "id": "ae3ca3df",
   "metadata": {},
   "source": [
    "## 3. ETL process"
   ]
  },
  {
   "cell_type": "code",
   "execution_count": 1,
   "id": "e4b07c89",
   "metadata": {},
   "outputs": [],
   "source": [
    "import os\n",
    "import pandas as pd"
   ]
  },
  {
   "cell_type": "code",
   "execution_count": 2,
   "id": "6a50d383",
   "metadata": {},
   "outputs": [],
   "source": [
    "PATH_DATA = os.path.join(os.getenv(\"PATH_DATA_PROJECTS\"), \"Tabular\", \"izev\")"
   ]
  },
  {
   "cell_type": "markdown",
   "id": "b8075868",
   "metadata": {},
   "source": [
    "### 3.1. Extract"
   ]
  },
  {
   "cell_type": "code",
   "execution_count": 3,
   "id": "335b9653",
   "metadata": {},
   "outputs": [],
   "source": [
    "def get_data_preview(file_name, encoding = \"utf-8\"):\n",
    "    '''\n",
    "        Read files\n",
    "    '''\n",
    "    with open(file_name, \"r\", encoding = encoding) as file:\n",
    "        for i in range(5):\n",
    "            print(f\"Row {i}:\",file.readline())"
   ]
  },
  {
   "cell_type": "markdown",
   "id": "09000969",
   "metadata": {},
   "source": [
    "#### 3.1.1. Get a preview of the data"
   ]
  },
  {
   "cell_type": "markdown",
   "id": "2f96b99f",
   "metadata": {},
   "source": [
    "**Data 2019**"
   ]
  },
  {
   "cell_type": "code",
   "execution_count": 4,
   "id": "64362293",
   "metadata": {},
   "outputs": [
    {
     "name": "stdout",
     "output_type": "stream",
     "text": [
      "Row 0: Incentive Request Date,Month and Year ,Government of Canada Fiscal Year (FY),Calendar Year,Dealership Province / Territory ,Dealership Postal Code,Purchase or Lease,Vehicle Year,Vehicle Make,Vehicle Model,Vehicle Make & Model,\"Battery-Electric Vehicle (BEV) Plug-in Hybrid Electric Vehicle (PHEV) or Fuel Cell Electric Vehicle (FCEV)\",\"BEV/PHEV/FCEV - Battery equal to or greater than 15 kWh or Electric range equal to or greater than 50 km\",\"BEV PHEV  ? 15 kWh or PHEV < 15 kWh (until April 24 2022) and PHEV ?  50 km or PHEV < 50 km and  FCEVs ? 50 km or FCEVs < 50 km (April 25 2022 onward)\",Eligible Incentive, Amount,\"Individual or Organization (Recipient)\",Recipient Province / Territory ,Country,\n",
      "\n",
      "Row 1: 2019-05-15,May 2019,2019-20,2019,British Columbia,V5C 0J4,Purchase,2019,Volkswagen,e-Golf,Volkswagen e-Golf,BEV ,YES,BEV,\"5,000\",Individual,British Columbia,Canada,\n",
      "\n",
      "Row 2: 2019-05-16,May 2019,2019-20,2019,Quebec,G3M 1W1,Purchase,2019,Nissan,Leaf,Nissan Leaf,BEV ,YES,BEV,\"5,000\",Individual,Quebec,Canada,\n",
      "\n",
      "Row 3: 2019-05-16,May 2019,2019-20,2019,Quebec,G3M 1W1,Purchase,2019,Nissan,Leaf,Nissan Leaf,BEV ,YES,BEV,\"5,000\",Individual,Quebec,Canada,\n",
      "\n",
      "Row 4: 2019-05-16,May 2019,2019-20,2019,Quebec,G3M 1W1,Purchase,2019,Nissan,Leaf,Nissan Leaf,BEV ,YES,BEV,\"5,000\",Individual,Quebec,Canada,\n",
      "\n"
     ]
    }
   ],
   "source": [
    "get_data_preview(os.path.join(PATH_DATA, \"iZEV_Data_2019.csv\"))"
   ]
  },
  {
   "cell_type": "markdown",
   "id": "02a8226b",
   "metadata": {},
   "source": [
    "**Data 2023**"
   ]
  },
  {
   "cell_type": "code",
   "execution_count": 5,
   "id": "75c9b0b5",
   "metadata": {},
   "outputs": [
    {
     "name": "stdout",
     "output_type": "stream",
     "text": [
      "Row 0: Incentive Request Date,Month and Year ,Government of Canada Fiscal Year (FY),Calendar Year,Dealership Province / Territory ,Dealership Postal Code,Purchase or Lease,Vehicle Year,Vehicle Make,Vehicle Model,Vehicle Make & Model,\"Battery-Electric Vehicle (BEV) Plug-in Hybrid Electric Vehicle (PHEV) or Fuel Cell Electric Vehicle (FCEV)\",\"BEV/PHEV/FCEV - Battery equal to or greater than 15 kWh or Electric range equal to or greater than 50 km\",\"BEV PHEV  ? 15 kWh or PHEV < 15 kWh (until April 24 2022) and PHEV ?  50 km or PHEV < 50 km and  FCEVs ? 50 km or FCEVs < 50 km (April 25 2022 onward)\",Eligible Incentive, Amount,\"Individual or Organization (Recipient)\",Recipient Province / Territory ,Country\n",
      "\n",
      "Row 1: 2023-04-01,April 2023,2023-24,2023,British Columbia,V6J 1H6,Purchase,2023,Audi,Q4 50 e-tron Quattro,Audi Q4 50 e-tron Quattro,BEV,YES,BEV,\"5,000\",Organization,British Columbia,Canada\n",
      "\n",
      "Row 2: 2023-04-01,April 2023,2023-24,2023,British Columbia,V6J 1H6,Purchase,2023,Audi,Q4 50 e-tron Quattro,Audi Q4 50 e-tron Quattro,BEV,YES,BEV,\"5,000\",Organization,British Columbia,Canada\n",
      "\n",
      "Row 3: 2023-04-01,April 2023,2023-24,2023,British Columbia,V6V 2M6,Purchase,2023,Lexus,NX 450h+,Lexus NX 450h+,PHEV,YES,PHEVs ? 50km,\"5,000\",Individual,British Columbia,Canada\n",
      "\n",
      "Row 4: 2023-04-01,April 2023,2023-24,2023,British Columbia,V6J 1H6,Lease,2023,Audi,Q4 50 e-tron Quattro,Audi Q4 50 e-tron Quattro,BEV,YES,BEV,\"5,000\",Individual,British Columbia,Canada\n",
      "\n"
     ]
    }
   ],
   "source": [
    "get_data_preview(os.path.join(PATH_DATA, \"iZEV_Data_2023.csv\"))"
   ]
  },
  {
   "cell_type": "markdown",
   "id": "1ac434e1",
   "metadata": {},
   "source": [
    "**Data 2024**"
   ]
  },
  {
   "cell_type": "code",
   "execution_count": 6,
   "id": "a75fbfd5",
   "metadata": {},
   "outputs": [
    {
     "name": "stdout",
     "output_type": "stream",
     "text": [
      "Row 0: Incentive Request Date,Month and Year ,Government of Canada Fiscal Year (FY),Calendar Year,Dealership Province / Territory ,Dealership Postal Code,Purchase or Lease,Vehicle Year,Vehicle Make,Vehicle Model,Vehicle Make & Model,\"Battery-Electric Vehicle (BEV) Plug-in Hybrid Electric Vehicle (PHEV) or Fuel Cell Electric Vehicle (FCEV)\",\"BEV/PHEV/FCEV - Battery equal to or greater than 15 kWh or Electric range equal to or greater than 50 km\",\"BEV PHEV  ? 15 kWh or PHEV < 15 kWh (until April 24 2022) and PHEV ?  50 km or PHEV < 50 km and  FCEVs ? 50 km or FCEVs < 50 km (April 25 2022 onward)\",Eligible Incentive, Amount,\"Individual or Organization (Recipient)\",Recipient Province / Territory ,Country\n",
      "\n",
      "Row 1: 2024-04-01,April 2024,2024-25,2024,British Columbia,V5L 1H7,Purchase,2023,Tesla,Model Y,Tesla Model Y,BEV ,YES ,BEV,\"5,000\",Individual,British Columbia,Canada\n",
      "\n",
      "Row 2: 2024-04-01,April 2024,2024-25,2024,British Columbia,V5L 1H7,Purchase,2023,Tesla,Model Y,Tesla Model Y,BEV ,YES ,BEV,\"5,000\",Individual,British Columbia,Canada\n",
      "\n",
      "Row 3: 2024-04-01,April 2024,2024-25,2024,British Columbia,V5L 1H7,Purchase,2023,Tesla,Model Y,Tesla Model Y,BEV ,YES ,BEV,\"5,000\",Individual,British Columbia,Canada\n",
      "\n",
      "Row 4: 2024-04-01,April 2024,2024-25,2024,British Columbia,V5L 1H7,Purchase,2023,Tesla,Model Y,Tesla Model Y,BEV ,YES ,BEV,\"5,000\",Individual,British Columbia,Canada\n",
      "\n"
     ]
    }
   ],
   "source": [
    "get_data_preview(os.path.join(PATH_DATA, \"iZEV_Data_2024.csv\"), \"windows-1252\")"
   ]
  },
  {
   "cell_type": "markdown",
   "id": "d3212599",
   "metadata": {},
   "source": [
    "**Summary:**\n",
    "\n",
    "* The name of the columns are too complex to deal with, so it is necessary to change them."
   ]
  },
  {
   "cell_type": "markdown",
   "id": "1e846e19",
   "metadata": {},
   "source": [
    "#### 3.1.2. Read data"
   ]
  },
  {
   "cell_type": "code",
   "execution_count": 7,
   "id": "7390175e",
   "metadata": {},
   "outputs": [],
   "source": [
    "columns = [\"Request_Date\", \"Month_Year\", \"Fiscal_Year\", \"Calendar_Year\", \"Dealership_Province\", \"Dealership_Code\", \"Purchase_or_Lease\", \"Vehicle_Year\", \"Vehicle_Make\", \n",
    "            \"Vehicle_Model\", \"Vehicle_Make_Model\", \"BEV_PHEV_FCEV\", \"BEV_PHEV_FCEV_15\", \"BEV_PHEV_FCEV_15_2022\", \"Eligible_Incentive_Amount\",\n",
    "            \"Recipient\", \"Recipient_Province\", \"Country\"]"
   ]
  },
  {
   "cell_type": "markdown",
   "id": "a3fae128",
   "metadata": {},
   "source": [
    "**Data 2019**"
   ]
  },
  {
   "cell_type": "code",
   "execution_count": 8,
   "id": "4dd49799",
   "metadata": {},
   "outputs": [
    {
     "name": "stdout",
     "output_type": "stream",
     "text": [
      "Shape: (202206, 19)\n"
     ]
    },
    {
     "data": {
      "text/html": [
       "<div>\n",
       "<style scoped>\n",
       "    .dataframe tbody tr th:only-of-type {\n",
       "        vertical-align: middle;\n",
       "    }\n",
       "\n",
       "    .dataframe tbody tr th {\n",
       "        vertical-align: top;\n",
       "    }\n",
       "\n",
       "    .dataframe thead th {\n",
       "        text-align: right;\n",
       "    }\n",
       "</style>\n",
       "<table border=\"1\" class=\"dataframe\">\n",
       "  <thead>\n",
       "    <tr style=\"text-align: right;\">\n",
       "      <th></th>\n",
       "      <th>0</th>\n",
       "      <th>1</th>\n",
       "      <th>2</th>\n",
       "      <th>3</th>\n",
       "      <th>4</th>\n",
       "      <th>5</th>\n",
       "      <th>6</th>\n",
       "      <th>7</th>\n",
       "      <th>8</th>\n",
       "      <th>9</th>\n",
       "      <th>10</th>\n",
       "      <th>11</th>\n",
       "      <th>12</th>\n",
       "      <th>13</th>\n",
       "      <th>14</th>\n",
       "      <th>15</th>\n",
       "      <th>16</th>\n",
       "      <th>17</th>\n",
       "      <th>18</th>\n",
       "    </tr>\n",
       "  </thead>\n",
       "  <tbody>\n",
       "    <tr>\n",
       "      <th>0</th>\n",
       "      <td>2019-05-15</td>\n",
       "      <td>May 2019</td>\n",
       "      <td>2019-20</td>\n",
       "      <td>2019</td>\n",
       "      <td>British Columbia</td>\n",
       "      <td>V5C 0J4</td>\n",
       "      <td>Purchase</td>\n",
       "      <td>2019</td>\n",
       "      <td>Volkswagen</td>\n",
       "      <td>e-Golf</td>\n",
       "      <td>Volkswagen e-Golf</td>\n",
       "      <td>BEV</td>\n",
       "      <td>YES</td>\n",
       "      <td>BEV</td>\n",
       "      <td>5,000</td>\n",
       "      <td>Individual</td>\n",
       "      <td>British Columbia</td>\n",
       "      <td>Canada</td>\n",
       "      <td>NaN</td>\n",
       "    </tr>\n",
       "    <tr>\n",
       "      <th>1</th>\n",
       "      <td>2019-05-16</td>\n",
       "      <td>May 2019</td>\n",
       "      <td>2019-20</td>\n",
       "      <td>2019</td>\n",
       "      <td>Quebec</td>\n",
       "      <td>G3M 1W1</td>\n",
       "      <td>Purchase</td>\n",
       "      <td>2019</td>\n",
       "      <td>Nissan</td>\n",
       "      <td>Leaf</td>\n",
       "      <td>Nissan Leaf</td>\n",
       "      <td>BEV</td>\n",
       "      <td>YES</td>\n",
       "      <td>BEV</td>\n",
       "      <td>5,000</td>\n",
       "      <td>Individual</td>\n",
       "      <td>Quebec</td>\n",
       "      <td>Canada</td>\n",
       "      <td>NaN</td>\n",
       "    </tr>\n",
       "    <tr>\n",
       "      <th>2</th>\n",
       "      <td>2019-05-16</td>\n",
       "      <td>May 2019</td>\n",
       "      <td>2019-20</td>\n",
       "      <td>2019</td>\n",
       "      <td>Quebec</td>\n",
       "      <td>G3M 1W1</td>\n",
       "      <td>Purchase</td>\n",
       "      <td>2019</td>\n",
       "      <td>Nissan</td>\n",
       "      <td>Leaf</td>\n",
       "      <td>Nissan Leaf</td>\n",
       "      <td>BEV</td>\n",
       "      <td>YES</td>\n",
       "      <td>BEV</td>\n",
       "      <td>5,000</td>\n",
       "      <td>Individual</td>\n",
       "      <td>Quebec</td>\n",
       "      <td>Canada</td>\n",
       "      <td>NaN</td>\n",
       "    </tr>\n",
       "    <tr>\n",
       "      <th>3</th>\n",
       "      <td>2019-05-16</td>\n",
       "      <td>May 2019</td>\n",
       "      <td>2019-20</td>\n",
       "      <td>2019</td>\n",
       "      <td>Quebec</td>\n",
       "      <td>G3M 1W1</td>\n",
       "      <td>Purchase</td>\n",
       "      <td>2019</td>\n",
       "      <td>Nissan</td>\n",
       "      <td>Leaf</td>\n",
       "      <td>Nissan Leaf</td>\n",
       "      <td>BEV</td>\n",
       "      <td>YES</td>\n",
       "      <td>BEV</td>\n",
       "      <td>5,000</td>\n",
       "      <td>Individual</td>\n",
       "      <td>Quebec</td>\n",
       "      <td>Canada</td>\n",
       "      <td>NaN</td>\n",
       "    </tr>\n",
       "    <tr>\n",
       "      <th>4</th>\n",
       "      <td>2019-05-16</td>\n",
       "      <td>May 2019</td>\n",
       "      <td>2019-20</td>\n",
       "      <td>2019</td>\n",
       "      <td>Quebec</td>\n",
       "      <td>J9P 7B2</td>\n",
       "      <td>Purchase</td>\n",
       "      <td>2019</td>\n",
       "      <td>Hyundai</td>\n",
       "      <td>Ioniq electric</td>\n",
       "      <td>Hyundai Ioniq electric</td>\n",
       "      <td>BEV</td>\n",
       "      <td>YES</td>\n",
       "      <td>BEV</td>\n",
       "      <td>5,000</td>\n",
       "      <td>Individual</td>\n",
       "      <td>Quebec</td>\n",
       "      <td>Canada</td>\n",
       "      <td>NaN</td>\n",
       "    </tr>\n",
       "  </tbody>\n",
       "</table>\n",
       "</div>"
      ],
      "text/plain": [
       "           0         1        2     3                 4        5         6   \\\n",
       "0  2019-05-15  May 2019  2019-20  2019  British Columbia  V5C 0J4  Purchase   \n",
       "1  2019-05-16  May 2019  2019-20  2019            Quebec  G3M 1W1  Purchase   \n",
       "2  2019-05-16  May 2019  2019-20  2019            Quebec  G3M 1W1  Purchase   \n",
       "3  2019-05-16  May 2019  2019-20  2019            Quebec  G3M 1W1  Purchase   \n",
       "4  2019-05-16  May 2019  2019-20  2019            Quebec  J9P 7B2  Purchase   \n",
       "\n",
       "     7           8               9                       10    11   12   13  \\\n",
       "0  2019  Volkswagen          e-Golf       Volkswagen e-Golf  BEV   YES  BEV   \n",
       "1  2019      Nissan            Leaf             Nissan Leaf  BEV   YES  BEV   \n",
       "2  2019      Nissan            Leaf             Nissan Leaf  BEV   YES  BEV   \n",
       "3  2019      Nissan            Leaf             Nissan Leaf  BEV   YES  BEV   \n",
       "4  2019     Hyundai  Ioniq electric  Hyundai Ioniq electric  BEV   YES  BEV   \n",
       "\n",
       "      14          15                16      17  18  \n",
       "0  5,000  Individual  British Columbia  Canada NaN  \n",
       "1  5,000  Individual            Quebec  Canada NaN  \n",
       "2  5,000  Individual            Quebec  Canada NaN  \n",
       "3  5,000  Individual            Quebec  Canada NaN  \n",
       "4  5,000  Individual            Quebec  Canada NaN  "
      ]
     },
     "execution_count": 8,
     "metadata": {},
     "output_type": "execute_result"
    }
   ],
   "source": [
    "df_2019 = pd.read_csv(os.path.join(PATH_DATA, \"iZEV_Data_2019.csv\"), sep = \",\", header = None, skiprows = 1)\n",
    "print(\"Shape:\", df_2019.shape)\n",
    "df_2019.head()"
   ]
  },
  {
   "cell_type": "code",
   "execution_count": 9,
   "id": "aeee3a4f",
   "metadata": {},
   "outputs": [
    {
     "data": {
      "text/html": [
       "<div>\n",
       "<style scoped>\n",
       "    .dataframe tbody tr th:only-of-type {\n",
       "        vertical-align: middle;\n",
       "    }\n",
       "\n",
       "    .dataframe tbody tr th {\n",
       "        vertical-align: top;\n",
       "    }\n",
       "\n",
       "    .dataframe thead th {\n",
       "        text-align: right;\n",
       "    }\n",
       "</style>\n",
       "<table border=\"1\" class=\"dataframe\">\n",
       "  <thead>\n",
       "    <tr style=\"text-align: right;\">\n",
       "      <th></th>\n",
       "      <th>Request_Date</th>\n",
       "      <th>Month_Year</th>\n",
       "      <th>Fiscal_Year</th>\n",
       "      <th>Calendar_Year</th>\n",
       "      <th>Dealership_Province</th>\n",
       "      <th>Dealership_Code</th>\n",
       "      <th>Purchase_or_Lease</th>\n",
       "      <th>Vehicle_Year</th>\n",
       "      <th>Vehicle_Make</th>\n",
       "      <th>Vehicle_Model</th>\n",
       "      <th>Vehicle_Make_Model</th>\n",
       "      <th>BEV_PHEV_FCEV</th>\n",
       "      <th>BEV_PHEV_FCEV_15</th>\n",
       "      <th>BEV_PHEV_FCEV_15_2022</th>\n",
       "      <th>Eligible_Incentive_Amount</th>\n",
       "      <th>Recipient</th>\n",
       "      <th>Recipient_Province</th>\n",
       "      <th>Country</th>\n",
       "    </tr>\n",
       "  </thead>\n",
       "  <tbody>\n",
       "    <tr>\n",
       "      <th>0</th>\n",
       "      <td>2019-05-15</td>\n",
       "      <td>May 2019</td>\n",
       "      <td>2019-20</td>\n",
       "      <td>2019</td>\n",
       "      <td>British Columbia</td>\n",
       "      <td>V5C 0J4</td>\n",
       "      <td>Purchase</td>\n",
       "      <td>2019</td>\n",
       "      <td>Volkswagen</td>\n",
       "      <td>e-Golf</td>\n",
       "      <td>Volkswagen e-Golf</td>\n",
       "      <td>BEV</td>\n",
       "      <td>YES</td>\n",
       "      <td>BEV</td>\n",
       "      <td>5,000</td>\n",
       "      <td>Individual</td>\n",
       "      <td>British Columbia</td>\n",
       "      <td>Canada</td>\n",
       "    </tr>\n",
       "    <tr>\n",
       "      <th>1</th>\n",
       "      <td>2019-05-16</td>\n",
       "      <td>May 2019</td>\n",
       "      <td>2019-20</td>\n",
       "      <td>2019</td>\n",
       "      <td>Quebec</td>\n",
       "      <td>G3M 1W1</td>\n",
       "      <td>Purchase</td>\n",
       "      <td>2019</td>\n",
       "      <td>Nissan</td>\n",
       "      <td>Leaf</td>\n",
       "      <td>Nissan Leaf</td>\n",
       "      <td>BEV</td>\n",
       "      <td>YES</td>\n",
       "      <td>BEV</td>\n",
       "      <td>5,000</td>\n",
       "      <td>Individual</td>\n",
       "      <td>Quebec</td>\n",
       "      <td>Canada</td>\n",
       "    </tr>\n",
       "    <tr>\n",
       "      <th>2</th>\n",
       "      <td>2019-05-16</td>\n",
       "      <td>May 2019</td>\n",
       "      <td>2019-20</td>\n",
       "      <td>2019</td>\n",
       "      <td>Quebec</td>\n",
       "      <td>G3M 1W1</td>\n",
       "      <td>Purchase</td>\n",
       "      <td>2019</td>\n",
       "      <td>Nissan</td>\n",
       "      <td>Leaf</td>\n",
       "      <td>Nissan Leaf</td>\n",
       "      <td>BEV</td>\n",
       "      <td>YES</td>\n",
       "      <td>BEV</td>\n",
       "      <td>5,000</td>\n",
       "      <td>Individual</td>\n",
       "      <td>Quebec</td>\n",
       "      <td>Canada</td>\n",
       "    </tr>\n",
       "    <tr>\n",
       "      <th>3</th>\n",
       "      <td>2019-05-16</td>\n",
       "      <td>May 2019</td>\n",
       "      <td>2019-20</td>\n",
       "      <td>2019</td>\n",
       "      <td>Quebec</td>\n",
       "      <td>G3M 1W1</td>\n",
       "      <td>Purchase</td>\n",
       "      <td>2019</td>\n",
       "      <td>Nissan</td>\n",
       "      <td>Leaf</td>\n",
       "      <td>Nissan Leaf</td>\n",
       "      <td>BEV</td>\n",
       "      <td>YES</td>\n",
       "      <td>BEV</td>\n",
       "      <td>5,000</td>\n",
       "      <td>Individual</td>\n",
       "      <td>Quebec</td>\n",
       "      <td>Canada</td>\n",
       "    </tr>\n",
       "    <tr>\n",
       "      <th>4</th>\n",
       "      <td>2019-05-16</td>\n",
       "      <td>May 2019</td>\n",
       "      <td>2019-20</td>\n",
       "      <td>2019</td>\n",
       "      <td>Quebec</td>\n",
       "      <td>J9P 7B2</td>\n",
       "      <td>Purchase</td>\n",
       "      <td>2019</td>\n",
       "      <td>Hyundai</td>\n",
       "      <td>Ioniq electric</td>\n",
       "      <td>Hyundai Ioniq electric</td>\n",
       "      <td>BEV</td>\n",
       "      <td>YES</td>\n",
       "      <td>BEV</td>\n",
       "      <td>5,000</td>\n",
       "      <td>Individual</td>\n",
       "      <td>Quebec</td>\n",
       "      <td>Canada</td>\n",
       "    </tr>\n",
       "  </tbody>\n",
       "</table>\n",
       "</div>"
      ],
      "text/plain": [
       "  Request_Date Month_Year Fiscal_Year  Calendar_Year Dealership_Province  \\\n",
       "0   2019-05-15   May 2019     2019-20           2019    British Columbia   \n",
       "1   2019-05-16   May 2019     2019-20           2019              Quebec   \n",
       "2   2019-05-16   May 2019     2019-20           2019              Quebec   \n",
       "3   2019-05-16   May 2019     2019-20           2019              Quebec   \n",
       "4   2019-05-16   May 2019     2019-20           2019              Quebec   \n",
       "\n",
       "  Dealership_Code Purchase_or_Lease  Vehicle_Year Vehicle_Make  \\\n",
       "0         V5C 0J4          Purchase          2019   Volkswagen   \n",
       "1         G3M 1W1          Purchase          2019       Nissan   \n",
       "2         G3M 1W1          Purchase          2019       Nissan   \n",
       "3         G3M 1W1          Purchase          2019       Nissan   \n",
       "4         J9P 7B2          Purchase          2019      Hyundai   \n",
       "\n",
       "    Vehicle_Model      Vehicle_Make_Model BEV_PHEV_FCEV BEV_PHEV_FCEV_15  \\\n",
       "0          e-Golf       Volkswagen e-Golf          BEV               YES   \n",
       "1            Leaf             Nissan Leaf          BEV               YES   \n",
       "2            Leaf             Nissan Leaf          BEV               YES   \n",
       "3            Leaf             Nissan Leaf          BEV               YES   \n",
       "4  Ioniq electric  Hyundai Ioniq electric          BEV               YES   \n",
       "\n",
       "  BEV_PHEV_FCEV_15_2022 Eligible_Incentive_Amount   Recipient  \\\n",
       "0                   BEV                     5,000  Individual   \n",
       "1                   BEV                     5,000  Individual   \n",
       "2                   BEV                     5,000  Individual   \n",
       "3                   BEV                     5,000  Individual   \n",
       "4                   BEV                     5,000  Individual   \n",
       "\n",
       "  Recipient_Province Country  \n",
       "0   British Columbia  Canada  \n",
       "1             Quebec  Canada  \n",
       "2             Quebec  Canada  \n",
       "3             Quebec  Canada  \n",
       "4             Quebec  Canada  "
      ]
     },
     "execution_count": 9,
     "metadata": {},
     "output_type": "execute_result"
    }
   ],
   "source": [
    "df_2019.drop(18, axis = 1, inplace = True)\n",
    "df_2019.columns = columns\n",
    "df_2019.head()"
   ]
  },
  {
   "cell_type": "markdown",
   "id": "5ab063c4",
   "metadata": {},
   "source": [
    "**Data 2023**"
   ]
  },
  {
   "cell_type": "code",
   "execution_count": 10,
   "id": "74ed073b",
   "metadata": {},
   "outputs": [
    {
     "name": "stdout",
     "output_type": "stream",
     "text": [
      "Shape: (166758, 18)\n"
     ]
    },
    {
     "data": {
      "text/html": [
       "<div>\n",
       "<style scoped>\n",
       "    .dataframe tbody tr th:only-of-type {\n",
       "        vertical-align: middle;\n",
       "    }\n",
       "\n",
       "    .dataframe tbody tr th {\n",
       "        vertical-align: top;\n",
       "    }\n",
       "\n",
       "    .dataframe thead th {\n",
       "        text-align: right;\n",
       "    }\n",
       "</style>\n",
       "<table border=\"1\" class=\"dataframe\">\n",
       "  <thead>\n",
       "    <tr style=\"text-align: right;\">\n",
       "      <th></th>\n",
       "      <th>0</th>\n",
       "      <th>1</th>\n",
       "      <th>2</th>\n",
       "      <th>3</th>\n",
       "      <th>4</th>\n",
       "      <th>5</th>\n",
       "      <th>6</th>\n",
       "      <th>7</th>\n",
       "      <th>8</th>\n",
       "      <th>9</th>\n",
       "      <th>10</th>\n",
       "      <th>11</th>\n",
       "      <th>12</th>\n",
       "      <th>13</th>\n",
       "      <th>14</th>\n",
       "      <th>15</th>\n",
       "      <th>16</th>\n",
       "      <th>17</th>\n",
       "    </tr>\n",
       "  </thead>\n",
       "  <tbody>\n",
       "    <tr>\n",
       "      <th>0</th>\n",
       "      <td>2023-04-01</td>\n",
       "      <td>April 2023</td>\n",
       "      <td>2023-24</td>\n",
       "      <td>2023.0</td>\n",
       "      <td>British Columbia</td>\n",
       "      <td>V6J 1H6</td>\n",
       "      <td>Purchase</td>\n",
       "      <td>2023.0</td>\n",
       "      <td>Audi</td>\n",
       "      <td>Q4 50 e-tron Quattro</td>\n",
       "      <td>Audi Q4 50 e-tron Quattro</td>\n",
       "      <td>BEV</td>\n",
       "      <td>YES</td>\n",
       "      <td>BEV</td>\n",
       "      <td>5,000</td>\n",
       "      <td>Organization</td>\n",
       "      <td>British Columbia</td>\n",
       "      <td>Canada</td>\n",
       "    </tr>\n",
       "    <tr>\n",
       "      <th>1</th>\n",
       "      <td>2023-04-01</td>\n",
       "      <td>April 2023</td>\n",
       "      <td>2023-24</td>\n",
       "      <td>2023.0</td>\n",
       "      <td>British Columbia</td>\n",
       "      <td>V6J 1H6</td>\n",
       "      <td>Purchase</td>\n",
       "      <td>2023.0</td>\n",
       "      <td>Audi</td>\n",
       "      <td>Q4 50 e-tron Quattro</td>\n",
       "      <td>Audi Q4 50 e-tron Quattro</td>\n",
       "      <td>BEV</td>\n",
       "      <td>YES</td>\n",
       "      <td>BEV</td>\n",
       "      <td>5,000</td>\n",
       "      <td>Organization</td>\n",
       "      <td>British Columbia</td>\n",
       "      <td>Canada</td>\n",
       "    </tr>\n",
       "    <tr>\n",
       "      <th>2</th>\n",
       "      <td>2023-04-01</td>\n",
       "      <td>April 2023</td>\n",
       "      <td>2023-24</td>\n",
       "      <td>2023.0</td>\n",
       "      <td>British Columbia</td>\n",
       "      <td>V6V 2M6</td>\n",
       "      <td>Purchase</td>\n",
       "      <td>2023.0</td>\n",
       "      <td>Lexus</td>\n",
       "      <td>NX 450h+</td>\n",
       "      <td>Lexus NX 450h+</td>\n",
       "      <td>PHEV</td>\n",
       "      <td>YES</td>\n",
       "      <td>PHEVs ? 50km</td>\n",
       "      <td>5,000</td>\n",
       "      <td>Individual</td>\n",
       "      <td>British Columbia</td>\n",
       "      <td>Canada</td>\n",
       "    </tr>\n",
       "    <tr>\n",
       "      <th>3</th>\n",
       "      <td>2023-04-01</td>\n",
       "      <td>April 2023</td>\n",
       "      <td>2023-24</td>\n",
       "      <td>2023.0</td>\n",
       "      <td>British Columbia</td>\n",
       "      <td>V6J 1H6</td>\n",
       "      <td>Lease</td>\n",
       "      <td>2023.0</td>\n",
       "      <td>Audi</td>\n",
       "      <td>Q4 50 e-tron Quattro</td>\n",
       "      <td>Audi Q4 50 e-tron Quattro</td>\n",
       "      <td>BEV</td>\n",
       "      <td>YES</td>\n",
       "      <td>BEV</td>\n",
       "      <td>5,000</td>\n",
       "      <td>Individual</td>\n",
       "      <td>British Columbia</td>\n",
       "      <td>Canada</td>\n",
       "    </tr>\n",
       "    <tr>\n",
       "      <th>4</th>\n",
       "      <td>2023-04-01</td>\n",
       "      <td>April 2023</td>\n",
       "      <td>2023-24</td>\n",
       "      <td>2023.0</td>\n",
       "      <td>Ontario</td>\n",
       "      <td>L6L 2X6</td>\n",
       "      <td>Purchase</td>\n",
       "      <td>2023.0</td>\n",
       "      <td>Mitsubishi</td>\n",
       "      <td>Outlander PHEV</td>\n",
       "      <td>Mitsubishi Outlander PHEV</td>\n",
       "      <td>PHEV</td>\n",
       "      <td>YES</td>\n",
       "      <td>PHEVs ? 50km</td>\n",
       "      <td>5,000</td>\n",
       "      <td>Individual</td>\n",
       "      <td>Ontario</td>\n",
       "      <td>Canada</td>\n",
       "    </tr>\n",
       "  </tbody>\n",
       "</table>\n",
       "</div>"
      ],
      "text/plain": [
       "           0           1        2       3                 4        5   \\\n",
       "0  2023-04-01  April 2023  2023-24  2023.0  British Columbia  V6J 1H6   \n",
       "1  2023-04-01  April 2023  2023-24  2023.0  British Columbia  V6J 1H6   \n",
       "2  2023-04-01  April 2023  2023-24  2023.0  British Columbia  V6V 2M6   \n",
       "3  2023-04-01  April 2023  2023-24  2023.0  British Columbia  V6J 1H6   \n",
       "4  2023-04-01  April 2023  2023-24  2023.0           Ontario  L6L 2X6   \n",
       "\n",
       "         6       7           8                     9   \\\n",
       "0  Purchase  2023.0        Audi  Q4 50 e-tron Quattro   \n",
       "1  Purchase  2023.0        Audi  Q4 50 e-tron Quattro   \n",
       "2  Purchase  2023.0       Lexus              NX 450h+   \n",
       "3     Lease  2023.0        Audi  Q4 50 e-tron Quattro   \n",
       "4  Purchase  2023.0  Mitsubishi        Outlander PHEV   \n",
       "\n",
       "                          10    11   12            13     14            15  \\\n",
       "0  Audi Q4 50 e-tron Quattro   BEV  YES           BEV  5,000  Organization   \n",
       "1  Audi Q4 50 e-tron Quattro   BEV  YES           BEV  5,000  Organization   \n",
       "2             Lexus NX 450h+  PHEV  YES  PHEVs ? 50km  5,000    Individual   \n",
       "3  Audi Q4 50 e-tron Quattro   BEV  YES           BEV  5,000    Individual   \n",
       "4  Mitsubishi Outlander PHEV  PHEV  YES  PHEVs ? 50km  5,000    Individual   \n",
       "\n",
       "                 16      17  \n",
       "0  British Columbia  Canada  \n",
       "1  British Columbia  Canada  \n",
       "2  British Columbia  Canada  \n",
       "3  British Columbia  Canada  \n",
       "4           Ontario  Canada  "
      ]
     },
     "execution_count": 10,
     "metadata": {},
     "output_type": "execute_result"
    }
   ],
   "source": [
    "df_2023 = pd.read_csv(os.path.join(PATH_DATA, \"iZEV_Data_2023.csv\"), sep = \",\", header = None, skiprows = 1)\n",
    "print(\"Shape:\", df_2023.shape)\n",
    "df_2023.head()"
   ]
  },
  {
   "cell_type": "code",
   "execution_count": 11,
   "id": "5758287e",
   "metadata": {},
   "outputs": [
    {
     "data": {
      "text/html": [
       "<div>\n",
       "<style scoped>\n",
       "    .dataframe tbody tr th:only-of-type {\n",
       "        vertical-align: middle;\n",
       "    }\n",
       "\n",
       "    .dataframe tbody tr th {\n",
       "        vertical-align: top;\n",
       "    }\n",
       "\n",
       "    .dataframe thead th {\n",
       "        text-align: right;\n",
       "    }\n",
       "</style>\n",
       "<table border=\"1\" class=\"dataframe\">\n",
       "  <thead>\n",
       "    <tr style=\"text-align: right;\">\n",
       "      <th></th>\n",
       "      <th>Request_Date</th>\n",
       "      <th>Month_Year</th>\n",
       "      <th>Fiscal_Year</th>\n",
       "      <th>Calendar_Year</th>\n",
       "      <th>Dealership_Province</th>\n",
       "      <th>Dealership_Code</th>\n",
       "      <th>Purchase_or_Lease</th>\n",
       "      <th>Vehicle_Year</th>\n",
       "      <th>Vehicle_Make</th>\n",
       "      <th>Vehicle_Model</th>\n",
       "      <th>Vehicle_Make_Model</th>\n",
       "      <th>BEV_PHEV_FCEV</th>\n",
       "      <th>BEV_PHEV_FCEV_15</th>\n",
       "      <th>BEV_PHEV_FCEV_15_2022</th>\n",
       "      <th>Eligible_Incentive_Amount</th>\n",
       "      <th>Recipient</th>\n",
       "      <th>Recipient_Province</th>\n",
       "      <th>Country</th>\n",
       "    </tr>\n",
       "  </thead>\n",
       "  <tbody>\n",
       "    <tr>\n",
       "      <th>0</th>\n",
       "      <td>2023-04-01</td>\n",
       "      <td>April 2023</td>\n",
       "      <td>2023-24</td>\n",
       "      <td>2023.0</td>\n",
       "      <td>British Columbia</td>\n",
       "      <td>V6J 1H6</td>\n",
       "      <td>Purchase</td>\n",
       "      <td>2023.0</td>\n",
       "      <td>Audi</td>\n",
       "      <td>Q4 50 e-tron Quattro</td>\n",
       "      <td>Audi Q4 50 e-tron Quattro</td>\n",
       "      <td>BEV</td>\n",
       "      <td>YES</td>\n",
       "      <td>BEV</td>\n",
       "      <td>5,000</td>\n",
       "      <td>Organization</td>\n",
       "      <td>British Columbia</td>\n",
       "      <td>Canada</td>\n",
       "    </tr>\n",
       "    <tr>\n",
       "      <th>1</th>\n",
       "      <td>2023-04-01</td>\n",
       "      <td>April 2023</td>\n",
       "      <td>2023-24</td>\n",
       "      <td>2023.0</td>\n",
       "      <td>British Columbia</td>\n",
       "      <td>V6J 1H6</td>\n",
       "      <td>Purchase</td>\n",
       "      <td>2023.0</td>\n",
       "      <td>Audi</td>\n",
       "      <td>Q4 50 e-tron Quattro</td>\n",
       "      <td>Audi Q4 50 e-tron Quattro</td>\n",
       "      <td>BEV</td>\n",
       "      <td>YES</td>\n",
       "      <td>BEV</td>\n",
       "      <td>5,000</td>\n",
       "      <td>Organization</td>\n",
       "      <td>British Columbia</td>\n",
       "      <td>Canada</td>\n",
       "    </tr>\n",
       "    <tr>\n",
       "      <th>2</th>\n",
       "      <td>2023-04-01</td>\n",
       "      <td>April 2023</td>\n",
       "      <td>2023-24</td>\n",
       "      <td>2023.0</td>\n",
       "      <td>British Columbia</td>\n",
       "      <td>V6V 2M6</td>\n",
       "      <td>Purchase</td>\n",
       "      <td>2023.0</td>\n",
       "      <td>Lexus</td>\n",
       "      <td>NX 450h+</td>\n",
       "      <td>Lexus NX 450h+</td>\n",
       "      <td>PHEV</td>\n",
       "      <td>YES</td>\n",
       "      <td>PHEVs ? 50km</td>\n",
       "      <td>5,000</td>\n",
       "      <td>Individual</td>\n",
       "      <td>British Columbia</td>\n",
       "      <td>Canada</td>\n",
       "    </tr>\n",
       "    <tr>\n",
       "      <th>3</th>\n",
       "      <td>2023-04-01</td>\n",
       "      <td>April 2023</td>\n",
       "      <td>2023-24</td>\n",
       "      <td>2023.0</td>\n",
       "      <td>British Columbia</td>\n",
       "      <td>V6J 1H6</td>\n",
       "      <td>Lease</td>\n",
       "      <td>2023.0</td>\n",
       "      <td>Audi</td>\n",
       "      <td>Q4 50 e-tron Quattro</td>\n",
       "      <td>Audi Q4 50 e-tron Quattro</td>\n",
       "      <td>BEV</td>\n",
       "      <td>YES</td>\n",
       "      <td>BEV</td>\n",
       "      <td>5,000</td>\n",
       "      <td>Individual</td>\n",
       "      <td>British Columbia</td>\n",
       "      <td>Canada</td>\n",
       "    </tr>\n",
       "    <tr>\n",
       "      <th>4</th>\n",
       "      <td>2023-04-01</td>\n",
       "      <td>April 2023</td>\n",
       "      <td>2023-24</td>\n",
       "      <td>2023.0</td>\n",
       "      <td>Ontario</td>\n",
       "      <td>L6L 2X6</td>\n",
       "      <td>Purchase</td>\n",
       "      <td>2023.0</td>\n",
       "      <td>Mitsubishi</td>\n",
       "      <td>Outlander PHEV</td>\n",
       "      <td>Mitsubishi Outlander PHEV</td>\n",
       "      <td>PHEV</td>\n",
       "      <td>YES</td>\n",
       "      <td>PHEVs ? 50km</td>\n",
       "      <td>5,000</td>\n",
       "      <td>Individual</td>\n",
       "      <td>Ontario</td>\n",
       "      <td>Canada</td>\n",
       "    </tr>\n",
       "  </tbody>\n",
       "</table>\n",
       "</div>"
      ],
      "text/plain": [
       "  Request_Date  Month_Year Fiscal_Year  Calendar_Year Dealership_Province  \\\n",
       "0   2023-04-01  April 2023     2023-24         2023.0    British Columbia   \n",
       "1   2023-04-01  April 2023     2023-24         2023.0    British Columbia   \n",
       "2   2023-04-01  April 2023     2023-24         2023.0    British Columbia   \n",
       "3   2023-04-01  April 2023     2023-24         2023.0    British Columbia   \n",
       "4   2023-04-01  April 2023     2023-24         2023.0             Ontario   \n",
       "\n",
       "  Dealership_Code Purchase_or_Lease  Vehicle_Year Vehicle_Make  \\\n",
       "0         V6J 1H6          Purchase        2023.0         Audi   \n",
       "1         V6J 1H6          Purchase        2023.0         Audi   \n",
       "2         V6V 2M6          Purchase        2023.0        Lexus   \n",
       "3         V6J 1H6             Lease        2023.0         Audi   \n",
       "4         L6L 2X6          Purchase        2023.0   Mitsubishi   \n",
       "\n",
       "          Vehicle_Model         Vehicle_Make_Model BEV_PHEV_FCEV  \\\n",
       "0  Q4 50 e-tron Quattro  Audi Q4 50 e-tron Quattro           BEV   \n",
       "1  Q4 50 e-tron Quattro  Audi Q4 50 e-tron Quattro           BEV   \n",
       "2              NX 450h+             Lexus NX 450h+          PHEV   \n",
       "3  Q4 50 e-tron Quattro  Audi Q4 50 e-tron Quattro           BEV   \n",
       "4        Outlander PHEV  Mitsubishi Outlander PHEV          PHEV   \n",
       "\n",
       "  BEV_PHEV_FCEV_15 BEV_PHEV_FCEV_15_2022 Eligible_Incentive_Amount  \\\n",
       "0              YES                   BEV                     5,000   \n",
       "1              YES                   BEV                     5,000   \n",
       "2              YES          PHEVs ? 50km                     5,000   \n",
       "3              YES                   BEV                     5,000   \n",
       "4              YES          PHEVs ? 50km                     5,000   \n",
       "\n",
       "      Recipient Recipient_Province Country  \n",
       "0  Organization   British Columbia  Canada  \n",
       "1  Organization   British Columbia  Canada  \n",
       "2    Individual   British Columbia  Canada  \n",
       "3    Individual   British Columbia  Canada  \n",
       "4    Individual            Ontario  Canada  "
      ]
     },
     "execution_count": 11,
     "metadata": {},
     "output_type": "execute_result"
    }
   ],
   "source": [
    "df_2023.columns = columns\n",
    "df_2023.head()"
   ]
  },
  {
   "cell_type": "markdown",
   "id": "7f09ff39",
   "metadata": {},
   "source": [
    "**Data 2024**"
   ]
  },
  {
   "cell_type": "code",
   "execution_count": 12,
   "id": "3e7d9e5a",
   "metadata": {},
   "outputs": [
    {
     "name": "stdout",
     "output_type": "stream",
     "text": [
      "Shape: (90325, 18)\n"
     ]
    },
    {
     "data": {
      "text/html": [
       "<div>\n",
       "<style scoped>\n",
       "    .dataframe tbody tr th:only-of-type {\n",
       "        vertical-align: middle;\n",
       "    }\n",
       "\n",
       "    .dataframe tbody tr th {\n",
       "        vertical-align: top;\n",
       "    }\n",
       "\n",
       "    .dataframe thead th {\n",
       "        text-align: right;\n",
       "    }\n",
       "</style>\n",
       "<table border=\"1\" class=\"dataframe\">\n",
       "  <thead>\n",
       "    <tr style=\"text-align: right;\">\n",
       "      <th></th>\n",
       "      <th>0</th>\n",
       "      <th>1</th>\n",
       "      <th>2</th>\n",
       "      <th>3</th>\n",
       "      <th>4</th>\n",
       "      <th>5</th>\n",
       "      <th>6</th>\n",
       "      <th>7</th>\n",
       "      <th>8</th>\n",
       "      <th>9</th>\n",
       "      <th>10</th>\n",
       "      <th>11</th>\n",
       "      <th>12</th>\n",
       "      <th>13</th>\n",
       "      <th>14</th>\n",
       "      <th>15</th>\n",
       "      <th>16</th>\n",
       "      <th>17</th>\n",
       "    </tr>\n",
       "  </thead>\n",
       "  <tbody>\n",
       "    <tr>\n",
       "      <th>0</th>\n",
       "      <td>2024-04-01</td>\n",
       "      <td>April 2024</td>\n",
       "      <td>2024-25</td>\n",
       "      <td>2024</td>\n",
       "      <td>British Columbia</td>\n",
       "      <td>V5L 1H7</td>\n",
       "      <td>Purchase</td>\n",
       "      <td>2023</td>\n",
       "      <td>Tesla</td>\n",
       "      <td>Model Y</td>\n",
       "      <td>Tesla Model Y</td>\n",
       "      <td>BEV</td>\n",
       "      <td>YES</td>\n",
       "      <td>BEV</td>\n",
       "      <td>5,000</td>\n",
       "      <td>Individual</td>\n",
       "      <td>British Columbia</td>\n",
       "      <td>Canada</td>\n",
       "    </tr>\n",
       "    <tr>\n",
       "      <th>1</th>\n",
       "      <td>2024-04-01</td>\n",
       "      <td>April 2024</td>\n",
       "      <td>2024-25</td>\n",
       "      <td>2024</td>\n",
       "      <td>British Columbia</td>\n",
       "      <td>V5L 1H7</td>\n",
       "      <td>Purchase</td>\n",
       "      <td>2023</td>\n",
       "      <td>Tesla</td>\n",
       "      <td>Model Y</td>\n",
       "      <td>Tesla Model Y</td>\n",
       "      <td>BEV</td>\n",
       "      <td>YES</td>\n",
       "      <td>BEV</td>\n",
       "      <td>5,000</td>\n",
       "      <td>Individual</td>\n",
       "      <td>British Columbia</td>\n",
       "      <td>Canada</td>\n",
       "    </tr>\n",
       "    <tr>\n",
       "      <th>2</th>\n",
       "      <td>2024-04-01</td>\n",
       "      <td>April 2024</td>\n",
       "      <td>2024-25</td>\n",
       "      <td>2024</td>\n",
       "      <td>British Columbia</td>\n",
       "      <td>V5L 1H7</td>\n",
       "      <td>Purchase</td>\n",
       "      <td>2023</td>\n",
       "      <td>Tesla</td>\n",
       "      <td>Model Y</td>\n",
       "      <td>Tesla Model Y</td>\n",
       "      <td>BEV</td>\n",
       "      <td>YES</td>\n",
       "      <td>BEV</td>\n",
       "      <td>5,000</td>\n",
       "      <td>Individual</td>\n",
       "      <td>British Columbia</td>\n",
       "      <td>Canada</td>\n",
       "    </tr>\n",
       "    <tr>\n",
       "      <th>3</th>\n",
       "      <td>2024-04-01</td>\n",
       "      <td>April 2024</td>\n",
       "      <td>2024-25</td>\n",
       "      <td>2024</td>\n",
       "      <td>British Columbia</td>\n",
       "      <td>V5L 1H7</td>\n",
       "      <td>Purchase</td>\n",
       "      <td>2023</td>\n",
       "      <td>Tesla</td>\n",
       "      <td>Model Y</td>\n",
       "      <td>Tesla Model Y</td>\n",
       "      <td>BEV</td>\n",
       "      <td>YES</td>\n",
       "      <td>BEV</td>\n",
       "      <td>5,000</td>\n",
       "      <td>Individual</td>\n",
       "      <td>British Columbia</td>\n",
       "      <td>Canada</td>\n",
       "    </tr>\n",
       "    <tr>\n",
       "      <th>4</th>\n",
       "      <td>2024-04-01</td>\n",
       "      <td>April 2024</td>\n",
       "      <td>2024-25</td>\n",
       "      <td>2024</td>\n",
       "      <td>British Columbia</td>\n",
       "      <td>V5L 1H7</td>\n",
       "      <td>Purchase</td>\n",
       "      <td>2023</td>\n",
       "      <td>Tesla</td>\n",
       "      <td>Model Y</td>\n",
       "      <td>Tesla Model Y</td>\n",
       "      <td>BEV</td>\n",
       "      <td>YES</td>\n",
       "      <td>BEV</td>\n",
       "      <td>5,000</td>\n",
       "      <td>Individual</td>\n",
       "      <td>British Columbia</td>\n",
       "      <td>Canada</td>\n",
       "    </tr>\n",
       "  </tbody>\n",
       "</table>\n",
       "</div>"
      ],
      "text/plain": [
       "           0           1        2     3                 4        5         6   \\\n",
       "0  2024-04-01  April 2024  2024-25  2024  British Columbia  V5L 1H7  Purchase   \n",
       "1  2024-04-01  April 2024  2024-25  2024  British Columbia  V5L 1H7  Purchase   \n",
       "2  2024-04-01  April 2024  2024-25  2024  British Columbia  V5L 1H7  Purchase   \n",
       "3  2024-04-01  April 2024  2024-25  2024  British Columbia  V5L 1H7  Purchase   \n",
       "4  2024-04-01  April 2024  2024-25  2024  British Columbia  V5L 1H7  Purchase   \n",
       "\n",
       "     7      8        9              10    11    12   13     14          15  \\\n",
       "0  2023  Tesla  Model Y  Tesla Model Y  BEV   YES   BEV  5,000  Individual   \n",
       "1  2023  Tesla  Model Y  Tesla Model Y  BEV   YES   BEV  5,000  Individual   \n",
       "2  2023  Tesla  Model Y  Tesla Model Y  BEV   YES   BEV  5,000  Individual   \n",
       "3  2023  Tesla  Model Y  Tesla Model Y  BEV   YES   BEV  5,000  Individual   \n",
       "4  2023  Tesla  Model Y  Tesla Model Y  BEV   YES   BEV  5,000  Individual   \n",
       "\n",
       "                 16      17  \n",
       "0  British Columbia  Canada  \n",
       "1  British Columbia  Canada  \n",
       "2  British Columbia  Canada  \n",
       "3  British Columbia  Canada  \n",
       "4  British Columbia  Canada  "
      ]
     },
     "execution_count": 12,
     "metadata": {},
     "output_type": "execute_result"
    }
   ],
   "source": [
    "df_2024 = pd.read_csv(os.path.join(PATH_DATA, \"iZEV_Data_2024.csv\"), sep = \",\", header = None, skiprows = 1, encoding = \"windows-1252\")\n",
    "print(\"Shape:\", df_2024.shape)\n",
    "df_2024.head()"
   ]
  },
  {
   "cell_type": "code",
   "execution_count": 13,
   "id": "9fc86180",
   "metadata": {},
   "outputs": [
    {
     "data": {
      "text/html": [
       "<div>\n",
       "<style scoped>\n",
       "    .dataframe tbody tr th:only-of-type {\n",
       "        vertical-align: middle;\n",
       "    }\n",
       "\n",
       "    .dataframe tbody tr th {\n",
       "        vertical-align: top;\n",
       "    }\n",
       "\n",
       "    .dataframe thead th {\n",
       "        text-align: right;\n",
       "    }\n",
       "</style>\n",
       "<table border=\"1\" class=\"dataframe\">\n",
       "  <thead>\n",
       "    <tr style=\"text-align: right;\">\n",
       "      <th></th>\n",
       "      <th>Request_Date</th>\n",
       "      <th>Month_Year</th>\n",
       "      <th>Fiscal_Year</th>\n",
       "      <th>Calendar_Year</th>\n",
       "      <th>Dealership_Province</th>\n",
       "      <th>Dealership_Code</th>\n",
       "      <th>Purchase_or_Lease</th>\n",
       "      <th>Vehicle_Year</th>\n",
       "      <th>Vehicle_Make</th>\n",
       "      <th>Vehicle_Model</th>\n",
       "      <th>Vehicle_Make_Model</th>\n",
       "      <th>BEV_PHEV_FCEV</th>\n",
       "      <th>BEV_PHEV_FCEV_15</th>\n",
       "      <th>BEV_PHEV_FCEV_15_2022</th>\n",
       "      <th>Eligible_Incentive_Amount</th>\n",
       "      <th>Recipient</th>\n",
       "      <th>Recipient_Province</th>\n",
       "      <th>Country</th>\n",
       "    </tr>\n",
       "  </thead>\n",
       "  <tbody>\n",
       "    <tr>\n",
       "      <th>0</th>\n",
       "      <td>2024-04-01</td>\n",
       "      <td>April 2024</td>\n",
       "      <td>2024-25</td>\n",
       "      <td>2024</td>\n",
       "      <td>British Columbia</td>\n",
       "      <td>V5L 1H7</td>\n",
       "      <td>Purchase</td>\n",
       "      <td>2023</td>\n",
       "      <td>Tesla</td>\n",
       "      <td>Model Y</td>\n",
       "      <td>Tesla Model Y</td>\n",
       "      <td>BEV</td>\n",
       "      <td>YES</td>\n",
       "      <td>BEV</td>\n",
       "      <td>5,000</td>\n",
       "      <td>Individual</td>\n",
       "      <td>British Columbia</td>\n",
       "      <td>Canada</td>\n",
       "    </tr>\n",
       "    <tr>\n",
       "      <th>1</th>\n",
       "      <td>2024-04-01</td>\n",
       "      <td>April 2024</td>\n",
       "      <td>2024-25</td>\n",
       "      <td>2024</td>\n",
       "      <td>British Columbia</td>\n",
       "      <td>V5L 1H7</td>\n",
       "      <td>Purchase</td>\n",
       "      <td>2023</td>\n",
       "      <td>Tesla</td>\n",
       "      <td>Model Y</td>\n",
       "      <td>Tesla Model Y</td>\n",
       "      <td>BEV</td>\n",
       "      <td>YES</td>\n",
       "      <td>BEV</td>\n",
       "      <td>5,000</td>\n",
       "      <td>Individual</td>\n",
       "      <td>British Columbia</td>\n",
       "      <td>Canada</td>\n",
       "    </tr>\n",
       "    <tr>\n",
       "      <th>2</th>\n",
       "      <td>2024-04-01</td>\n",
       "      <td>April 2024</td>\n",
       "      <td>2024-25</td>\n",
       "      <td>2024</td>\n",
       "      <td>British Columbia</td>\n",
       "      <td>V5L 1H7</td>\n",
       "      <td>Purchase</td>\n",
       "      <td>2023</td>\n",
       "      <td>Tesla</td>\n",
       "      <td>Model Y</td>\n",
       "      <td>Tesla Model Y</td>\n",
       "      <td>BEV</td>\n",
       "      <td>YES</td>\n",
       "      <td>BEV</td>\n",
       "      <td>5,000</td>\n",
       "      <td>Individual</td>\n",
       "      <td>British Columbia</td>\n",
       "      <td>Canada</td>\n",
       "    </tr>\n",
       "    <tr>\n",
       "      <th>3</th>\n",
       "      <td>2024-04-01</td>\n",
       "      <td>April 2024</td>\n",
       "      <td>2024-25</td>\n",
       "      <td>2024</td>\n",
       "      <td>British Columbia</td>\n",
       "      <td>V5L 1H7</td>\n",
       "      <td>Purchase</td>\n",
       "      <td>2023</td>\n",
       "      <td>Tesla</td>\n",
       "      <td>Model Y</td>\n",
       "      <td>Tesla Model Y</td>\n",
       "      <td>BEV</td>\n",
       "      <td>YES</td>\n",
       "      <td>BEV</td>\n",
       "      <td>5,000</td>\n",
       "      <td>Individual</td>\n",
       "      <td>British Columbia</td>\n",
       "      <td>Canada</td>\n",
       "    </tr>\n",
       "    <tr>\n",
       "      <th>4</th>\n",
       "      <td>2024-04-01</td>\n",
       "      <td>April 2024</td>\n",
       "      <td>2024-25</td>\n",
       "      <td>2024</td>\n",
       "      <td>British Columbia</td>\n",
       "      <td>V5L 1H7</td>\n",
       "      <td>Purchase</td>\n",
       "      <td>2023</td>\n",
       "      <td>Tesla</td>\n",
       "      <td>Model Y</td>\n",
       "      <td>Tesla Model Y</td>\n",
       "      <td>BEV</td>\n",
       "      <td>YES</td>\n",
       "      <td>BEV</td>\n",
       "      <td>5,000</td>\n",
       "      <td>Individual</td>\n",
       "      <td>British Columbia</td>\n",
       "      <td>Canada</td>\n",
       "    </tr>\n",
       "  </tbody>\n",
       "</table>\n",
       "</div>"
      ],
      "text/plain": [
       "  Request_Date  Month_Year Fiscal_Year  Calendar_Year Dealership_Province  \\\n",
       "0   2024-04-01  April 2024     2024-25           2024    British Columbia   \n",
       "1   2024-04-01  April 2024     2024-25           2024    British Columbia   \n",
       "2   2024-04-01  April 2024     2024-25           2024    British Columbia   \n",
       "3   2024-04-01  April 2024     2024-25           2024    British Columbia   \n",
       "4   2024-04-01  April 2024     2024-25           2024    British Columbia   \n",
       "\n",
       "  Dealership_Code Purchase_or_Lease  Vehicle_Year Vehicle_Make Vehicle_Model  \\\n",
       "0         V5L 1H7          Purchase          2023        Tesla       Model Y   \n",
       "1         V5L 1H7          Purchase          2023        Tesla       Model Y   \n",
       "2         V5L 1H7          Purchase          2023        Tesla       Model Y   \n",
       "3         V5L 1H7          Purchase          2023        Tesla       Model Y   \n",
       "4         V5L 1H7          Purchase          2023        Tesla       Model Y   \n",
       "\n",
       "  Vehicle_Make_Model BEV_PHEV_FCEV BEV_PHEV_FCEV_15 BEV_PHEV_FCEV_15_2022  \\\n",
       "0      Tesla Model Y          BEV              YES                    BEV   \n",
       "1      Tesla Model Y          BEV              YES                    BEV   \n",
       "2      Tesla Model Y          BEV              YES                    BEV   \n",
       "3      Tesla Model Y          BEV              YES                    BEV   \n",
       "4      Tesla Model Y          BEV              YES                    BEV   \n",
       "\n",
       "  Eligible_Incentive_Amount   Recipient Recipient_Province Country  \n",
       "0                     5,000  Individual   British Columbia  Canada  \n",
       "1                     5,000  Individual   British Columbia  Canada  \n",
       "2                     5,000  Individual   British Columbia  Canada  \n",
       "3                     5,000  Individual   British Columbia  Canada  \n",
       "4                     5,000  Individual   British Columbia  Canada  "
      ]
     },
     "execution_count": 13,
     "metadata": {},
     "output_type": "execute_result"
    }
   ],
   "source": [
    "df_2024.columns = columns\n",
    "df_2024.head()"
   ]
  },
  {
   "cell_type": "markdown",
   "id": "d9b703f0",
   "metadata": {},
   "source": [
    "### 3.2. Transform"
   ]
  },
  {
   "cell_type": "markdown",
   "id": "74e399af",
   "metadata": {},
   "source": [
    "#### 3.2.1. Data profiling"
   ]
  },
  {
   "cell_type": "markdown",
   "id": "271f0b80",
   "metadata": {},
   "source": [
    "##### 3.2.1.1. Identify missing values"
   ]
  },
  {
   "cell_type": "markdown",
   "id": "c7a32412",
   "metadata": {},
   "source": [
    "**Data 2019**"
   ]
  },
  {
   "cell_type": "code",
   "execution_count": 14,
   "id": "c2f9b390",
   "metadata": {},
   "outputs": [
    {
     "name": "stdout",
     "output_type": "stream",
     "text": [
      "Total missing values by columns:\n"
     ]
    },
    {
     "data": {
      "text/plain": [
       "Request_Date                 0\n",
       "Month_Year                   0\n",
       "Fiscal_Year                  0\n",
       "Calendar_Year                0\n",
       "Dealership_Province          0\n",
       "Dealership_Code              0\n",
       "Purchase_or_Lease            0\n",
       "Vehicle_Year                 0\n",
       "Vehicle_Make                 0\n",
       "Vehicle_Model                0\n",
       "Vehicle_Make_Model           0\n",
       "BEV_PHEV_FCEV                0\n",
       "BEV_PHEV_FCEV_15             0\n",
       "BEV_PHEV_FCEV_15_2022        0\n",
       "Eligible_Incentive_Amount    0\n",
       "Recipient                    0\n",
       "Recipient_Province           0\n",
       "Country                      0\n",
       "dtype: int64"
      ]
     },
     "execution_count": 14,
     "metadata": {},
     "output_type": "execute_result"
    }
   ],
   "source": [
    "print(\"Total missing values by columns:\")\n",
    "df_2019.isnull().sum()"
   ]
  },
  {
   "cell_type": "markdown",
   "id": "dd0d9ae1",
   "metadata": {},
   "source": [
    "Summary:\n",
    "\n",
    "* There are no missing values."
   ]
  },
  {
   "cell_type": "markdown",
   "id": "d8c26f91",
   "metadata": {},
   "source": [
    "**Data 2023**"
   ]
  },
  {
   "cell_type": "code",
   "execution_count": 15,
   "id": "695bb37b",
   "metadata": {},
   "outputs": [
    {
     "name": "stdout",
     "output_type": "stream",
     "text": [
      "Total missing values by columns:\n"
     ]
    },
    {
     "data": {
      "text/plain": [
       "Request_Date                 1\n",
       "Month_Year                   1\n",
       "Fiscal_Year                  1\n",
       "Calendar_Year                1\n",
       "Dealership_Province          1\n",
       "Dealership_Code              1\n",
       "Purchase_or_Lease            1\n",
       "Vehicle_Year                 1\n",
       "Vehicle_Make                 1\n",
       "Vehicle_Model                1\n",
       "Vehicle_Make_Model           1\n",
       "BEV_PHEV_FCEV                1\n",
       "BEV_PHEV_FCEV_15             1\n",
       "BEV_PHEV_FCEV_15_2022        1\n",
       "Eligible_Incentive_Amount    1\n",
       "Recipient                    1\n",
       "Recipient_Province           1\n",
       "Country                      1\n",
       "dtype: int64"
      ]
     },
     "execution_count": 15,
     "metadata": {},
     "output_type": "execute_result"
    }
   ],
   "source": [
    "print(\"Total missing values by columns:\")\n",
    "df_2023.isnull().sum()"
   ]
  },
  {
   "cell_type": "markdown",
   "id": "f347c5d5",
   "metadata": {},
   "source": [
    "Summary:\n",
    "\n",
    "* There is an entire row of missing values."
   ]
  },
  {
   "cell_type": "markdown",
   "id": "66f98bd6",
   "metadata": {},
   "source": [
    "**Data 2024**"
   ]
  },
  {
   "cell_type": "code",
   "execution_count": 16,
   "id": "809a03dd",
   "metadata": {},
   "outputs": [
    {
     "name": "stdout",
     "output_type": "stream",
     "text": [
      "Total missing values by columns:\n"
     ]
    },
    {
     "data": {
      "text/plain": [
       "Request_Date                 0\n",
       "Month_Year                   0\n",
       "Fiscal_Year                  0\n",
       "Calendar_Year                0\n",
       "Dealership_Province          0\n",
       "Dealership_Code              0\n",
       "Purchase_or_Lease            0\n",
       "Vehicle_Year                 0\n",
       "Vehicle_Make                 0\n",
       "Vehicle_Model                0\n",
       "Vehicle_Make_Model           0\n",
       "BEV_PHEV_FCEV                0\n",
       "BEV_PHEV_FCEV_15             0\n",
       "BEV_PHEV_FCEV_15_2022        0\n",
       "Eligible_Incentive_Amount    0\n",
       "Recipient                    0\n",
       "Recipient_Province           0\n",
       "Country                      0\n",
       "dtype: int64"
      ]
     },
     "execution_count": 16,
     "metadata": {},
     "output_type": "execute_result"
    }
   ],
   "source": [
    "print(\"Total missing values by columns:\")\n",
    "df_2024.isnull().sum()"
   ]
  },
  {
   "cell_type": "markdown",
   "id": "e76c346c",
   "metadata": {},
   "source": [
    "Summary:\n",
    "\n",
    "* There are no missing values."
   ]
  },
  {
   "cell_type": "markdown",
   "id": "fadddd56",
   "metadata": {},
   "source": [
    "##### 3.2.1.2. Identify duplicate values"
   ]
  },
  {
   "cell_type": "markdown",
   "id": "7b5b2013",
   "metadata": {},
   "source": [
    "**Data 2019**"
   ]
  },
  {
   "cell_type": "code",
   "execution_count": 17,
   "id": "4c6daec5",
   "metadata": {},
   "outputs": [
    {
     "name": "stdout",
     "output_type": "stream",
     "text": [
      "Total duplicated values 75232 from 202206\n"
     ]
    }
   ],
   "source": [
    "print(f\"Total duplicated values {df_2019.duplicated().sum()} from {df_2019.duplicated().count()}\")"
   ]
  },
  {
   "cell_type": "markdown",
   "id": "6b357550",
   "metadata": {},
   "source": [
    "**Data 2023**"
   ]
  },
  {
   "cell_type": "code",
   "execution_count": 18,
   "id": "fc14e654",
   "metadata": {},
   "outputs": [
    {
     "name": "stdout",
     "output_type": "stream",
     "text": [
      "Total duplicated values 69434 from 166758\n"
     ]
    }
   ],
   "source": [
    "print(f\"Total duplicated values {df_2023.duplicated().sum()} from {df_2023.duplicated().count()}\")"
   ]
  },
  {
   "cell_type": "markdown",
   "id": "97c08e35",
   "metadata": {},
   "source": [
    "**Data 2024**"
   ]
  },
  {
   "cell_type": "code",
   "execution_count": 19,
   "id": "b13b7ab6",
   "metadata": {},
   "outputs": [
    {
     "name": "stdout",
     "output_type": "stream",
     "text": [
      "Total duplicated values 30231 from 90325\n"
     ]
    }
   ],
   "source": [
    "print(f\"Total duplicated values {df_2024.duplicated().sum()} from {df_2024.duplicated().count()}\")"
   ]
  },
  {
   "cell_type": "markdown",
   "id": "193b7422",
   "metadata": {},
   "source": [
    "##### 3.2.1.3. Validate data consistency "
   ]
  },
  {
   "cell_type": "code",
   "execution_count": 20,
   "id": "2fbf3159",
   "metadata": {},
   "outputs": [],
   "source": [
    "from datetime import datetime"
   ]
  },
  {
   "cell_type": "code",
   "execution_count": 21,
   "id": "b069265f",
   "metadata": {},
   "outputs": [],
   "source": [
    "def validate_date(date_string):\n",
    "    try:\n",
    "        datetime.strptime(date_string, \"%Y-%m-%d\")\n",
    "        return True\n",
    "    except ValueError:\n",
    "        return False"
   ]
  },
  {
   "cell_type": "code",
   "execution_count": 22,
   "id": "9c36aef4",
   "metadata": {},
   "outputs": [],
   "source": [
    "def validate_number(number_string):\n",
    "    try:\n",
    "        float(number_string)\n",
    "        return True\n",
    "    except ValueError:\n",
    "        return False"
   ]
  },
  {
   "cell_type": "markdown",
   "id": "52e43cd9",
   "metadata": {},
   "source": [
    "**Data 2019**"
   ]
  },
  {
   "cell_type": "code",
   "execution_count": 23,
   "id": "9738af1e",
   "metadata": {},
   "outputs": [
    {
     "name": "stdout",
     "output_type": "stream",
     "text": [
      "<class 'pandas.core.frame.DataFrame'>\n",
      "RangeIndex: 202206 entries, 0 to 202205\n",
      "Data columns (total 18 columns):\n",
      " #   Column                     Non-Null Count   Dtype \n",
      "---  ------                     --------------   ----- \n",
      " 0   Request_Date               202206 non-null  object\n",
      " 1   Month_Year                 202206 non-null  object\n",
      " 2   Fiscal_Year                202206 non-null  object\n",
      " 3   Calendar_Year              202206 non-null  int64 \n",
      " 4   Dealership_Province        202206 non-null  object\n",
      " 5   Dealership_Code            202206 non-null  object\n",
      " 6   Purchase_or_Lease          202206 non-null  object\n",
      " 7   Vehicle_Year               202206 non-null  int64 \n",
      " 8   Vehicle_Make               202206 non-null  object\n",
      " 9   Vehicle_Model              202206 non-null  object\n",
      " 10  Vehicle_Make_Model         202206 non-null  object\n",
      " 11  BEV_PHEV_FCEV              202206 non-null  object\n",
      " 12  BEV_PHEV_FCEV_15           202206 non-null  object\n",
      " 13  BEV_PHEV_FCEV_15_2022      202206 non-null  object\n",
      " 14  Eligible_Incentive_Amount  202206 non-null  object\n",
      " 15  Recipient                  202206 non-null  object\n",
      " 16  Recipient_Province         202206 non-null  object\n",
      " 17  Country                    202206 non-null  object\n",
      "dtypes: int64(2), object(16)\n",
      "memory usage: 27.8+ MB\n"
     ]
    }
   ],
   "source": [
    "df_2019.info()"
   ]
  },
  {
   "cell_type": "code",
   "execution_count": 24,
   "id": "5cf19706",
   "metadata": {},
   "outputs": [
    {
     "data": {
      "text/html": [
       "<div>\n",
       "<style scoped>\n",
       "    .dataframe tbody tr th:only-of-type {\n",
       "        vertical-align: middle;\n",
       "    }\n",
       "\n",
       "    .dataframe tbody tr th {\n",
       "        vertical-align: top;\n",
       "    }\n",
       "\n",
       "    .dataframe thead th {\n",
       "        text-align: right;\n",
       "    }\n",
       "</style>\n",
       "<table border=\"1\" class=\"dataframe\">\n",
       "  <thead>\n",
       "    <tr style=\"text-align: right;\">\n",
       "      <th></th>\n",
       "      <th>Request_Date</th>\n",
       "      <th>Month_Year</th>\n",
       "      <th>Fiscal_Year</th>\n",
       "      <th>Calendar_Year</th>\n",
       "      <th>Dealership_Province</th>\n",
       "      <th>Dealership_Code</th>\n",
       "      <th>Purchase_or_Lease</th>\n",
       "      <th>Vehicle_Year</th>\n",
       "      <th>Vehicle_Make</th>\n",
       "      <th>Vehicle_Model</th>\n",
       "      <th>Vehicle_Make_Model</th>\n",
       "      <th>BEV_PHEV_FCEV</th>\n",
       "      <th>BEV_PHEV_FCEV_15</th>\n",
       "      <th>BEV_PHEV_FCEV_15_2022</th>\n",
       "      <th>Eligible_Incentive_Amount</th>\n",
       "      <th>Recipient</th>\n",
       "      <th>Recipient_Province</th>\n",
       "      <th>Country</th>\n",
       "    </tr>\n",
       "  </thead>\n",
       "  <tbody>\n",
       "    <tr>\n",
       "      <th>0</th>\n",
       "      <td>2019-05-15</td>\n",
       "      <td>May 2019</td>\n",
       "      <td>2019-20</td>\n",
       "      <td>2019</td>\n",
       "      <td>British Columbia</td>\n",
       "      <td>V5C 0J4</td>\n",
       "      <td>Purchase</td>\n",
       "      <td>2019</td>\n",
       "      <td>Volkswagen</td>\n",
       "      <td>e-Golf</td>\n",
       "      <td>Volkswagen e-Golf</td>\n",
       "      <td>BEV</td>\n",
       "      <td>YES</td>\n",
       "      <td>BEV</td>\n",
       "      <td>5,000</td>\n",
       "      <td>Individual</td>\n",
       "      <td>British Columbia</td>\n",
       "      <td>Canada</td>\n",
       "    </tr>\n",
       "    <tr>\n",
       "      <th>1</th>\n",
       "      <td>2019-05-16</td>\n",
       "      <td>May 2019</td>\n",
       "      <td>2019-20</td>\n",
       "      <td>2019</td>\n",
       "      <td>Quebec</td>\n",
       "      <td>G3M 1W1</td>\n",
       "      <td>Purchase</td>\n",
       "      <td>2019</td>\n",
       "      <td>Nissan</td>\n",
       "      <td>Leaf</td>\n",
       "      <td>Nissan Leaf</td>\n",
       "      <td>BEV</td>\n",
       "      <td>YES</td>\n",
       "      <td>BEV</td>\n",
       "      <td>5,000</td>\n",
       "      <td>Individual</td>\n",
       "      <td>Quebec</td>\n",
       "      <td>Canada</td>\n",
       "    </tr>\n",
       "    <tr>\n",
       "      <th>2</th>\n",
       "      <td>2019-05-16</td>\n",
       "      <td>May 2019</td>\n",
       "      <td>2019-20</td>\n",
       "      <td>2019</td>\n",
       "      <td>Quebec</td>\n",
       "      <td>G3M 1W1</td>\n",
       "      <td>Purchase</td>\n",
       "      <td>2019</td>\n",
       "      <td>Nissan</td>\n",
       "      <td>Leaf</td>\n",
       "      <td>Nissan Leaf</td>\n",
       "      <td>BEV</td>\n",
       "      <td>YES</td>\n",
       "      <td>BEV</td>\n",
       "      <td>5,000</td>\n",
       "      <td>Individual</td>\n",
       "      <td>Quebec</td>\n",
       "      <td>Canada</td>\n",
       "    </tr>\n",
       "    <tr>\n",
       "      <th>3</th>\n",
       "      <td>2019-05-16</td>\n",
       "      <td>May 2019</td>\n",
       "      <td>2019-20</td>\n",
       "      <td>2019</td>\n",
       "      <td>Quebec</td>\n",
       "      <td>G3M 1W1</td>\n",
       "      <td>Purchase</td>\n",
       "      <td>2019</td>\n",
       "      <td>Nissan</td>\n",
       "      <td>Leaf</td>\n",
       "      <td>Nissan Leaf</td>\n",
       "      <td>BEV</td>\n",
       "      <td>YES</td>\n",
       "      <td>BEV</td>\n",
       "      <td>5,000</td>\n",
       "      <td>Individual</td>\n",
       "      <td>Quebec</td>\n",
       "      <td>Canada</td>\n",
       "    </tr>\n",
       "    <tr>\n",
       "      <th>4</th>\n",
       "      <td>2019-05-16</td>\n",
       "      <td>May 2019</td>\n",
       "      <td>2019-20</td>\n",
       "      <td>2019</td>\n",
       "      <td>Quebec</td>\n",
       "      <td>J9P 7B2</td>\n",
       "      <td>Purchase</td>\n",
       "      <td>2019</td>\n",
       "      <td>Hyundai</td>\n",
       "      <td>Ioniq electric</td>\n",
       "      <td>Hyundai Ioniq electric</td>\n",
       "      <td>BEV</td>\n",
       "      <td>YES</td>\n",
       "      <td>BEV</td>\n",
       "      <td>5,000</td>\n",
       "      <td>Individual</td>\n",
       "      <td>Quebec</td>\n",
       "      <td>Canada</td>\n",
       "    </tr>\n",
       "  </tbody>\n",
       "</table>\n",
       "</div>"
      ],
      "text/plain": [
       "  Request_Date Month_Year Fiscal_Year  Calendar_Year Dealership_Province  \\\n",
       "0   2019-05-15   May 2019     2019-20           2019    British Columbia   \n",
       "1   2019-05-16   May 2019     2019-20           2019              Quebec   \n",
       "2   2019-05-16   May 2019     2019-20           2019              Quebec   \n",
       "3   2019-05-16   May 2019     2019-20           2019              Quebec   \n",
       "4   2019-05-16   May 2019     2019-20           2019              Quebec   \n",
       "\n",
       "  Dealership_Code Purchase_or_Lease  Vehicle_Year Vehicle_Make  \\\n",
       "0         V5C 0J4          Purchase          2019   Volkswagen   \n",
       "1         G3M 1W1          Purchase          2019       Nissan   \n",
       "2         G3M 1W1          Purchase          2019       Nissan   \n",
       "3         G3M 1W1          Purchase          2019       Nissan   \n",
       "4         J9P 7B2          Purchase          2019      Hyundai   \n",
       "\n",
       "    Vehicle_Model      Vehicle_Make_Model BEV_PHEV_FCEV BEV_PHEV_FCEV_15  \\\n",
       "0          e-Golf       Volkswagen e-Golf          BEV               YES   \n",
       "1            Leaf             Nissan Leaf          BEV               YES   \n",
       "2            Leaf             Nissan Leaf          BEV               YES   \n",
       "3            Leaf             Nissan Leaf          BEV               YES   \n",
       "4  Ioniq electric  Hyundai Ioniq electric          BEV               YES   \n",
       "\n",
       "  BEV_PHEV_FCEV_15_2022 Eligible_Incentive_Amount   Recipient  \\\n",
       "0                   BEV                     5,000  Individual   \n",
       "1                   BEV                     5,000  Individual   \n",
       "2                   BEV                     5,000  Individual   \n",
       "3                   BEV                     5,000  Individual   \n",
       "4                   BEV                     5,000  Individual   \n",
       "\n",
       "  Recipient_Province Country  \n",
       "0   British Columbia  Canada  \n",
       "1             Quebec  Canada  \n",
       "2             Quebec  Canada  \n",
       "3             Quebec  Canada  \n",
       "4             Quebec  Canada  "
      ]
     },
     "execution_count": 24,
     "metadata": {},
     "output_type": "execute_result"
    }
   ],
   "source": [
    "df_2019.head()"
   ]
  },
  {
   "cell_type": "code",
   "execution_count": 25,
   "id": "b39457b8",
   "metadata": {},
   "outputs": [
    {
     "data": {
      "text/plain": [
       "Request_Date_OK\n",
       "True    202206\n",
       "Name: count, dtype: int64"
      ]
     },
     "execution_count": 25,
     "metadata": {},
     "output_type": "execute_result"
    }
   ],
   "source": [
    "df_2019[\"Request_Date_OK\"] = df_2019[\"Request_Date\"].apply(validate_date)\n",
    "df_2019[\"Request_Date_OK\"].value_counts()"
   ]
  },
  {
   "cell_type": "code",
   "execution_count": 26,
   "id": "f7f6a47b",
   "metadata": {},
   "outputs": [
    {
     "data": {
      "text/plain": [
       "Eligible_Incentive_Amount_OK\n",
       "False    202188\n",
       "True         18\n",
       "Name: count, dtype: int64"
      ]
     },
     "execution_count": 26,
     "metadata": {},
     "output_type": "execute_result"
    }
   ],
   "source": [
    "df_2019[\"Eligible_Incentive_Amount_OK\"] = df_2019[\"Eligible_Incentive_Amount\"].apply(validate_number)\n",
    "df_2019[\"Eligible_Incentive_Amount_OK\"].value_counts()"
   ]
  },
  {
   "cell_type": "code",
   "execution_count": 27,
   "id": "eb79355f",
   "metadata": {},
   "outputs": [
    {
     "data": {
      "text/plain": [
       "0    5,000\n",
       "Name: Eligible_Incentive_Amount, dtype: object"
      ]
     },
     "execution_count": 27,
     "metadata": {},
     "output_type": "execute_result"
    }
   ],
   "source": [
    "df_2019[df_2019[\"Eligible_Incentive_Amount_OK\"] == False].head(1)[\"Eligible_Incentive_Amount\"]"
   ]
  },
  {
   "cell_type": "code",
   "execution_count": 28,
   "id": "be801a8a",
   "metadata": {},
   "outputs": [
    {
     "data": {
      "text/plain": [
       "7026    625\n",
       "Name: Eligible_Incentive_Amount, dtype: object"
      ]
     },
     "execution_count": 28,
     "metadata": {},
     "output_type": "execute_result"
    }
   ],
   "source": [
    "df_2019[df_2019[\"Eligible_Incentive_Amount_OK\"] == True].head(1)[\"Eligible_Incentive_Amount\"]"
   ]
  },
  {
   "cell_type": "markdown",
   "id": "7d3ddd95",
   "metadata": {},
   "source": [
    "**Data 2023**"
   ]
  },
  {
   "cell_type": "code",
   "execution_count": 29,
   "id": "d7ec1a38",
   "metadata": {},
   "outputs": [
    {
     "name": "stdout",
     "output_type": "stream",
     "text": [
      "<class 'pandas.core.frame.DataFrame'>\n",
      "RangeIndex: 166758 entries, 0 to 166757\n",
      "Data columns (total 18 columns):\n",
      " #   Column                     Non-Null Count   Dtype  \n",
      "---  ------                     --------------   -----  \n",
      " 0   Request_Date               166757 non-null  object \n",
      " 1   Month_Year                 166757 non-null  object \n",
      " 2   Fiscal_Year                166757 non-null  object \n",
      " 3   Calendar_Year              166757 non-null  float64\n",
      " 4   Dealership_Province        166757 non-null  object \n",
      " 5   Dealership_Code            166757 non-null  object \n",
      " 6   Purchase_or_Lease          166757 non-null  object \n",
      " 7   Vehicle_Year               166757 non-null  float64\n",
      " 8   Vehicle_Make               166757 non-null  object \n",
      " 9   Vehicle_Model              166757 non-null  object \n",
      " 10  Vehicle_Make_Model         166757 non-null  object \n",
      " 11  BEV_PHEV_FCEV              166757 non-null  object \n",
      " 12  BEV_PHEV_FCEV_15           166757 non-null  object \n",
      " 13  BEV_PHEV_FCEV_15_2022      166757 non-null  object \n",
      " 14  Eligible_Incentive_Amount  166757 non-null  object \n",
      " 15  Recipient                  166757 non-null  object \n",
      " 16  Recipient_Province         166757 non-null  object \n",
      " 17  Country                    166757 non-null  object \n",
      "dtypes: float64(2), object(16)\n",
      "memory usage: 22.9+ MB\n"
     ]
    }
   ],
   "source": [
    "df_2023.info()"
   ]
  },
  {
   "cell_type": "code",
   "execution_count": 30,
   "id": "ea0a536b",
   "metadata": {},
   "outputs": [
    {
     "data": {
      "text/plain": [
       "Request_Date_OK\n",
       "True    166757\n",
       "Name: count, dtype: int64"
      ]
     },
     "execution_count": 30,
     "metadata": {},
     "output_type": "execute_result"
    }
   ],
   "source": [
    "df_2023[\"Request_Date_OK\"] = df_2023[df_2023[\"Request_Date\"].notna()][\"Request_Date\"].apply(validate_date)\n",
    "df_2023[\"Request_Date_OK\"].value_counts()"
   ]
  },
  {
   "cell_type": "code",
   "execution_count": 31,
   "id": "fadf1566",
   "metadata": {},
   "outputs": [
    {
     "data": {
      "text/plain": [
       "Eligible_Incentive_Amount_OK\n",
       "False    166746\n",
       "True         11\n",
       "Name: count, dtype: int64"
      ]
     },
     "execution_count": 31,
     "metadata": {},
     "output_type": "execute_result"
    }
   ],
   "source": [
    "df_2023[\"Eligible_Incentive_Amount_OK\"] = df_2023[df_2023[\"Eligible_Incentive_Amount\"].notna()][\"Eligible_Incentive_Amount\"].apply(validate_number)\n",
    "df_2023[\"Eligible_Incentive_Amount_OK\"].value_counts()"
   ]
  },
  {
   "cell_type": "code",
   "execution_count": 32,
   "id": "af9f1418",
   "metadata": {},
   "outputs": [
    {
     "data": {
      "text/plain": [
       "0    5,000\n",
       "Name: Eligible_Incentive_Amount, dtype: object"
      ]
     },
     "execution_count": 32,
     "metadata": {},
     "output_type": "execute_result"
    }
   ],
   "source": [
    "df_2023[df_2023[\"Eligible_Incentive_Amount_OK\"] == False].head(1)[\"Eligible_Incentive_Amount\"]"
   ]
  },
  {
   "cell_type": "code",
   "execution_count": 33,
   "id": "e9970888",
   "metadata": {},
   "outputs": [
    {
     "data": {
      "text/plain": [
       "1027    625\n",
       "Name: Eligible_Incentive_Amount, dtype: object"
      ]
     },
     "execution_count": 33,
     "metadata": {},
     "output_type": "execute_result"
    }
   ],
   "source": [
    "df_2023[df_2023[\"Eligible_Incentive_Amount_OK\"] == True].head(1)[\"Eligible_Incentive_Amount\"]"
   ]
  },
  {
   "cell_type": "markdown",
   "id": "bf47ea68",
   "metadata": {},
   "source": [
    "**Data 2024**"
   ]
  },
  {
   "cell_type": "code",
   "execution_count": 34,
   "id": "b997198a",
   "metadata": {},
   "outputs": [
    {
     "name": "stdout",
     "output_type": "stream",
     "text": [
      "<class 'pandas.core.frame.DataFrame'>\n",
      "RangeIndex: 90325 entries, 0 to 90324\n",
      "Data columns (total 18 columns):\n",
      " #   Column                     Non-Null Count  Dtype \n",
      "---  ------                     --------------  ----- \n",
      " 0   Request_Date               90325 non-null  object\n",
      " 1   Month_Year                 90325 non-null  object\n",
      " 2   Fiscal_Year                90325 non-null  object\n",
      " 3   Calendar_Year              90325 non-null  int64 \n",
      " 4   Dealership_Province        90325 non-null  object\n",
      " 5   Dealership_Code            90325 non-null  object\n",
      " 6   Purchase_or_Lease          90325 non-null  object\n",
      " 7   Vehicle_Year               90325 non-null  int64 \n",
      " 8   Vehicle_Make               90325 non-null  object\n",
      " 9   Vehicle_Model              90325 non-null  object\n",
      " 10  Vehicle_Make_Model         90325 non-null  object\n",
      " 11  BEV_PHEV_FCEV              90325 non-null  object\n",
      " 12  BEV_PHEV_FCEV_15           90325 non-null  object\n",
      " 13  BEV_PHEV_FCEV_15_2022      90325 non-null  object\n",
      " 14  Eligible_Incentive_Amount  90325 non-null  object\n",
      " 15  Recipient                  90325 non-null  object\n",
      " 16  Recipient_Province         90325 non-null  object\n",
      " 17  Country                    90325 non-null  object\n",
      "dtypes: int64(2), object(16)\n",
      "memory usage: 12.4+ MB\n"
     ]
    }
   ],
   "source": [
    "df_2024.info()"
   ]
  },
  {
   "cell_type": "code",
   "execution_count": 35,
   "id": "8dc69911",
   "metadata": {},
   "outputs": [
    {
     "data": {
      "text/plain": [
       "Request_Date_OK\n",
       "True    90325\n",
       "Name: count, dtype: int64"
      ]
     },
     "execution_count": 35,
     "metadata": {},
     "output_type": "execute_result"
    }
   ],
   "source": [
    "df_2024[\"Request_Date_OK\"] = df_2024[\"Request_Date\"].apply(validate_date)\n",
    "df_2024[\"Request_Date_OK\"].value_counts()"
   ]
  },
  {
   "cell_type": "code",
   "execution_count": 36,
   "id": "d23c1cfd",
   "metadata": {},
   "outputs": [
    {
     "data": {
      "text/plain": [
       "Eligible_Incentive_Amount_OK\n",
       "False    90322\n",
       "True         3\n",
       "Name: count, dtype: int64"
      ]
     },
     "execution_count": 36,
     "metadata": {},
     "output_type": "execute_result"
    }
   ],
   "source": [
    "df_2024[\"Eligible_Incentive_Amount_OK\"] = df_2024[\"Eligible_Incentive_Amount\"].apply(validate_number)\n",
    "df_2024[\"Eligible_Incentive_Amount_OK\"].value_counts()"
   ]
  },
  {
   "cell_type": "code",
   "execution_count": 37,
   "id": "fdc58dfe",
   "metadata": {},
   "outputs": [
    {
     "data": {
      "text/plain": [
       "0    5,000\n",
       "Name: Eligible_Incentive_Amount, dtype: object"
      ]
     },
     "execution_count": 37,
     "metadata": {},
     "output_type": "execute_result"
    }
   ],
   "source": [
    "df_2024[df_2024[\"Eligible_Incentive_Amount_OK\"] == False].head(1)[\"Eligible_Incentive_Amount\"]"
   ]
  },
  {
   "cell_type": "code",
   "execution_count": 38,
   "id": "cabf2e47",
   "metadata": {},
   "outputs": [
    {
     "data": {
      "text/plain": [
       "21811    625\n",
       "Name: Eligible_Incentive_Amount, dtype: object"
      ]
     },
     "execution_count": 38,
     "metadata": {},
     "output_type": "execute_result"
    }
   ],
   "source": [
    "df_2024[df_2024[\"Eligible_Incentive_Amount_OK\"] == True].head(1)[\"Eligible_Incentive_Amount\"]"
   ]
  },
  {
   "cell_type": "markdown",
   "id": "c6b0bb77",
   "metadata": {},
   "source": [
    "#### 3.2.2. Cleaning"
   ]
  },
  {
   "cell_type": "markdown",
   "id": "4c6194f2",
   "metadata": {},
   "source": [
    "##### 3.2.2.1. Remove missing values"
   ]
  },
  {
   "cell_type": "markdown",
   "id": "a7057b40",
   "metadata": {},
   "source": [
    "**Data 2023**"
   ]
  },
  {
   "cell_type": "code",
   "execution_count": 39,
   "id": "354fd6e7",
   "metadata": {},
   "outputs": [
    {
     "name": "stdout",
     "output_type": "stream",
     "text": [
      "Total missing values by columns:\n"
     ]
    },
    {
     "data": {
      "text/plain": [
       "Request_Date                    0\n",
       "Month_Year                      0\n",
       "Fiscal_Year                     0\n",
       "Calendar_Year                   0\n",
       "Dealership_Province             0\n",
       "Dealership_Code                 0\n",
       "Purchase_or_Lease               0\n",
       "Vehicle_Year                    0\n",
       "Vehicle_Make                    0\n",
       "Vehicle_Model                   0\n",
       "Vehicle_Make_Model              0\n",
       "BEV_PHEV_FCEV                   0\n",
       "BEV_PHEV_FCEV_15                0\n",
       "BEV_PHEV_FCEV_15_2022           0\n",
       "Eligible_Incentive_Amount       0\n",
       "Recipient                       0\n",
       "Recipient_Province              0\n",
       "Country                         0\n",
       "Request_Date_OK                 0\n",
       "Eligible_Incentive_Amount_OK    0\n",
       "dtype: int64"
      ]
     },
     "execution_count": 39,
     "metadata": {},
     "output_type": "execute_result"
    }
   ],
   "source": [
    "# Remove rows where all values are NaN\n",
    "df_2023 = df_2023.dropna(how = \"all\")\n",
    "\n",
    "print(\"Total missing values by columns:\")\n",
    "df_2023.isnull().sum()"
   ]
  },
  {
   "cell_type": "markdown",
   "id": "b2a295f7",
   "metadata": {},
   "source": [
    "##### 3.2.2.2. Remove duplcated data\n",
    "\n",
    "Depending on the type of problem, it would be necessary treat this data as duplicated or not. For the purpose of this project, they are going to be treated as duplicated."
   ]
  },
  {
   "cell_type": "markdown",
   "id": "ebd62ab8",
   "metadata": {},
   "source": [
    "**Data 2019**"
   ]
  },
  {
   "cell_type": "code",
   "execution_count": 40,
   "id": "4db5e48d",
   "metadata": {},
   "outputs": [
    {
     "name": "stdout",
     "output_type": "stream",
     "text": [
      "Total duplicated values 0 from 126974\n"
     ]
    }
   ],
   "source": [
    "# Remove duplicated values\n",
    "df_2019 = df_2019.drop_duplicates()\n",
    "print(f\"Total duplicated values {df_2019.duplicated().sum()} from {df_2019.duplicated().count()}\")"
   ]
  },
  {
   "cell_type": "markdown",
   "id": "c617f50e",
   "metadata": {},
   "source": [
    "**Data 2023**"
   ]
  },
  {
   "cell_type": "code",
   "execution_count": 41,
   "id": "26704439",
   "metadata": {},
   "outputs": [
    {
     "name": "stdout",
     "output_type": "stream",
     "text": [
      "Total duplicated values 0 from 97323\n"
     ]
    }
   ],
   "source": [
    "# Remove duplicated values\n",
    "df_2023 = df_2023.drop_duplicates()\n",
    "print(f\"Total duplicated values {df_2023.duplicated().sum()} from {df_2023.duplicated().count()}\")"
   ]
  },
  {
   "cell_type": "markdown",
   "id": "6471b8ee",
   "metadata": {},
   "source": [
    "**Data 2024**"
   ]
  },
  {
   "cell_type": "code",
   "execution_count": 42,
   "id": "94754d0e",
   "metadata": {},
   "outputs": [
    {
     "name": "stdout",
     "output_type": "stream",
     "text": [
      "Total duplicated values 0 from 60094\n"
     ]
    }
   ],
   "source": [
    "# Remove duplicated values\n",
    "df_2024 = df_2024.drop_duplicates()\n",
    "print(f\"Total duplicated values {df_2024.duplicated().sum()} from {df_2024.duplicated().count()}\")"
   ]
  },
  {
   "cell_type": "markdown",
   "id": "fb43c66f",
   "metadata": {},
   "source": [
    "##### 3.2.2.3. Remove white spaces\n",
    "\n",
    "The idea of this transformation is to reduce cardinality, for example: \"V5L 1H7\" is different than \" V5L 1H7 \"."
   ]
  },
  {
   "cell_type": "code",
   "execution_count": 43,
   "id": "fb0b9522",
   "metadata": {},
   "outputs": [],
   "source": [
    "string_columns = [\"Month_Year\", \"Fiscal_Year\", \"Dealership_Province\", \"Dealership_Code\", \"Purchase_or_Lease\", \"Vehicle_Make\", \"Vehicle_Model\", \"Vehicle_Make_Model\",\n",
    "                  \"BEV_PHEV_FCEV\", \"BEV_PHEV_FCEV_15\", \"BEV_PHEV_FCEV_15_2022\", \"Recipient\", \"Recipient_Province\", \"Country\"]"
   ]
  },
  {
   "cell_type": "markdown",
   "id": "fe042e31",
   "metadata": {},
   "source": [
    "**Data 2019**"
   ]
  },
  {
   "cell_type": "code",
   "execution_count": 44,
   "id": "07eea395",
   "metadata": {},
   "outputs": [],
   "source": [
    "for c in string_columns:\n",
    "    df_2019[c] = df_2019[c].str.strip()"
   ]
  },
  {
   "cell_type": "markdown",
   "id": "34f19a84",
   "metadata": {},
   "source": [
    "**Data 2023**"
   ]
  },
  {
   "cell_type": "code",
   "execution_count": 45,
   "id": "99bb25fb",
   "metadata": {},
   "outputs": [],
   "source": [
    "for c in string_columns:\n",
    "    df_2023[c] = df_2023[c].str.strip()"
   ]
  },
  {
   "cell_type": "markdown",
   "id": "720e1eed",
   "metadata": {},
   "source": [
    "**Data 2024**"
   ]
  },
  {
   "cell_type": "code",
   "execution_count": 46,
   "id": "ba23b8d1",
   "metadata": {},
   "outputs": [],
   "source": [
    "for c in string_columns:\n",
    "    df_2024[c] = df_2024[c].str.strip()"
   ]
  },
  {
   "cell_type": "markdown",
   "id": "7d4e6d5b",
   "metadata": {},
   "source": [
    "##### 3.2.2.4. Convert a string to uppercase\n",
    "\n",
    "The idea of this transformation is to reduce cardinality, for example: \"V5L 1H7\" is different than \"vsl 1H7\"."
   ]
  },
  {
   "cell_type": "markdown",
   "id": "cce75cdf",
   "metadata": {},
   "source": [
    "**Data 2019**"
   ]
  },
  {
   "cell_type": "code",
   "execution_count": 47,
   "id": "12cd46bf",
   "metadata": {},
   "outputs": [],
   "source": [
    "for c in string_columns:\n",
    "    df_2019[c] = df_2019[c].str.upper()"
   ]
  },
  {
   "cell_type": "markdown",
   "id": "7bf2a48b",
   "metadata": {},
   "source": [
    "**Data 2023**"
   ]
  },
  {
   "cell_type": "code",
   "execution_count": 48,
   "id": "13dcd82f",
   "metadata": {},
   "outputs": [],
   "source": [
    "for c in string_columns:\n",
    "    df_2023[c] = df_2023[c].str.upper()"
   ]
  },
  {
   "cell_type": "markdown",
   "id": "84807f55",
   "metadata": {},
   "source": [
    "**Data 2024**"
   ]
  },
  {
   "cell_type": "code",
   "execution_count": 49,
   "id": "0e207e2f",
   "metadata": {},
   "outputs": [],
   "source": [
    "for c in string_columns:\n",
    "    df_2024[c] = df_2024[c].str.upper()"
   ]
  },
  {
   "cell_type": "markdown",
   "id": "91f439f2",
   "metadata": {},
   "source": [
    "##### 3.2.2.5. Convert a string to number (if applicable)\n",
    "\n",
    "Some number were identify as invalid by validation function, the reason was they had a comma, so it is necessary to remove it, in order to apply numeric transformation."
   ]
  },
  {
   "cell_type": "markdown",
   "id": "920239e1",
   "metadata": {},
   "source": [
    "**Data 2019**"
   ]
  },
  {
   "cell_type": "code",
   "execution_count": 50,
   "id": "c072dc33",
   "metadata": {},
   "outputs": [],
   "source": [
    "df_2019[\"Eligible_Incentive_Amount\"] = df_2019[\"Eligible_Incentive_Amount\"].str.replace(\",\", \"\")"
   ]
  },
  {
   "cell_type": "code",
   "execution_count": 51,
   "id": "7b73117a",
   "metadata": {},
   "outputs": [],
   "source": [
    "df_2019[\"Eligible_Incentive_Amount\"] = pd.to_numeric(df_2019[\"Eligible_Incentive_Amount\"])"
   ]
  },
  {
   "cell_type": "code",
   "execution_count": 52,
   "id": "69841d85",
   "metadata": {},
   "outputs": [
    {
     "name": "stdout",
     "output_type": "stream",
     "text": [
      "<class 'pandas.core.frame.DataFrame'>\n",
      "Index: 126974 entries, 0 to 202205\n",
      "Data columns (total 20 columns):\n",
      " #   Column                        Non-Null Count   Dtype \n",
      "---  ------                        --------------   ----- \n",
      " 0   Request_Date                  126974 non-null  object\n",
      " 1   Month_Year                    126974 non-null  object\n",
      " 2   Fiscal_Year                   126974 non-null  object\n",
      " 3   Calendar_Year                 126974 non-null  int64 \n",
      " 4   Dealership_Province           126974 non-null  object\n",
      " 5   Dealership_Code               126974 non-null  object\n",
      " 6   Purchase_or_Lease             126974 non-null  object\n",
      " 7   Vehicle_Year                  126974 non-null  int64 \n",
      " 8   Vehicle_Make                  126974 non-null  object\n",
      " 9   Vehicle_Model                 126974 non-null  object\n",
      " 10  Vehicle_Make_Model            126974 non-null  object\n",
      " 11  BEV_PHEV_FCEV                 126974 non-null  object\n",
      " 12  BEV_PHEV_FCEV_15              126974 non-null  object\n",
      " 13  BEV_PHEV_FCEV_15_2022         126974 non-null  object\n",
      " 14  Eligible_Incentive_Amount     126974 non-null  int64 \n",
      " 15  Recipient                     126974 non-null  object\n",
      " 16  Recipient_Province            126974 non-null  object\n",
      " 17  Country                       126974 non-null  object\n",
      " 18  Request_Date_OK               126974 non-null  bool  \n",
      " 19  Eligible_Incentive_Amount_OK  126974 non-null  bool  \n",
      "dtypes: bool(2), int64(3), object(15)\n",
      "memory usage: 18.6+ MB\n"
     ]
    }
   ],
   "source": [
    "df_2019.info()"
   ]
  },
  {
   "cell_type": "markdown",
   "id": "8f230e0d",
   "metadata": {},
   "source": [
    "**Data 2023**"
   ]
  },
  {
   "cell_type": "code",
   "execution_count": 53,
   "id": "e3757da8",
   "metadata": {},
   "outputs": [],
   "source": [
    "df_2023[\"Eligible_Incentive_Amount\"] = df_2023[\"Eligible_Incentive_Amount\"].str.replace(\",\", \"\")"
   ]
  },
  {
   "cell_type": "code",
   "execution_count": 54,
   "id": "dabff27f",
   "metadata": {},
   "outputs": [],
   "source": [
    "df_2023[\"Eligible_Incentive_Amount\"] = pd.to_numeric(df_2023[\"Eligible_Incentive_Amount\"])"
   ]
  },
  {
   "cell_type": "code",
   "execution_count": 55,
   "id": "8762c554",
   "metadata": {},
   "outputs": [
    {
     "name": "stdout",
     "output_type": "stream",
     "text": [
      "<class 'pandas.core.frame.DataFrame'>\n",
      "Index: 97323 entries, 0 to 166735\n",
      "Data columns (total 20 columns):\n",
      " #   Column                        Non-Null Count  Dtype  \n",
      "---  ------                        --------------  -----  \n",
      " 0   Request_Date                  97323 non-null  object \n",
      " 1   Month_Year                    97323 non-null  object \n",
      " 2   Fiscal_Year                   97323 non-null  object \n",
      " 3   Calendar_Year                 97323 non-null  float64\n",
      " 4   Dealership_Province           97323 non-null  object \n",
      " 5   Dealership_Code               97323 non-null  object \n",
      " 6   Purchase_or_Lease             97323 non-null  object \n",
      " 7   Vehicle_Year                  97323 non-null  float64\n",
      " 8   Vehicle_Make                  97323 non-null  object \n",
      " 9   Vehicle_Model                 97323 non-null  object \n",
      " 10  Vehicle_Make_Model            97323 non-null  object \n",
      " 11  BEV_PHEV_FCEV                 97323 non-null  object \n",
      " 12  BEV_PHEV_FCEV_15              97323 non-null  object \n",
      " 13  BEV_PHEV_FCEV_15_2022         97323 non-null  object \n",
      " 14  Eligible_Incentive_Amount     97323 non-null  int64  \n",
      " 15  Recipient                     97323 non-null  object \n",
      " 16  Recipient_Province            97323 non-null  object \n",
      " 17  Country                       97323 non-null  object \n",
      " 18  Request_Date_OK               97323 non-null  object \n",
      " 19  Eligible_Incentive_Amount_OK  97323 non-null  object \n",
      "dtypes: float64(2), int64(1), object(17)\n",
      "memory usage: 15.6+ MB\n"
     ]
    }
   ],
   "source": [
    "df_2023.info()"
   ]
  },
  {
   "cell_type": "markdown",
   "id": "797d8bbd",
   "metadata": {},
   "source": [
    "**Data 2024**"
   ]
  },
  {
   "cell_type": "code",
   "execution_count": 56,
   "id": "dfbbc454",
   "metadata": {},
   "outputs": [],
   "source": [
    "df_2024[\"Eligible_Incentive_Amount\"] = df_2024[\"Eligible_Incentive_Amount\"].str.replace(\",\", \"\")"
   ]
  },
  {
   "cell_type": "code",
   "execution_count": 57,
   "id": "d6d22ce8",
   "metadata": {},
   "outputs": [],
   "source": [
    "df_2024[\"Eligible_Incentive_Amount\"] = pd.to_numeric(df_2024[\"Eligible_Incentive_Amount\"])"
   ]
  },
  {
   "cell_type": "code",
   "execution_count": 58,
   "id": "6a36e17a",
   "metadata": {},
   "outputs": [
    {
     "name": "stdout",
     "output_type": "stream",
     "text": [
      "<class 'pandas.core.frame.DataFrame'>\n",
      "Index: 60094 entries, 0 to 90282\n",
      "Data columns (total 20 columns):\n",
      " #   Column                        Non-Null Count  Dtype \n",
      "---  ------                        --------------  ----- \n",
      " 0   Request_Date                  60094 non-null  object\n",
      " 1   Month_Year                    60094 non-null  object\n",
      " 2   Fiscal_Year                   60094 non-null  object\n",
      " 3   Calendar_Year                 60094 non-null  int64 \n",
      " 4   Dealership_Province           60094 non-null  object\n",
      " 5   Dealership_Code               60094 non-null  object\n",
      " 6   Purchase_or_Lease             60094 non-null  object\n",
      " 7   Vehicle_Year                  60094 non-null  int64 \n",
      " 8   Vehicle_Make                  60094 non-null  object\n",
      " 9   Vehicle_Model                 60094 non-null  object\n",
      " 10  Vehicle_Make_Model            60094 non-null  object\n",
      " 11  BEV_PHEV_FCEV                 60094 non-null  object\n",
      " 12  BEV_PHEV_FCEV_15              60094 non-null  object\n",
      " 13  BEV_PHEV_FCEV_15_2022         60094 non-null  object\n",
      " 14  Eligible_Incentive_Amount     60094 non-null  int64 \n",
      " 15  Recipient                     60094 non-null  object\n",
      " 16  Recipient_Province            60094 non-null  object\n",
      " 17  Country                       60094 non-null  object\n",
      " 18  Request_Date_OK               60094 non-null  bool  \n",
      " 19  Eligible_Incentive_Amount_OK  60094 non-null  bool  \n",
      "dtypes: bool(2), int64(3), object(15)\n",
      "memory usage: 8.8+ MB\n"
     ]
    }
   ],
   "source": [
    "df_2024.info()"
   ]
  },
  {
   "cell_type": "markdown",
   "id": "282c1e6f",
   "metadata": {},
   "source": [
    "### 3.3. Load"
   ]
  },
  {
   "cell_type": "markdown",
   "id": "5bc69e15",
   "metadata": {},
   "source": [
    "#### 3.3.1. Script to create database"
   ]
  },
  {
   "cell_type": "markdown",
   "id": "916b0627",
   "metadata": {},
   "source": [
    "```sql\n",
    "CREATE DATABASE IZEV_EDA\n",
    "GO\n",
    "\n",
    "USE IZEV_EDA\n",
    "GO\n",
    "\n",
    "CREATE TABLE dbo.Incentives (\n",
    "\tId INT NOT NULL IDENTITY,\n",
    "\tRequest_Date DATE NOT NULL,\n",
    "\tMonth_Year VARCHAR(100) NOT NULL,\n",
    "\tFiscal_Year VARCHAR(100) NOT NULL,\n",
    "\tCalendar_Year INT NOT NULL,\n",
    "\tDealership_Province VARCHAR(50) NOT NULL,\n",
    "\tDealership_Code VARCHAR(50) NOT NULL,\n",
    "\tPurchase_or_Lease VARCHAR(50) NOT NULL,\n",
    "\tVehicle_Year INT NOT NULL,\n",
    "\tVehicle_Make VARCHAR(100) NOT NULL,\n",
    "\tVehicle_Model VARCHAR(100) NOT NULL,\n",
    "\tVehicle_Make_Model VARCHAR(100) NOT NULL,\n",
    "\tBEV_PHEV_FCEV VARCHAR(20) NOT NULL,\n",
    "\tBEV_PHEV_FCEV_15 VARCHAR(20) NOT NULL,\n",
    "\tBEV_PHEV_FCEV_15_2022 VARCHAR(20) NOT NULL,\n",
    "\tEligible_Incentive_Amount INT NOT NULL,\n",
    "\tRecipient VARCHAR(50) NOT NULL,\n",
    "\tRecipient_Province VARCHAR(50) NOT NULL,\n",
    "\tCountry VARCHAR(50) NOT NULL,\n",
    "\tFile_Origin VARCHAR(100) NOT NULL,\n",
    "\n",
    "    CONSTRAINT PK_dbo_Incentives PRIMARY KEY (Id)\n",
    ")  ON [PRIMARY]\n",
    "GO\n",
    "\n",
    "SELECT * FROM dbo.Incentives\n",
    "GO\n",
    "```"
   ]
  },
  {
   "cell_type": "markdown",
   "id": "2a60cdcd",
   "metadata": {},
   "source": [
    "#### 3.3.2. Prepare connection information"
   ]
  },
  {
   "cell_type": "code",
   "execution_count": 59,
   "id": "9029c865",
   "metadata": {},
   "outputs": [],
   "source": [
    "import pyodbc\n",
    "from dotenv import load_dotenv"
   ]
  },
  {
   "cell_type": "code",
   "execution_count": 60,
   "id": "8eaf3e40",
   "metadata": {},
   "outputs": [
    {
     "data": {
      "text/plain": [
       "True"
      ]
     },
     "execution_count": 60,
     "metadata": {},
     "output_type": "execute_result"
    }
   ],
   "source": [
    "load_dotenv()"
   ]
  },
  {
   "cell_type": "markdown",
   "id": "3f4288a3",
   "metadata": {},
   "source": [
    "Get database connection information"
   ]
  },
  {
   "cell_type": "code",
   "execution_count": 61,
   "id": "0608cf5c",
   "metadata": {},
   "outputs": [],
   "source": [
    "MSSQL_SERVER = os.getenv(\"MSSQL_SERVER\")\n",
    "MSSQL_DATABASE = os.getenv(\"MSSQL_DATABASE\")\n",
    "MSSQL_USERNAME = os.getenv(\"MSSQL_USERNAME\")\n",
    "MSSQL_PASSWORD = os.getenv(\"MSSQL_PASSWORD\")"
   ]
  },
  {
   "cell_type": "code",
   "execution_count": 62,
   "id": "0bb5dc72",
   "metadata": {},
   "outputs": [],
   "source": [
    "connection_string = f\"DRIVER={{ODBC Driver 18 for SQL Server}};SERVER={MSSQL_SERVER};DATABASE={MSSQL_DATABASE};UID={MSSQL_USERNAME};PWD={MSSQL_PASSWORD};TrustServerCertificate=yes\""
   ]
  },
  {
   "cell_type": "markdown",
   "id": "4f933108",
   "metadata": {},
   "source": [
    "Build insertion script"
   ]
  },
  {
   "cell_type": "code",
   "execution_count": 63,
   "id": "23f0d90a",
   "metadata": {},
   "outputs": [],
   "source": [
    "table_destination_sql = \"dbo.Incentives\""
   ]
  },
  {
   "cell_type": "code",
   "execution_count": 64,
   "id": "078fd253",
   "metadata": {},
   "outputs": [],
   "source": [
    "columns = [\"Request_Date\", \"Month_Year\", \"Fiscal_Year\", \"Calendar_Year\", \"Dealership_Province\", \"Dealership_Code\", \"Purchase_or_Lease\", \"Vehicle_Year\", \"Vehicle_Make\", \n",
    "            \"Vehicle_Model\", \"Vehicle_Make_Model\", \"BEV_PHEV_FCEV\", \"BEV_PHEV_FCEV_15\", \"BEV_PHEV_FCEV_15_2022\", \"Eligible_Incentive_Amount\",\n",
    "            \"Recipient\", \"Recipient_Province\", \"Country\", \"File_Origin\"]"
   ]
  },
  {
   "cell_type": "code",
   "execution_count": 65,
   "id": "ec504b19",
   "metadata": {},
   "outputs": [
    {
     "name": "stdout",
     "output_type": "stream",
     "text": [
      "INSERT INTO dbo.Incentives (Request_Date,Month_Year,Fiscal_Year,Calendar_Year,Dealership_Province,Dealership_Code,Purchase_or_Lease,Vehicle_Year,Vehicle_Make,Vehicle_Model,Vehicle_Make_Model,BEV_PHEV_FCEV,BEV_PHEV_FCEV_15,BEV_PHEV_FCEV_15_2022,Eligible_Incentive_Amount,Recipient,Recipient_Province,Country,File_Origin) VALUES (?,?,?,?,?,?,?,?,?,?,?,?,?,?,?,?,?,?,?)\n"
     ]
    }
   ],
   "source": [
    "sql_query_columns = \",\".join(columns)\n",
    "sql_query_values = \",\".join([\"?\" for c in range(len(columns))])\n",
    "sql_query = f\"INSERT INTO {table_destination_sql} ({sql_query_columns}) VALUES ({sql_query_values})\"\n",
    "print(sql_query)"
   ]
  },
  {
   "cell_type": "markdown",
   "id": "45a5ad9c",
   "metadata": {},
   "source": [
    "#### 3.3.3. Initial load\n",
    "\n",
    "The first file is the initial load."
   ]
  },
  {
   "cell_type": "markdown",
   "id": "d78e398c",
   "metadata": {},
   "source": [
    "Clean table"
   ]
  },
  {
   "cell_type": "code",
   "execution_count": 66,
   "id": "84160ada",
   "metadata": {},
   "outputs": [],
   "source": [
    "connection = pyodbc.connect(connection_string)\n",
    "cursor = connection.cursor()\n",
    "cursor.execute(f\"TRUNCATE TABLE {table_destination_sql}\")\n",
    "cursor.close()\n",
    "connection.commit()\n",
    "connection.close()"
   ]
  },
  {
   "cell_type": "markdown",
   "id": "583a248e",
   "metadata": {},
   "source": [
    "Load data"
   ]
  },
  {
   "cell_type": "code",
   "execution_count": 67,
   "id": "19e108f1",
   "metadata": {},
   "outputs": [],
   "source": [
    "connection = pyodbc.connect(connection_string)\n",
    "cursor = connection.cursor()\n",
    "for index, row in df_2019.iterrows():\n",
    "    cursor.execute(sql_query, \n",
    "                    row[\"Request_Date\"], \n",
    "                    row[\"Month_Year\"], \n",
    "                    row[\"Fiscal_Year\"],\n",
    "                    row[\"Calendar_Year\"],\n",
    "                    row[\"Dealership_Province\"],\n",
    "                    row[\"Dealership_Code\"],\n",
    "                    row[\"Purchase_or_Lease\"],\n",
    "                    row[\"Vehicle_Year\"],\n",
    "                    row[\"Vehicle_Make\"],\n",
    "                    row[\"Vehicle_Model\"],\n",
    "                    row[\"Vehicle_Make_Model\"],\n",
    "                    row[\"BEV_PHEV_FCEV\"],\n",
    "                    row[\"BEV_PHEV_FCEV_15\"],\n",
    "                    row[\"BEV_PHEV_FCEV_15_2022\"],\n",
    "                    row[\"Eligible_Incentive_Amount\"],\n",
    "                    row[\"Recipient\"],\n",
    "                    row[\"Recipient_Province\"],\n",
    "                    row[\"Country\"],\n",
    "                    \"iZEV_Data_2019.csv\"\n",
    "                    )\n",
    "connection.commit()\n",
    "cursor.close()\n",
    "connection.close()"
   ]
  },
  {
   "cell_type": "markdown",
   "id": "ef356f0c",
   "metadata": {},
   "source": [
    "#### 3.3.4. Incremental load\n",
    "\n",
    "The rest of the files are going to added to current data in the database."
   ]
  },
  {
   "cell_type": "markdown",
   "id": "29f0856e",
   "metadata": {},
   "source": [
    "**Data 2023**"
   ]
  },
  {
   "cell_type": "code",
   "execution_count": 68,
   "id": "0e415f1f",
   "metadata": {},
   "outputs": [],
   "source": [
    "connection = pyodbc.connect(connection_string)\n",
    "cursor = connection.cursor()\n",
    "for index, row in df_2023.iterrows():\n",
    "    cursor.execute(sql_query, \n",
    "                    row[\"Request_Date\"], \n",
    "                    row[\"Month_Year\"], \n",
    "                    row[\"Fiscal_Year\"],\n",
    "                    row[\"Calendar_Year\"],\n",
    "                    row[\"Dealership_Province\"],\n",
    "                    row[\"Dealership_Code\"],\n",
    "                    row[\"Purchase_or_Lease\"],\n",
    "                    row[\"Vehicle_Year\"],\n",
    "                    row[\"Vehicle_Make\"],\n",
    "                    row[\"Vehicle_Model\"],\n",
    "                    row[\"Vehicle_Make_Model\"],\n",
    "                    row[\"BEV_PHEV_FCEV\"],\n",
    "                    row[\"BEV_PHEV_FCEV_15\"],\n",
    "                    row[\"BEV_PHEV_FCEV_15_2022\"],\n",
    "                    row[\"Eligible_Incentive_Amount\"],\n",
    "                    row[\"Recipient\"],\n",
    "                    row[\"Recipient_Province\"],\n",
    "                    row[\"Country\"],\n",
    "                    \"iZEV_Data_2023.csv\"\n",
    "                    )\n",
    "connection.commit()\n",
    "cursor.close()\n",
    "connection.close()"
   ]
  },
  {
   "cell_type": "markdown",
   "id": "4105adc4",
   "metadata": {},
   "source": [
    "**Data 2024**"
   ]
  },
  {
   "cell_type": "code",
   "execution_count": 69,
   "id": "e60e3943",
   "metadata": {},
   "outputs": [],
   "source": [
    "connection = pyodbc.connect(connection_string)\n",
    "cursor = connection.cursor()\n",
    "for index, row in df_2024.iterrows():\n",
    "    cursor.execute(sql_query, \n",
    "                    row[\"Request_Date\"], \n",
    "                    row[\"Month_Year\"], \n",
    "                    row[\"Fiscal_Year\"],\n",
    "                    row[\"Calendar_Year\"],\n",
    "                    row[\"Dealership_Province\"],\n",
    "                    row[\"Dealership_Code\"],\n",
    "                    row[\"Purchase_or_Lease\"],\n",
    "                    row[\"Vehicle_Year\"],\n",
    "                    row[\"Vehicle_Make\"],\n",
    "                    row[\"Vehicle_Model\"],\n",
    "                    row[\"Vehicle_Make_Model\"],\n",
    "                    row[\"BEV_PHEV_FCEV\"],\n",
    "                    row[\"BEV_PHEV_FCEV_15\"],\n",
    "                    row[\"BEV_PHEV_FCEV_15_2022\"],\n",
    "                    row[\"Eligible_Incentive_Amount\"],\n",
    "                    row[\"Recipient\"],\n",
    "                    row[\"Recipient_Province\"],\n",
    "                    row[\"Country\"],\n",
    "                    \"iZEV_Data_2024.csv\"\n",
    "                    )\n",
    "connection.commit()\n",
    "cursor.close()\n",
    "connection.close()"
   ]
  },
  {
   "cell_type": "markdown",
   "id": "6661107e",
   "metadata": {},
   "source": [
    "#### 3.3.5. Show data"
   ]
  },
  {
   "cell_type": "code",
   "execution_count": 74,
   "id": "8747ec32",
   "metadata": {},
   "outputs": [
    {
     "name": "stdout",
     "output_type": "stream",
     "text": [
      "iZEV_Data_2019.csv: 126974\n",
      "iZEV_Data_2024.csv: 60094\n",
      "iZEV_Data_2023.csv: 97323\n"
     ]
    }
   ],
   "source": [
    "connection = pyodbc.connect(connection_string)\n",
    "cursor = connection.cursor()\n",
    "cursor.execute(f\"SELECT File_Origin, COUNT(1) Total FROM {table_destination_sql} (NOLOCK) GROUP BY File_Origin\")\n",
    "for row in cursor.fetchall():\n",
    "    print(f\"{row[0]}: {row[1]}\")\n",
    "cursor.close()\n",
    "connection.close()"
   ]
  },
  {
   "cell_type": "code",
   "execution_count": null,
   "id": "91fa1234",
   "metadata": {},
   "outputs": [],
   "source": []
  }
 ],
 "metadata": {
  "kernelspec": {
   "display_name": "base",
   "language": "python",
   "name": "python3"
  },
  "language_info": {
   "codemirror_mode": {
    "name": "ipython",
    "version": 3
   },
   "file_extension": ".py",
   "mimetype": "text/x-python",
   "name": "python",
   "nbconvert_exporter": "python",
   "pygments_lexer": "ipython3",
   "version": "3.11.9"
  }
 },
 "nbformat": 4,
 "nbformat_minor": 5
}
